{
  "nbformat": 4,
  "nbformat_minor": 0,
  "metadata": {
    "colab": {
      "name": "Analise exploratoria.ipynb",
      "provenance": [],
      "collapsed_sections": [],
      "toc_visible": true,
      "mount_file_id": "https://github.com/bruno-albino/exploratory-analysis-ifsp/blob/main/Analise_exploratoria.ipynb",
      "authorship_tag": "ABX9TyMc58+d6V+8XQzBXnlAgnbW",
      "include_colab_link": true
    },
    "kernelspec": {
      "name": "python3",
      "display_name": "Python 3"
    },
    "language_info": {
      "name": "python"
    }
  },
  "cells": [
    {
      "cell_type": "markdown",
      "metadata": {
        "id": "view-in-github",
        "colab_type": "text"
      },
      "source": [
        "<a href=\"https://colab.research.google.com/github/bruno-albino/exploratory-analysis-ifsp/blob/main/Analise_exploratoria.ipynb\" target=\"_parent\"><img src=\"https://colab.research.google.com/assets/colab-badge.svg\" alt=\"Open In Colab\"/></a>"
      ]
    },
    {
      "cell_type": "markdown",
      "metadata": {
        "id": "11BRvpKokC01"
      },
      "source": [
        "# **Top 8800 Twitch Streamers**\n",
        "### Top of the best streams based on watch time.\n",
        "\n",
        "###### Nome: Bruno da Silva Albino CP: 300273X\n",
        "###### Nome: Eduardo Bueno CP: 300273X\n",
        "---\n"
      ]
    },
    {
      "cell_type": "markdown",
      "metadata": {
        "id": "iftewfmskgAR"
      },
      "source": [
        "Disciplina: Inteligência Artificial\n",
        "\n",
        "Professor: Samuel Martins\n",
        "\n",
        "\n",
        "---\n",
        "\n"
      ]
    },
    {
      "cell_type": "code",
      "metadata": {
        "id": "LDVb8Ii0lhIZ"
      },
      "source": [
        "import pandas as pd\n",
        "import seaborn as sns\n",
        "import matplotlib.pyplot as plt\n",
        "import numpy as np\n",
        "\n",
        "\n",
        "# estilos padrão para os plots/visualizações\n",
        "sns.set_theme(style=\"whitegrid\")\n",
        "plt.rcParams['figure.figsize'] = (10, 6)\n",
        "plt.rcParams['axes.labelsize'] = 14\n",
        "plt.rcParams['xtick.labelsize'] = 14\n",
        "plt.rcParams['xtick.labelsize'] = 14\n",
        "plt.rcParams['ytick.labelsize'] = 14"
      ],
      "execution_count": 2,
      "outputs": []
    },
    {
      "cell_type": "markdown",
      "metadata": {
        "id": "Us00x51rk4yj"
      },
      "source": [
        "### **1. Dataset**\n",
        "----\n",
        "Dataset: Top 8800 Twitch Streamers: https://www.kaggle.com/girlazo/top-8800-twitch-*streamers*\n",
        "\n",
        "Este dataset possui 8800 linhas, listando os melhores streamers do mundo na plataforma de stream Twitch, baseado em tempo assistido pelos usuários. Cada registro possui o nome do streamer, a quantidaded de vies e assinantes do canal, e outras informações como os três jogos mais jogados de cada streamer\n",
        "\n",
        "\n"
      ]
    },
    {
      "cell_type": "markdown",
      "metadata": {
        "id": "H4QwTqUKlrve"
      },
      "source": [
        "#### **1.1 Importando o Dataset**"
      ]
    },
    {
      "cell_type": "code",
      "metadata": {
        "id": "yLyD2kEwl04D"
      },
      "source": [
        "data = pd.read_csv('/content/drive/MyDrive/TwitchDataSet.csv')"
      ],
      "execution_count": 3,
      "outputs": []
    },
    {
      "cell_type": "code",
      "metadata": {
        "id": "nTSp2k6x2o6G",
        "colab": {
          "base_uri": "https://localhost:8080/",
          "height": 445
        },
        "outputId": "4d4393d8-7534-47ee-857d-66cdc2d2c01b"
      },
      "source": [
        "data.head()"
      ],
      "execution_count": 4,
      "outputs": [
        {
          "output_type": "execute_result",
          "data": {
            "text/html": [
              "<div>\n",
              "<style scoped>\n",
              "    .dataframe tbody tr th:only-of-type {\n",
              "        vertical-align: middle;\n",
              "    }\n",
              "\n",
              "    .dataframe tbody tr th {\n",
              "        vertical-align: top;\n",
              "    }\n",
              "\n",
              "    .dataframe thead th {\n",
              "        text-align: right;\n",
              "    }\n",
              "</style>\n",
              "<table border=\"1\" class=\"dataframe\">\n",
              "  <thead>\n",
              "    <tr style=\"text-align: right;\">\n",
              "      <th></th>\n",
              "      <th>profile picture</th>\n",
              "      <th>top count</th>\n",
              "      <th>screen name</th>\n",
              "      <th>watch time</th>\n",
              "      <th>stream time</th>\n",
              "      <th>peak viewers</th>\n",
              "      <th>average viewers</th>\n",
              "      <th>followers</th>\n",
              "      <th>followers gained</th>\n",
              "      <th>views gained</th>\n",
              "      <th>partnered</th>\n",
              "      <th>mature</th>\n",
              "      <th>language</th>\n",
              "      <th>completa name</th>\n",
              "      <th>first category</th>\n",
              "      <th>second category</th>\n",
              "      <th>third category</th>\n",
              "    </tr>\n",
              "  </thead>\n",
              "  <tbody>\n",
              "    <tr>\n",
              "      <th>0</th>\n",
              "      <td>https://static-cdn.jtvnw.net/jtv_user_pictures...</td>\n",
              "      <td>1</td>\n",
              "      <td>xQcOW</td>\n",
              "      <td>7333609065</td>\n",
              "      <td>215670</td>\n",
              "      <td>222720</td>\n",
              "      <td>32913</td>\n",
              "      <td>3691010</td>\n",
              "      <td>2051895</td>\n",
              "      <td>109735389</td>\n",
              "      <td>True</td>\n",
              "      <td>False</td>\n",
              "      <td>English</td>\n",
              "      <td>xQcOW</td>\n",
              "      <td>Just Chatting</td>\n",
              "      <td>Among Us</td>\n",
              "      <td>Overwatch</td>\n",
              "    </tr>\n",
              "    <tr>\n",
              "      <th>1</th>\n",
              "      <td>https://static-cdn.jtvnw.net/jtv_user_pictures...</td>\n",
              "      <td>2</td>\n",
              "      <td>Gaules</td>\n",
              "      <td>6314532585</td>\n",
              "      <td>515595</td>\n",
              "      <td>387315</td>\n",
              "      <td>12254</td>\n",
              "      <td>1966465</td>\n",
              "      <td>1141123</td>\n",
              "      <td>112807468</td>\n",
              "      <td>True</td>\n",
              "      <td>True</td>\n",
              "      <td>Portuguese</td>\n",
              "      <td>Gaules</td>\n",
              "      <td>Counter-Strike: Global Offensive</td>\n",
              "      <td>Among Us</td>\n",
              "      <td>PLAYERUNKNOWN</td>\n",
              "    </tr>\n",
              "    <tr>\n",
              "      <th>2</th>\n",
              "      <td>https://static-cdn.jtvnw.net/jtv_user_pictures...</td>\n",
              "      <td>3</td>\n",
              "      <td>summit1g</td>\n",
              "      <td>6235007490</td>\n",
              "      <td>216000</td>\n",
              "      <td>310998</td>\n",
              "      <td>25931</td>\n",
              "      <td>5374710</td>\n",
              "      <td>1402547</td>\n",
              "      <td>91501875</td>\n",
              "      <td>True</td>\n",
              "      <td>False</td>\n",
              "      <td>English</td>\n",
              "      <td>summit1g</td>\n",
              "      <td>Escape From Tarkov</td>\n",
              "      <td>Sea of Thieves</td>\n",
              "      <td>Grand Theft Auto V</td>\n",
              "    </tr>\n",
              "    <tr>\n",
              "      <th>3</th>\n",
              "      <td>https://static-cdn.jtvnw.net/jtv_user_pictures...</td>\n",
              "      <td>4</td>\n",
              "      <td>ESL_CSGO</td>\n",
              "      <td>4764929775</td>\n",
              "      <td>517965</td>\n",
              "      <td>300575</td>\n",
              "      <td>9249</td>\n",
              "      <td>4195657</td>\n",
              "      <td>870484</td>\n",
              "      <td>126008641</td>\n",
              "      <td>True</td>\n",
              "      <td>False</td>\n",
              "      <td>English</td>\n",
              "      <td>ESL_CSGO</td>\n",
              "      <td>Counter-Strike: Global Offensive</td>\n",
              "      <td>NaN</td>\n",
              "      <td>NaN</td>\n",
              "    </tr>\n",
              "    <tr>\n",
              "      <th>4</th>\n",
              "      <td>https://static-cdn.jtvnw.net/jtv_user_pictures...</td>\n",
              "      <td>5</td>\n",
              "      <td>NICKMERCS</td>\n",
              "      <td>3853252845</td>\n",
              "      <td>131880</td>\n",
              "      <td>163241</td>\n",
              "      <td>29183</td>\n",
              "      <td>4415637</td>\n",
              "      <td>1337535</td>\n",
              "      <td>49164651</td>\n",
              "      <td>True</td>\n",
              "      <td>False</td>\n",
              "      <td>English</td>\n",
              "      <td>NICKMERCS</td>\n",
              "      <td>Call Of Duty: Modern Warfare</td>\n",
              "      <td>Fortnite</td>\n",
              "      <td>Halo: The Master Chief Collection</td>\n",
              "    </tr>\n",
              "  </tbody>\n",
              "</table>\n",
              "</div>"
            ],
            "text/plain": [
              "                                     profile picture  ...                     third category\n",
              "0  https://static-cdn.jtvnw.net/jtv_user_pictures...  ...                          Overwatch\n",
              "1  https://static-cdn.jtvnw.net/jtv_user_pictures...  ...                      PLAYERUNKNOWN\n",
              "2  https://static-cdn.jtvnw.net/jtv_user_pictures...  ...                 Grand Theft Auto V\n",
              "3  https://static-cdn.jtvnw.net/jtv_user_pictures...  ...                                NaN\n",
              "4  https://static-cdn.jtvnw.net/jtv_user_pictures...  ...  Halo: The Master Chief Collection\n",
              "\n",
              "[5 rows x 17 columns]"
            ]
          },
          "metadata": {},
          "execution_count": 4
        }
      ]
    },
    {
      "cell_type": "markdown",
      "metadata": {
        "id": "-LS1YNsS2sY8"
      },
      "source": [
        "#### **1.2 Informações básicas**"
      ]
    },
    {
      "cell_type": "code",
      "metadata": {
        "id": "aNwgQ794mfti",
        "colab": {
          "base_uri": "https://localhost:8080/"
        },
        "outputId": "0dd5254b-6181-4e48-e3c3-ac9f1c4505d2"
      },
      "source": [
        "data.info()"
      ],
      "execution_count": 5,
      "outputs": [
        {
          "output_type": "stream",
          "name": "stdout",
          "text": [
            "<class 'pandas.core.frame.DataFrame'>\n",
            "RangeIndex: 8800 entries, 0 to 8799\n",
            "Data columns (total 17 columns):\n",
            " #   Column            Non-Null Count  Dtype \n",
            "---  ------            --------------  ----- \n",
            " 0   profile picture   8800 non-null   object\n",
            " 1   top count         8800 non-null   int64 \n",
            " 2   screen name       8800 non-null   object\n",
            " 3   watch time        8800 non-null   int64 \n",
            " 4   stream time       8800 non-null   int64 \n",
            " 5   peak viewers      8800 non-null   int64 \n",
            " 6   average viewers   8800 non-null   int64 \n",
            " 7   followers         8800 non-null   int64 \n",
            " 8   followers gained  8800 non-null   int64 \n",
            " 9   views gained      8800 non-null   int64 \n",
            " 10  partnered         8800 non-null   bool  \n",
            " 11  mature            8800 non-null   bool  \n",
            " 12  language          8799 non-null   object\n",
            " 13  completa name     8800 non-null   object\n",
            " 14  first category    8795 non-null   object\n",
            " 15  second category   8390 non-null   object\n",
            " 16  third category    8009 non-null   object\n",
            "dtypes: bool(2), int64(8), object(7)\n",
            "memory usage: 1.0+ MB\n"
          ]
        }
      ]
    },
    {
      "cell_type": "code",
      "metadata": {
        "id": "wtqxfbD53AbQ",
        "colab": {
          "base_uri": "https://localhost:8080/"
        },
        "outputId": "7f13ed6d-18ad-4fed-82a1-9ee8da0d5db0"
      },
      "source": [
        "print(f'O dataset possui {data.shape[0]} registros/observações/linhas e {data.shape[1]} atributos/variáveis/colunas. Alguns atributos possuem atributos null (p. ex., \"language\") que precisará ser tratado, mas todos já possuem os tipos corretos')"
      ],
      "execution_count": 6,
      "outputs": [
        {
          "output_type": "stream",
          "name": "stdout",
          "text": [
            "O dataset possui 8800 registros/observações/linhas e 17 atributos/variáveis/colunas. Alguns atributos possuem atributos null (p. ex., \"language\") que precisará ser tratado, mas todos já possuem os tipos corretos\n"
          ]
        }
      ]
    },
    {
      "cell_type": "markdown",
      "metadata": {
        "id": "aSA3FPVH4AsT"
      },
      "source": [
        "### **2. Limpeza e Pré-processamento de Dados**\n",
        "---"
      ]
    },
    {
      "cell_type": "code",
      "metadata": {
        "id": "n0mEVHOz3-Ln"
      },
      "source": [
        "df = data.copy()"
      ],
      "execution_count": 7,
      "outputs": []
    },
    {
      "cell_type": "code",
      "metadata": {
        "id": "AzZzxlxK4atN",
        "colab": {
          "base_uri": "https://localhost:8080/",
          "height": 445
        },
        "outputId": "5d9732ee-fd63-4479-a5b0-c575de929aa2"
      },
      "source": [
        "df.head()"
      ],
      "execution_count": 8,
      "outputs": [
        {
          "output_type": "execute_result",
          "data": {
            "text/html": [
              "<div>\n",
              "<style scoped>\n",
              "    .dataframe tbody tr th:only-of-type {\n",
              "        vertical-align: middle;\n",
              "    }\n",
              "\n",
              "    .dataframe tbody tr th {\n",
              "        vertical-align: top;\n",
              "    }\n",
              "\n",
              "    .dataframe thead th {\n",
              "        text-align: right;\n",
              "    }\n",
              "</style>\n",
              "<table border=\"1\" class=\"dataframe\">\n",
              "  <thead>\n",
              "    <tr style=\"text-align: right;\">\n",
              "      <th></th>\n",
              "      <th>profile picture</th>\n",
              "      <th>top count</th>\n",
              "      <th>screen name</th>\n",
              "      <th>watch time</th>\n",
              "      <th>stream time</th>\n",
              "      <th>peak viewers</th>\n",
              "      <th>average viewers</th>\n",
              "      <th>followers</th>\n",
              "      <th>followers gained</th>\n",
              "      <th>views gained</th>\n",
              "      <th>partnered</th>\n",
              "      <th>mature</th>\n",
              "      <th>language</th>\n",
              "      <th>completa name</th>\n",
              "      <th>first category</th>\n",
              "      <th>second category</th>\n",
              "      <th>third category</th>\n",
              "    </tr>\n",
              "  </thead>\n",
              "  <tbody>\n",
              "    <tr>\n",
              "      <th>0</th>\n",
              "      <td>https://static-cdn.jtvnw.net/jtv_user_pictures...</td>\n",
              "      <td>1</td>\n",
              "      <td>xQcOW</td>\n",
              "      <td>7333609065</td>\n",
              "      <td>215670</td>\n",
              "      <td>222720</td>\n",
              "      <td>32913</td>\n",
              "      <td>3691010</td>\n",
              "      <td>2051895</td>\n",
              "      <td>109735389</td>\n",
              "      <td>True</td>\n",
              "      <td>False</td>\n",
              "      <td>English</td>\n",
              "      <td>xQcOW</td>\n",
              "      <td>Just Chatting</td>\n",
              "      <td>Among Us</td>\n",
              "      <td>Overwatch</td>\n",
              "    </tr>\n",
              "    <tr>\n",
              "      <th>1</th>\n",
              "      <td>https://static-cdn.jtvnw.net/jtv_user_pictures...</td>\n",
              "      <td>2</td>\n",
              "      <td>Gaules</td>\n",
              "      <td>6314532585</td>\n",
              "      <td>515595</td>\n",
              "      <td>387315</td>\n",
              "      <td>12254</td>\n",
              "      <td>1966465</td>\n",
              "      <td>1141123</td>\n",
              "      <td>112807468</td>\n",
              "      <td>True</td>\n",
              "      <td>True</td>\n",
              "      <td>Portuguese</td>\n",
              "      <td>Gaules</td>\n",
              "      <td>Counter-Strike: Global Offensive</td>\n",
              "      <td>Among Us</td>\n",
              "      <td>PLAYERUNKNOWN</td>\n",
              "    </tr>\n",
              "    <tr>\n",
              "      <th>2</th>\n",
              "      <td>https://static-cdn.jtvnw.net/jtv_user_pictures...</td>\n",
              "      <td>3</td>\n",
              "      <td>summit1g</td>\n",
              "      <td>6235007490</td>\n",
              "      <td>216000</td>\n",
              "      <td>310998</td>\n",
              "      <td>25931</td>\n",
              "      <td>5374710</td>\n",
              "      <td>1402547</td>\n",
              "      <td>91501875</td>\n",
              "      <td>True</td>\n",
              "      <td>False</td>\n",
              "      <td>English</td>\n",
              "      <td>summit1g</td>\n",
              "      <td>Escape From Tarkov</td>\n",
              "      <td>Sea of Thieves</td>\n",
              "      <td>Grand Theft Auto V</td>\n",
              "    </tr>\n",
              "    <tr>\n",
              "      <th>3</th>\n",
              "      <td>https://static-cdn.jtvnw.net/jtv_user_pictures...</td>\n",
              "      <td>4</td>\n",
              "      <td>ESL_CSGO</td>\n",
              "      <td>4764929775</td>\n",
              "      <td>517965</td>\n",
              "      <td>300575</td>\n",
              "      <td>9249</td>\n",
              "      <td>4195657</td>\n",
              "      <td>870484</td>\n",
              "      <td>126008641</td>\n",
              "      <td>True</td>\n",
              "      <td>False</td>\n",
              "      <td>English</td>\n",
              "      <td>ESL_CSGO</td>\n",
              "      <td>Counter-Strike: Global Offensive</td>\n",
              "      <td>NaN</td>\n",
              "      <td>NaN</td>\n",
              "    </tr>\n",
              "    <tr>\n",
              "      <th>4</th>\n",
              "      <td>https://static-cdn.jtvnw.net/jtv_user_pictures...</td>\n",
              "      <td>5</td>\n",
              "      <td>NICKMERCS</td>\n",
              "      <td>3853252845</td>\n",
              "      <td>131880</td>\n",
              "      <td>163241</td>\n",
              "      <td>29183</td>\n",
              "      <td>4415637</td>\n",
              "      <td>1337535</td>\n",
              "      <td>49164651</td>\n",
              "      <td>True</td>\n",
              "      <td>False</td>\n",
              "      <td>English</td>\n",
              "      <td>NICKMERCS</td>\n",
              "      <td>Call Of Duty: Modern Warfare</td>\n",
              "      <td>Fortnite</td>\n",
              "      <td>Halo: The Master Chief Collection</td>\n",
              "    </tr>\n",
              "  </tbody>\n",
              "</table>\n",
              "</div>"
            ],
            "text/plain": [
              "                                     profile picture  ...                     third category\n",
              "0  https://static-cdn.jtvnw.net/jtv_user_pictures...  ...                          Overwatch\n",
              "1  https://static-cdn.jtvnw.net/jtv_user_pictures...  ...                      PLAYERUNKNOWN\n",
              "2  https://static-cdn.jtvnw.net/jtv_user_pictures...  ...                 Grand Theft Auto V\n",
              "3  https://static-cdn.jtvnw.net/jtv_user_pictures...  ...                                NaN\n",
              "4  https://static-cdn.jtvnw.net/jtv_user_pictures...  ...  Halo: The Master Chief Collection\n",
              "\n",
              "[5 rows x 17 columns]"
            ]
          },
          "metadata": {},
          "execution_count": 8
        }
      ]
    },
    {
      "cell_type": "markdown",
      "metadata": {
        "id": "g4eKsgOh47Ja"
      },
      "source": [
        "#### **2.1 Removendo colunas não utilizadas**\n",
        "O dataset possui colunas como a foto e o nome utilizada pelo streamer, o que para a nossa análise não vamos precisar"
      ]
    },
    {
      "cell_type": "code",
      "metadata": {
        "id": "_h9Htzr7mh5r"
      },
      "source": [
        "df = df.drop(columns=['profile picture', 'screen name', 'partnered', 'completa name'])"
      ],
      "execution_count": 9,
      "outputs": []
    },
    {
      "cell_type": "code",
      "metadata": {
        "id": "THvCDIB75dTI",
        "colab": {
          "base_uri": "https://localhost:8080/",
          "height": 272
        },
        "outputId": "ff4f5b78-2dbb-47f5-d6db-ddaa4643f19b"
      },
      "source": [
        "df.head()"
      ],
      "execution_count": 10,
      "outputs": [
        {
          "output_type": "execute_result",
          "data": {
            "text/html": [
              "<div>\n",
              "<style scoped>\n",
              "    .dataframe tbody tr th:only-of-type {\n",
              "        vertical-align: middle;\n",
              "    }\n",
              "\n",
              "    .dataframe tbody tr th {\n",
              "        vertical-align: top;\n",
              "    }\n",
              "\n",
              "    .dataframe thead th {\n",
              "        text-align: right;\n",
              "    }\n",
              "</style>\n",
              "<table border=\"1\" class=\"dataframe\">\n",
              "  <thead>\n",
              "    <tr style=\"text-align: right;\">\n",
              "      <th></th>\n",
              "      <th>top count</th>\n",
              "      <th>watch time</th>\n",
              "      <th>stream time</th>\n",
              "      <th>peak viewers</th>\n",
              "      <th>average viewers</th>\n",
              "      <th>followers</th>\n",
              "      <th>followers gained</th>\n",
              "      <th>views gained</th>\n",
              "      <th>mature</th>\n",
              "      <th>language</th>\n",
              "      <th>first category</th>\n",
              "      <th>second category</th>\n",
              "      <th>third category</th>\n",
              "    </tr>\n",
              "  </thead>\n",
              "  <tbody>\n",
              "    <tr>\n",
              "      <th>0</th>\n",
              "      <td>1</td>\n",
              "      <td>7333609065</td>\n",
              "      <td>215670</td>\n",
              "      <td>222720</td>\n",
              "      <td>32913</td>\n",
              "      <td>3691010</td>\n",
              "      <td>2051895</td>\n",
              "      <td>109735389</td>\n",
              "      <td>False</td>\n",
              "      <td>English</td>\n",
              "      <td>Just Chatting</td>\n",
              "      <td>Among Us</td>\n",
              "      <td>Overwatch</td>\n",
              "    </tr>\n",
              "    <tr>\n",
              "      <th>1</th>\n",
              "      <td>2</td>\n",
              "      <td>6314532585</td>\n",
              "      <td>515595</td>\n",
              "      <td>387315</td>\n",
              "      <td>12254</td>\n",
              "      <td>1966465</td>\n",
              "      <td>1141123</td>\n",
              "      <td>112807468</td>\n",
              "      <td>True</td>\n",
              "      <td>Portuguese</td>\n",
              "      <td>Counter-Strike: Global Offensive</td>\n",
              "      <td>Among Us</td>\n",
              "      <td>PLAYERUNKNOWN</td>\n",
              "    </tr>\n",
              "    <tr>\n",
              "      <th>2</th>\n",
              "      <td>3</td>\n",
              "      <td>6235007490</td>\n",
              "      <td>216000</td>\n",
              "      <td>310998</td>\n",
              "      <td>25931</td>\n",
              "      <td>5374710</td>\n",
              "      <td>1402547</td>\n",
              "      <td>91501875</td>\n",
              "      <td>False</td>\n",
              "      <td>English</td>\n",
              "      <td>Escape From Tarkov</td>\n",
              "      <td>Sea of Thieves</td>\n",
              "      <td>Grand Theft Auto V</td>\n",
              "    </tr>\n",
              "    <tr>\n",
              "      <th>3</th>\n",
              "      <td>4</td>\n",
              "      <td>4764929775</td>\n",
              "      <td>517965</td>\n",
              "      <td>300575</td>\n",
              "      <td>9249</td>\n",
              "      <td>4195657</td>\n",
              "      <td>870484</td>\n",
              "      <td>126008641</td>\n",
              "      <td>False</td>\n",
              "      <td>English</td>\n",
              "      <td>Counter-Strike: Global Offensive</td>\n",
              "      <td>NaN</td>\n",
              "      <td>NaN</td>\n",
              "    </tr>\n",
              "    <tr>\n",
              "      <th>4</th>\n",
              "      <td>5</td>\n",
              "      <td>3853252845</td>\n",
              "      <td>131880</td>\n",
              "      <td>163241</td>\n",
              "      <td>29183</td>\n",
              "      <td>4415637</td>\n",
              "      <td>1337535</td>\n",
              "      <td>49164651</td>\n",
              "      <td>False</td>\n",
              "      <td>English</td>\n",
              "      <td>Call Of Duty: Modern Warfare</td>\n",
              "      <td>Fortnite</td>\n",
              "      <td>Halo: The Master Chief Collection</td>\n",
              "    </tr>\n",
              "  </tbody>\n",
              "</table>\n",
              "</div>"
            ],
            "text/plain": [
              "   top count  watch time  ...  second category                     third category\n",
              "0          1  7333609065  ...         Among Us                          Overwatch\n",
              "1          2  6314532585  ...         Among Us                      PLAYERUNKNOWN\n",
              "2          3  6235007490  ...   Sea of Thieves                 Grand Theft Auto V\n",
              "3          4  4764929775  ...              NaN                                NaN\n",
              "4          5  3853252845  ...         Fortnite  Halo: The Master Chief Collection\n",
              "\n",
              "[5 rows x 13 columns]"
            ]
          },
          "metadata": {},
          "execution_count": 10
        }
      ]
    },
    {
      "cell_type": "markdown",
      "metadata": {
        "id": "HzfBv_zLyml0"
      },
      "source": [
        "#### **2.2 Top Count**\n",
        "Já que este é a posição de cada streamer, vamos checar se há ruídos nesta coluna se está de acordo com a quantidade de registros"
      ]
    },
    {
      "cell_type": "code",
      "metadata": {
        "id": "Tpv-QV0A7OvF",
        "colab": {
          "base_uri": "https://localhost:8080/"
        },
        "outputId": "664397b7-6bb3-4ece-ed14-f9fdea14a757"
      },
      "source": [
        "print(f'Maximo = {df[\"top count\"].max()}')\n",
        "print(f'Min = {df[\"top count\"].min()}')"
      ],
      "execution_count": 11,
      "outputs": [
        {
          "output_type": "stream",
          "name": "stdout",
          "text": [
            "Maximo = 8800\n",
            "Min = 1\n"
          ]
        }
      ]
    },
    {
      "cell_type": "code",
      "metadata": {
        "id": "AqmieF_o7cGm",
        "colab": {
          "base_uri": "https://localhost:8080/"
        },
        "outputId": "e64b3440-5047-4ee3-a7ea-9f9f46f3b856"
      },
      "source": [
        "df['top count'].unique()"
      ],
      "execution_count": 12,
      "outputs": [
        {
          "output_type": "execute_result",
          "data": {
            "text/plain": [
              "array([   1,    2,    3, ..., 8798, 8799, 8800])"
            ]
          },
          "metadata": {},
          "execution_count": 12
        }
      ]
    },
    {
      "cell_type": "code",
      "metadata": {
        "id": "li3zrmmA7nnh",
        "colab": {
          "base_uri": "https://localhost:8080/"
        },
        "outputId": "fb2867fb-9358-4290-8084-81963b7547ad"
      },
      "source": [
        "df['top count'].isnull().sum()"
      ],
      "execution_count": 13,
      "outputs": [
        {
          "output_type": "execute_result",
          "data": {
            "text/plain": [
              "0"
            ]
          },
          "metadata": {},
          "execution_count": 13
        }
      ]
    },
    {
      "cell_type": "markdown",
      "metadata": {
        "id": "7UM425eK7uva"
      },
      "source": [
        "Não há valores NaN para a coluna."
      ]
    },
    {
      "cell_type": "markdown",
      "metadata": {
        "id": "PJnUoxfW7y1x"
      },
      "source": [
        "#### **2.3 watch time**\n",
        "Já que este é o dado que elege a posição do streamer, vamos checar se está de acordo"
      ]
    },
    {
      "cell_type": "code",
      "metadata": {
        "id": "RGFVkR5M8GdC",
        "colab": {
          "base_uri": "https://localhost:8080/"
        },
        "outputId": "c2bc9374-d73b-4b72-e273-d542d8d04aaf"
      },
      "source": [
        "df['watch time'].isnull().sum()"
      ],
      "execution_count": 14,
      "outputs": [
        {
          "output_type": "execute_result",
          "data": {
            "text/plain": [
              "0"
            ]
          },
          "metadata": {},
          "execution_count": 14
        }
      ]
    },
    {
      "cell_type": "code",
      "metadata": {
        "id": "TaTQtxSQ8tng"
      },
      "source": [
        "max_watch_time = df['watch time'].max()\n",
        "min_watch_time = df['watch time'].min()"
      ],
      "execution_count": 15,
      "outputs": []
    },
    {
      "cell_type": "code",
      "metadata": {
        "id": "4QAsGJns8KlL",
        "colab": {
          "base_uri": "https://localhost:8080/",
          "height": 80
        },
        "outputId": "c9953916-fb82-4e88-ce56-0c92f12711d9"
      },
      "source": [
        "max_place = df[df['watch time'] == max_watch_time]\n",
        "max_place"
      ],
      "execution_count": 16,
      "outputs": [
        {
          "output_type": "execute_result",
          "data": {
            "text/html": [
              "<div>\n",
              "<style scoped>\n",
              "    .dataframe tbody tr th:only-of-type {\n",
              "        vertical-align: middle;\n",
              "    }\n",
              "\n",
              "    .dataframe tbody tr th {\n",
              "        vertical-align: top;\n",
              "    }\n",
              "\n",
              "    .dataframe thead th {\n",
              "        text-align: right;\n",
              "    }\n",
              "</style>\n",
              "<table border=\"1\" class=\"dataframe\">\n",
              "  <thead>\n",
              "    <tr style=\"text-align: right;\">\n",
              "      <th></th>\n",
              "      <th>top count</th>\n",
              "      <th>watch time</th>\n",
              "      <th>stream time</th>\n",
              "      <th>peak viewers</th>\n",
              "      <th>average viewers</th>\n",
              "      <th>followers</th>\n",
              "      <th>followers gained</th>\n",
              "      <th>views gained</th>\n",
              "      <th>mature</th>\n",
              "      <th>language</th>\n",
              "      <th>first category</th>\n",
              "      <th>second category</th>\n",
              "      <th>third category</th>\n",
              "    </tr>\n",
              "  </thead>\n",
              "  <tbody>\n",
              "    <tr>\n",
              "      <th>0</th>\n",
              "      <td>1</td>\n",
              "      <td>7333609065</td>\n",
              "      <td>215670</td>\n",
              "      <td>222720</td>\n",
              "      <td>32913</td>\n",
              "      <td>3691010</td>\n",
              "      <td>2051895</td>\n",
              "      <td>109735389</td>\n",
              "      <td>False</td>\n",
              "      <td>English</td>\n",
              "      <td>Just Chatting</td>\n",
              "      <td>Among Us</td>\n",
              "      <td>Overwatch</td>\n",
              "    </tr>\n",
              "  </tbody>\n",
              "</table>\n",
              "</div>"
            ],
            "text/plain": [
              "   top count  watch time  ...  second category  third category\n",
              "0          1  7333609065  ...         Among Us       Overwatch\n",
              "\n",
              "[1 rows x 13 columns]"
            ]
          },
          "metadata": {},
          "execution_count": 16
        }
      ]
    },
    {
      "cell_type": "code",
      "metadata": {
        "id": "oTaFgeUG73Fi",
        "colab": {
          "base_uri": "https://localhost:8080/",
          "height": 97
        },
        "outputId": "68834c6c-cbf2-42fb-9c72-2373c52f989c"
      },
      "source": [
        "min_place = df[df['watch time'] == min_watch_time]\n",
        "min_place"
      ],
      "execution_count": 17,
      "outputs": [
        {
          "output_type": "execute_result",
          "data": {
            "text/html": [
              "<div>\n",
              "<style scoped>\n",
              "    .dataframe tbody tr th:only-of-type {\n",
              "        vertical-align: middle;\n",
              "    }\n",
              "\n",
              "    .dataframe tbody tr th {\n",
              "        vertical-align: top;\n",
              "    }\n",
              "\n",
              "    .dataframe thead th {\n",
              "        text-align: right;\n",
              "    }\n",
              "</style>\n",
              "<table border=\"1\" class=\"dataframe\">\n",
              "  <thead>\n",
              "    <tr style=\"text-align: right;\">\n",
              "      <th></th>\n",
              "      <th>top count</th>\n",
              "      <th>watch time</th>\n",
              "      <th>stream time</th>\n",
              "      <th>peak viewers</th>\n",
              "      <th>average viewers</th>\n",
              "      <th>followers</th>\n",
              "      <th>followers gained</th>\n",
              "      <th>views gained</th>\n",
              "      <th>mature</th>\n",
              "      <th>language</th>\n",
              "      <th>first category</th>\n",
              "      <th>second category</th>\n",
              "      <th>third category</th>\n",
              "    </tr>\n",
              "  </thead>\n",
              "  <tbody>\n",
              "    <tr>\n",
              "      <th>8799</th>\n",
              "      <td>8800</td>\n",
              "      <td>8827995</td>\n",
              "      <td>165105</td>\n",
              "      <td>2270</td>\n",
              "      <td>50</td>\n",
              "      <td>9194</td>\n",
              "      <td>2921</td>\n",
              "      <td>927197</td>\n",
              "      <td>False</td>\n",
              "      <td>English</td>\n",
              "      <td>Music</td>\n",
              "      <td>PLAYERUNKNOWN</td>\n",
              "      <td>Destiny 2</td>\n",
              "    </tr>\n",
              "  </tbody>\n",
              "</table>\n",
              "</div>"
            ],
            "text/plain": [
              "      top count  watch time  ...  second category  third category\n",
              "8799       8800     8827995  ...    PLAYERUNKNOWN       Destiny 2\n",
              "\n",
              "[1 rows x 13 columns]"
            ]
          },
          "metadata": {},
          "execution_count": 17
        }
      ]
    },
    {
      "cell_type": "markdown",
      "metadata": {
        "id": "dNBS76eP8zq7"
      },
      "source": [
        "Como podemos ver, não temos valores nulos e as posições dos streamers estão de acordo com as horas assistidas"
      ]
    },
    {
      "cell_type": "markdown",
      "metadata": {
        "id": "g3ar38kW9Lob"
      },
      "source": [
        "#### **2.4 stream time**"
      ]
    },
    {
      "cell_type": "markdown",
      "metadata": {
        "id": "Qh7jTBly9Yy1"
      },
      "source": [
        "Vamos checar se existem *outliers* nesta coluna"
      ]
    },
    {
      "cell_type": "code",
      "metadata": {
        "id": "R3t3oa43-OBs",
        "colab": {
          "base_uri": "https://localhost:8080/",
          "height": 416
        },
        "outputId": "aef88094-e3dd-46df-eef5-f005ba5a864c"
      },
      "source": [
        "sns.boxplot(x='stream time', data=df)"
      ],
      "execution_count": 18,
      "outputs": [
        {
          "output_type": "execute_result",
          "data": {
            "text/plain": [
              "<matplotlib.axes._subplots.AxesSubplot at 0x7f28f2ab1310>"
            ]
          },
          "metadata": {},
          "execution_count": 18
        },
        {
          "output_type": "display_data",
          "data": {
            "image/png": "[encoded data removed]",
            "text/plain": [
              "<Figure size 720x432 with 1 Axes>"
            ]
          },
          "metadata": {}
        }
      ]
    },
    {
      "cell_type": "code",
      "metadata": {
        "id": "bfjtBmY__Deq",
        "colab": {
          "base_uri": "https://localhost:8080/"
        },
        "outputId": "d796f350-0652-47c1-89e2-9ad4d24c4626"
      },
      "source": [
        "df['stream time'].isnull().sum()"
      ],
      "execution_count": 19,
      "outputs": [
        {
          "output_type": "execute_result",
          "data": {
            "text/plain": [
              "0"
            ]
          },
          "metadata": {},
          "execution_count": 19
        }
      ]
    },
    {
      "cell_type": "markdown",
      "metadata": {
        "id": "fr_OGQVc_amY"
      },
      "source": [
        "Não temos valores nulos e os outliers são aceitáveis"
      ]
    },
    {
      "cell_type": "markdown",
      "metadata": {
        "id": "_caYWfBZ_ivj"
      },
      "source": [
        "#### **2.5 mature**\n",
        "Verificar se existe somente valores booleanos"
      ]
    },
    {
      "cell_type": "code",
      "metadata": {
        "id": "jlDkzBgBAWQY",
        "colab": {
          "base_uri": "https://localhost:8080/"
        },
        "outputId": "7603036f-3a69-4483-a29a-0a1744b880a7"
      },
      "source": [
        "df['mature'].unique()"
      ],
      "execution_count": 20,
      "outputs": [
        {
          "output_type": "execute_result",
          "data": {
            "text/plain": [
              "array([False,  True])"
            ]
          },
          "metadata": {},
          "execution_count": 20
        }
      ]
    },
    {
      "cell_type": "markdown",
      "metadata": {
        "id": "KyeyKeOpAab0"
      },
      "source": [
        "#### **2.6 Language**\n",
        "Este é um dos campos que possuem nulos, vamos analisar"
      ]
    },
    {
      "cell_type": "code",
      "metadata": {
        "id": "KYKULoR7PhPO",
        "colab": {
          "base_uri": "https://localhost:8080/"
        },
        "outputId": "91afdce4-70c8-44d7-9664-9ff74cdbc87d"
      },
      "source": [
        "df['language'].unique()"
      ],
      "execution_count": 21,
      "outputs": [
        {
          "output_type": "execute_result",
          "data": {
            "text/plain": [
              "array(['English', 'Portuguese', 'Spanish', 'Korean', 'German', 'Russian',\n",
              "       'French', 'Japanese', 'Turkish', 'Chinese', 'Czech', 'Italian',\n",
              "       'Polish', 'Thai', 'Arabic', 'Slovak', 'Other', 'Greek',\n",
              "       'Hungarian', 'Finnish', 'Swedish', 'Romanian', 'Danish',\n",
              "       'Chinese (Hong Kong SAR)', 'Dutch', 'Bulgarian', 'Norwegian',\n",
              "       'Hindi', nan, 'Ukrainian', 'Indonesian'], dtype=object)"
            ]
          },
          "metadata": {},
          "execution_count": 21
        }
      ]
    },
    {
      "cell_type": "code",
      "metadata": {
        "id": "cY_olfTqAgaL",
        "colab": {
          "base_uri": "https://localhost:8080/"
        },
        "outputId": "b9d6c4e3-1d40-438d-8f9a-f89d64cf4f6e"
      },
      "source": [
        "df['language'].isnull().sum()"
      ],
      "execution_count": 22,
      "outputs": [
        {
          "output_type": "execute_result",
          "data": {
            "text/plain": [
              "1"
            ]
          },
          "metadata": {},
          "execution_count": 22
        }
      ]
    },
    {
      "cell_type": "code",
      "metadata": {
        "id": "DHWAqUEZAmDV",
        "colab": {
          "base_uri": "https://localhost:8080/",
          "height": 114
        },
        "outputId": "af90c4e7-e290-4445-a8d3-0c21988cd154"
      },
      "source": [
        "df[df['language'].isnull()]"
      ],
      "execution_count": 23,
      "outputs": [
        {
          "output_type": "execute_result",
          "data": {
            "text/html": [
              "<div>\n",
              "<style scoped>\n",
              "    .dataframe tbody tr th:only-of-type {\n",
              "        vertical-align: middle;\n",
              "    }\n",
              "\n",
              "    .dataframe tbody tr th {\n",
              "        vertical-align: top;\n",
              "    }\n",
              "\n",
              "    .dataframe thead th {\n",
              "        text-align: right;\n",
              "    }\n",
              "</style>\n",
              "<table border=\"1\" class=\"dataframe\">\n",
              "  <thead>\n",
              "    <tr style=\"text-align: right;\">\n",
              "      <th></th>\n",
              "      <th>top count</th>\n",
              "      <th>watch time</th>\n",
              "      <th>stream time</th>\n",
              "      <th>peak viewers</th>\n",
              "      <th>average viewers</th>\n",
              "      <th>followers</th>\n",
              "      <th>followers gained</th>\n",
              "      <th>views gained</th>\n",
              "      <th>mature</th>\n",
              "      <th>language</th>\n",
              "      <th>first category</th>\n",
              "      <th>second category</th>\n",
              "      <th>third category</th>\n",
              "    </tr>\n",
              "  </thead>\n",
              "  <tbody>\n",
              "    <tr>\n",
              "      <th>4397</th>\n",
              "      <td>4398</td>\n",
              "      <td>22255725</td>\n",
              "      <td>55965</td>\n",
              "      <td>1215</td>\n",
              "      <td>400</td>\n",
              "      <td>24339</td>\n",
              "      <td>11879</td>\n",
              "      <td>242417</td>\n",
              "      <td>True</td>\n",
              "      <td>NaN</td>\n",
              "      <td>Grand Theft Auto V</td>\n",
              "      <td>Rust</td>\n",
              "      <td>Escape From Tarkov</td>\n",
              "    </tr>\n",
              "  </tbody>\n",
              "</table>\n",
              "</div>"
            ],
            "text/plain": [
              "      top count  watch time  ...  second category      third category\n",
              "4397       4398    22255725  ...             Rust  Escape From Tarkov\n",
              "\n",
              "[1 rows x 13 columns]"
            ]
          },
          "metadata": {},
          "execution_count": 23
        }
      ]
    },
    {
      "cell_type": "markdown",
      "metadata": {
        "id": "uIJ-VTHCA5fw"
      },
      "source": [
        "Como esta é uma coluna muito importante para a nossa análise, iremos remover esta entrada nula"
      ]
    },
    {
      "cell_type": "code",
      "metadata": {
        "id": "ZAasGtisA-dz"
      },
      "source": [
        "df.dropna(subset=['language'], inplace=True)"
      ],
      "execution_count": 24,
      "outputs": []
    },
    {
      "cell_type": "code",
      "metadata": {
        "id": "M74By11SBAl0",
        "colab": {
          "base_uri": "https://localhost:8080/"
        },
        "outputId": "fcc08c80-62be-4770-e874-ea637f95195d"
      },
      "source": [
        "df['language'].isnull().sum()"
      ],
      "execution_count": 25,
      "outputs": [
        {
          "output_type": "execute_result",
          "data": {
            "text/plain": [
              "0"
            ]
          },
          "metadata": {},
          "execution_count": 25
        }
      ]
    },
    {
      "cell_type": "markdown",
      "metadata": {
        "id": "M20Pj7crD-d3"
      },
      "source": [
        "#### **2.7 Second category**\n",
        "Vemos que esta coluna possui bastante valores nulos, vamos checar"
      ]
    },
    {
      "cell_type": "code",
      "metadata": {
        "id": "-4TyG-C_EE-0",
        "colab": {
          "base_uri": "https://localhost:8080/"
        },
        "outputId": "c83bedb4-0753-4c2f-8388-db06f2e41d8b"
      },
      "source": [
        "df['second category'].isnull().sum()"
      ],
      "execution_count": 26,
      "outputs": [
        {
          "output_type": "execute_result",
          "data": {
            "text/plain": [
              "410"
            ]
          },
          "metadata": {},
          "execution_count": 26
        }
      ]
    },
    {
      "cell_type": "code",
      "metadata": {
        "id": "XHZpWIWKEIPT",
        "colab": {
          "base_uri": "https://localhost:8080/",
          "height": 470
        },
        "outputId": "fdc34e04-c1e1-49e9-b9d2-ec6dd4ced5e8"
      },
      "source": [
        "second_category_null = df['second category'].isnull()\n",
        "df[second_category_null]"
      ],
      "execution_count": 27,
      "outputs": [
        {
          "output_type": "execute_result",
          "data": {
            "text/html": [
              "<div>\n",
              "<style scoped>\n",
              "    .dataframe tbody tr th:only-of-type {\n",
              "        vertical-align: middle;\n",
              "    }\n",
              "\n",
              "    .dataframe tbody tr th {\n",
              "        vertical-align: top;\n",
              "    }\n",
              "\n",
              "    .dataframe thead th {\n",
              "        text-align: right;\n",
              "    }\n",
              "</style>\n",
              "<table border=\"1\" class=\"dataframe\">\n",
              "  <thead>\n",
              "    <tr style=\"text-align: right;\">\n",
              "      <th></th>\n",
              "      <th>top count</th>\n",
              "      <th>watch time</th>\n",
              "      <th>stream time</th>\n",
              "      <th>peak viewers</th>\n",
              "      <th>average viewers</th>\n",
              "      <th>followers</th>\n",
              "      <th>followers gained</th>\n",
              "      <th>views gained</th>\n",
              "      <th>mature</th>\n",
              "      <th>language</th>\n",
              "      <th>first category</th>\n",
              "      <th>second category</th>\n",
              "      <th>third category</th>\n",
              "    </tr>\n",
              "  </thead>\n",
              "  <tbody>\n",
              "    <tr>\n",
              "      <th>3</th>\n",
              "      <td>4</td>\n",
              "      <td>4764929775</td>\n",
              "      <td>517965</td>\n",
              "      <td>300575</td>\n",
              "      <td>9249</td>\n",
              "      <td>4195657</td>\n",
              "      <td>870484</td>\n",
              "      <td>126008641</td>\n",
              "      <td>False</td>\n",
              "      <td>English</td>\n",
              "      <td>Counter-Strike: Global Offensive</td>\n",
              "      <td>NaN</td>\n",
              "      <td>NaN</td>\n",
              "    </tr>\n",
              "    <tr>\n",
              "      <th>18</th>\n",
              "      <td>19</td>\n",
              "      <td>2271646785</td>\n",
              "      <td>49470</td>\n",
              "      <td>208341</td>\n",
              "      <td>45406</td>\n",
              "      <td>724511</td>\n",
              "      <td>294841</td>\n",
              "      <td>86113714</td>\n",
              "      <td>False</td>\n",
              "      <td>Korean</td>\n",
              "      <td>League of Legends</td>\n",
              "      <td>NaN</td>\n",
              "      <td>NaN</td>\n",
              "    </tr>\n",
              "    <tr>\n",
              "      <th>24</th>\n",
              "      <td>25</td>\n",
              "      <td>1912132740</td>\n",
              "      <td>57570</td>\n",
              "      <td>388794</td>\n",
              "      <td>28581</td>\n",
              "      <td>1107511</td>\n",
              "      <td>678235</td>\n",
              "      <td>33667372</td>\n",
              "      <td>False</td>\n",
              "      <td>English</td>\n",
              "      <td>League of Legends</td>\n",
              "      <td>NaN</td>\n",
              "      <td>NaN</td>\n",
              "    </tr>\n",
              "    <tr>\n",
              "      <th>27</th>\n",
              "      <td>28</td>\n",
              "      <td>1868846880</td>\n",
              "      <td>110205</td>\n",
              "      <td>364816</td>\n",
              "      <td>17276</td>\n",
              "      <td>608917</td>\n",
              "      <td>568052</td>\n",
              "      <td>61473607</td>\n",
              "      <td>False</td>\n",
              "      <td>Russian</td>\n",
              "      <td>Counter-Strike: Global Offensive</td>\n",
              "      <td>NaN</td>\n",
              "      <td>NaN</td>\n",
              "    </tr>\n",
              "    <tr>\n",
              "      <th>28</th>\n",
              "      <td>29</td>\n",
              "      <td>1852648845</td>\n",
              "      <td>36630</td>\n",
              "      <td>241509</td>\n",
              "      <td>48240</td>\n",
              "      <td>1257562</td>\n",
              "      <td>584326</td>\n",
              "      <td>34436876</td>\n",
              "      <td>False</td>\n",
              "      <td>English</td>\n",
              "      <td>League of Legends</td>\n",
              "      <td>NaN</td>\n",
              "      <td>NaN</td>\n",
              "    </tr>\n",
              "    <tr>\n",
              "      <th>...</th>\n",
              "      <td>...</td>\n",
              "      <td>...</td>\n",
              "      <td>...</td>\n",
              "      <td>...</td>\n",
              "      <td>...</td>\n",
              "      <td>...</td>\n",
              "      <td>...</td>\n",
              "      <td>...</td>\n",
              "      <td>...</td>\n",
              "      <td>...</td>\n",
              "      <td>...</td>\n",
              "      <td>...</td>\n",
              "      <td>...</td>\n",
              "    </tr>\n",
              "    <tr>\n",
              "      <th>8693</th>\n",
              "      <td>8694</td>\n",
              "      <td>9085365</td>\n",
              "      <td>108990</td>\n",
              "      <td>345</td>\n",
              "      <td>81</td>\n",
              "      <td>20841</td>\n",
              "      <td>3565</td>\n",
              "      <td>378818</td>\n",
              "      <td>False</td>\n",
              "      <td>Russian</td>\n",
              "      <td>World of Tanks</td>\n",
              "      <td>NaN</td>\n",
              "      <td>NaN</td>\n",
              "    </tr>\n",
              "    <tr>\n",
              "      <th>8695</th>\n",
              "      <td>8696</td>\n",
              "      <td>9082995</td>\n",
              "      <td>131565</td>\n",
              "      <td>485</td>\n",
              "      <td>64</td>\n",
              "      <td>876</td>\n",
              "      <td>862</td>\n",
              "      <td>907384</td>\n",
              "      <td>False</td>\n",
              "      <td>English</td>\n",
              "      <td>NBA 2K20</td>\n",
              "      <td>NaN</td>\n",
              "      <td>NaN</td>\n",
              "    </tr>\n",
              "    <tr>\n",
              "      <th>8696</th>\n",
              "      <td>8697</td>\n",
              "      <td>9078390</td>\n",
              "      <td>14805</td>\n",
              "      <td>3090</td>\n",
              "      <td>604</td>\n",
              "      <td>100072</td>\n",
              "      <td>89856</td>\n",
              "      <td>320627</td>\n",
              "      <td>False</td>\n",
              "      <td>Portuguese</td>\n",
              "      <td>Fortnite</td>\n",
              "      <td>NaN</td>\n",
              "      <td>NaN</td>\n",
              "    </tr>\n",
              "    <tr>\n",
              "      <th>8733</th>\n",
              "      <td>8734</td>\n",
              "      <td>8912745</td>\n",
              "      <td>31905</td>\n",
              "      <td>2022</td>\n",
              "      <td>220</td>\n",
              "      <td>11982</td>\n",
              "      <td>4166</td>\n",
              "      <td>271026</td>\n",
              "      <td>True</td>\n",
              "      <td>Russian</td>\n",
              "      <td>Poker</td>\n",
              "      <td>NaN</td>\n",
              "      <td>NaN</td>\n",
              "    </tr>\n",
              "    <tr>\n",
              "      <th>8746</th>\n",
              "      <td>8747</td>\n",
              "      <td>8890335</td>\n",
              "      <td>28845</td>\n",
              "      <td>1156</td>\n",
              "      <td>307</td>\n",
              "      <td>28837</td>\n",
              "      <td>22715</td>\n",
              "      <td>297286</td>\n",
              "      <td>False</td>\n",
              "      <td>English</td>\n",
              "      <td>Music</td>\n",
              "      <td>NaN</td>\n",
              "      <td>NaN</td>\n",
              "    </tr>\n",
              "  </tbody>\n",
              "</table>\n",
              "<p>410 rows × 13 columns</p>\n",
              "</div>"
            ],
            "text/plain": [
              "      top count  watch time  ...  second category  third category\n",
              "3             4  4764929775  ...              NaN             NaN\n",
              "18           19  2271646785  ...              NaN             NaN\n",
              "24           25  1912132740  ...              NaN             NaN\n",
              "27           28  1868846880  ...              NaN             NaN\n",
              "28           29  1852648845  ...              NaN             NaN\n",
              "...         ...         ...  ...              ...             ...\n",
              "8693       8694     9085365  ...              NaN             NaN\n",
              "8695       8696     9082995  ...              NaN             NaN\n",
              "8696       8697     9078390  ...              NaN             NaN\n",
              "8733       8734     8912745  ...              NaN             NaN\n",
              "8746       8747     8890335  ...              NaN             NaN\n",
              "\n",
              "[410 rows x 13 columns]"
            ]
          },
          "metadata": {},
          "execution_count": 27
        }
      ]
    },
    {
      "cell_type": "markdown",
      "metadata": {
        "id": "Fm-wXiu2E5nE"
      },
      "source": [
        "Vemos que temos 410 registros com valores nulos como segunda categoria. Entretando, conseguimos perceber que estes registros também não possuem a terceira categoria. Vamos confirmar"
      ]
    },
    {
      "cell_type": "code",
      "metadata": {
        "id": "HC3JrFy0FDp8",
        "colab": {
          "base_uri": "https://localhost:8080/",
          "height": 470
        },
        "outputId": "737769c1-cfbb-4d42-ef67-accc5753f7aa"
      },
      "source": [
        "third_category_null = df['third category'].isnull()\n",
        "df[third_category_null & second_category_null]"
      ],
      "execution_count": 28,
      "outputs": [
        {
          "output_type": "execute_result",
          "data": {
            "text/html": [
              "<div>\n",
              "<style scoped>\n",
              "    .dataframe tbody tr th:only-of-type {\n",
              "        vertical-align: middle;\n",
              "    }\n",
              "\n",
              "    .dataframe tbody tr th {\n",
              "        vertical-align: top;\n",
              "    }\n",
              "\n",
              "    .dataframe thead th {\n",
              "        text-align: right;\n",
              "    }\n",
              "</style>\n",
              "<table border=\"1\" class=\"dataframe\">\n",
              "  <thead>\n",
              "    <tr style=\"text-align: right;\">\n",
              "      <th></th>\n",
              "      <th>top count</th>\n",
              "      <th>watch time</th>\n",
              "      <th>stream time</th>\n",
              "      <th>peak viewers</th>\n",
              "      <th>average viewers</th>\n",
              "      <th>followers</th>\n",
              "      <th>followers gained</th>\n",
              "      <th>views gained</th>\n",
              "      <th>mature</th>\n",
              "      <th>language</th>\n",
              "      <th>first category</th>\n",
              "      <th>second category</th>\n",
              "      <th>third category</th>\n",
              "    </tr>\n",
              "  </thead>\n",
              "  <tbody>\n",
              "    <tr>\n",
              "      <th>3</th>\n",
              "      <td>4</td>\n",
              "      <td>4764929775</td>\n",
              "      <td>517965</td>\n",
              "      <td>300575</td>\n",
              "      <td>9249</td>\n",
              "      <td>4195657</td>\n",
              "      <td>870484</td>\n",
              "      <td>126008641</td>\n",
              "      <td>False</td>\n",
              "      <td>English</td>\n",
              "      <td>Counter-Strike: Global Offensive</td>\n",
              "      <td>NaN</td>\n",
              "      <td>NaN</td>\n",
              "    </tr>\n",
              "    <tr>\n",
              "      <th>18</th>\n",
              "      <td>19</td>\n",
              "      <td>2271646785</td>\n",
              "      <td>49470</td>\n",
              "      <td>208341</td>\n",
              "      <td>45406</td>\n",
              "      <td>724511</td>\n",
              "      <td>294841</td>\n",
              "      <td>86113714</td>\n",
              "      <td>False</td>\n",
              "      <td>Korean</td>\n",
              "      <td>League of Legends</td>\n",
              "      <td>NaN</td>\n",
              "      <td>NaN</td>\n",
              "    </tr>\n",
              "    <tr>\n",
              "      <th>24</th>\n",
              "      <td>25</td>\n",
              "      <td>1912132740</td>\n",
              "      <td>57570</td>\n",
              "      <td>388794</td>\n",
              "      <td>28581</td>\n",
              "      <td>1107511</td>\n",
              "      <td>678235</td>\n",
              "      <td>33667372</td>\n",
              "      <td>False</td>\n",
              "      <td>English</td>\n",
              "      <td>League of Legends</td>\n",
              "      <td>NaN</td>\n",
              "      <td>NaN</td>\n",
              "    </tr>\n",
              "    <tr>\n",
              "      <th>27</th>\n",
              "      <td>28</td>\n",
              "      <td>1868846880</td>\n",
              "      <td>110205</td>\n",
              "      <td>364816</td>\n",
              "      <td>17276</td>\n",
              "      <td>608917</td>\n",
              "      <td>568052</td>\n",
              "      <td>61473607</td>\n",
              "      <td>False</td>\n",
              "      <td>Russian</td>\n",
              "      <td>Counter-Strike: Global Offensive</td>\n",
              "      <td>NaN</td>\n",
              "      <td>NaN</td>\n",
              "    </tr>\n",
              "    <tr>\n",
              "      <th>28</th>\n",
              "      <td>29</td>\n",
              "      <td>1852648845</td>\n",
              "      <td>36630</td>\n",
              "      <td>241509</td>\n",
              "      <td>48240</td>\n",
              "      <td>1257562</td>\n",
              "      <td>584326</td>\n",
              "      <td>34436876</td>\n",
              "      <td>False</td>\n",
              "      <td>English</td>\n",
              "      <td>League of Legends</td>\n",
              "      <td>NaN</td>\n",
              "      <td>NaN</td>\n",
              "    </tr>\n",
              "    <tr>\n",
              "      <th>...</th>\n",
              "      <td>...</td>\n",
              "      <td>...</td>\n",
              "      <td>...</td>\n",
              "      <td>...</td>\n",
              "      <td>...</td>\n",
              "      <td>...</td>\n",
              "      <td>...</td>\n",
              "      <td>...</td>\n",
              "      <td>...</td>\n",
              "      <td>...</td>\n",
              "      <td>...</td>\n",
              "      <td>...</td>\n",
              "      <td>...</td>\n",
              "    </tr>\n",
              "    <tr>\n",
              "      <th>8693</th>\n",
              "      <td>8694</td>\n",
              "      <td>9085365</td>\n",
              "      <td>108990</td>\n",
              "      <td>345</td>\n",
              "      <td>81</td>\n",
              "      <td>20841</td>\n",
              "      <td>3565</td>\n",
              "      <td>378818</td>\n",
              "      <td>False</td>\n",
              "      <td>Russian</td>\n",
              "      <td>World of Tanks</td>\n",
              "      <td>NaN</td>\n",
              "      <td>NaN</td>\n",
              "    </tr>\n",
              "    <tr>\n",
              "      <th>8695</th>\n",
              "      <td>8696</td>\n",
              "      <td>9082995</td>\n",
              "      <td>131565</td>\n",
              "      <td>485</td>\n",
              "      <td>64</td>\n",
              "      <td>876</td>\n",
              "      <td>862</td>\n",
              "      <td>907384</td>\n",
              "      <td>False</td>\n",
              "      <td>English</td>\n",
              "      <td>NBA 2K20</td>\n",
              "      <td>NaN</td>\n",
              "      <td>NaN</td>\n",
              "    </tr>\n",
              "    <tr>\n",
              "      <th>8696</th>\n",
              "      <td>8697</td>\n",
              "      <td>9078390</td>\n",
              "      <td>14805</td>\n",
              "      <td>3090</td>\n",
              "      <td>604</td>\n",
              "      <td>100072</td>\n",
              "      <td>89856</td>\n",
              "      <td>320627</td>\n",
              "      <td>False</td>\n",
              "      <td>Portuguese</td>\n",
              "      <td>Fortnite</td>\n",
              "      <td>NaN</td>\n",
              "      <td>NaN</td>\n",
              "    </tr>\n",
              "    <tr>\n",
              "      <th>8733</th>\n",
              "      <td>8734</td>\n",
              "      <td>8912745</td>\n",
              "      <td>31905</td>\n",
              "      <td>2022</td>\n",
              "      <td>220</td>\n",
              "      <td>11982</td>\n",
              "      <td>4166</td>\n",
              "      <td>271026</td>\n",
              "      <td>True</td>\n",
              "      <td>Russian</td>\n",
              "      <td>Poker</td>\n",
              "      <td>NaN</td>\n",
              "      <td>NaN</td>\n",
              "    </tr>\n",
              "    <tr>\n",
              "      <th>8746</th>\n",
              "      <td>8747</td>\n",
              "      <td>8890335</td>\n",
              "      <td>28845</td>\n",
              "      <td>1156</td>\n",
              "      <td>307</td>\n",
              "      <td>28837</td>\n",
              "      <td>22715</td>\n",
              "      <td>297286</td>\n",
              "      <td>False</td>\n",
              "      <td>English</td>\n",
              "      <td>Music</td>\n",
              "      <td>NaN</td>\n",
              "      <td>NaN</td>\n",
              "    </tr>\n",
              "  </tbody>\n",
              "</table>\n",
              "<p>410 rows × 13 columns</p>\n",
              "</div>"
            ],
            "text/plain": [
              "      top count  watch time  ...  second category  third category\n",
              "3             4  4764929775  ...              NaN             NaN\n",
              "18           19  2271646785  ...              NaN             NaN\n",
              "24           25  1912132740  ...              NaN             NaN\n",
              "27           28  1868846880  ...              NaN             NaN\n",
              "28           29  1852648845  ...              NaN             NaN\n",
              "...         ...         ...  ...              ...             ...\n",
              "8693       8694     9085365  ...              NaN             NaN\n",
              "8695       8696     9082995  ...              NaN             NaN\n",
              "8696       8697     9078390  ...              NaN             NaN\n",
              "8733       8734     8912745  ...              NaN             NaN\n",
              "8746       8747     8890335  ...              NaN             NaN\n",
              "\n",
              "[410 rows x 13 columns]"
            ]
          },
          "metadata": {},
          "execution_count": 28
        }
      ]
    },
    {
      "cell_type": "markdown",
      "metadata": {
        "id": "orsiJOqVEakN"
      },
      "source": [
        "Já que estes registros possuem valores NaN nas colunas de segundo e terceiro colocado, iremos removê-los"
      ]
    },
    {
      "cell_type": "code",
      "metadata": {
        "id": "HngoHpEaFYKm"
      },
      "source": [
        "df.dropna(subset=['second category'], inplace=True)"
      ],
      "execution_count": 29,
      "outputs": []
    },
    {
      "cell_type": "code",
      "metadata": {
        "id": "ql_qqVPsFgzU",
        "colab": {
          "base_uri": "https://localhost:8080/"
        },
        "outputId": "13ff705f-e841-4582-8fc5-805ceb80dd66"
      },
      "source": [
        "df['second category'].isnull().sum()"
      ],
      "execution_count": 30,
      "outputs": [
        {
          "output_type": "execute_result",
          "data": {
            "text/plain": [
              "0"
            ]
          },
          "metadata": {},
          "execution_count": 30
        }
      ]
    },
    {
      "cell_type": "markdown",
      "metadata": {
        "id": "DPRSPgiwBCrf"
      },
      "source": [
        "#### **2.8 Third category**"
      ]
    },
    {
      "cell_type": "code",
      "metadata": {
        "id": "Wssi48VRBrIm",
        "colab": {
          "base_uri": "https://localhost:8080/"
        },
        "outputId": "cdb9cba3-158d-4cc4-a620-22525ccc11ee"
      },
      "source": [
        " df['third category'].isnull().sum()"
      ],
      "execution_count": 31,
      "outputs": [
        {
          "output_type": "execute_result",
          "data": {
            "text/plain": [
              "381"
            ]
          },
          "metadata": {},
          "execution_count": 31
        }
      ]
    },
    {
      "cell_type": "code",
      "metadata": {
        "id": "rsJm9aNqFqSM",
        "outputId": "127cdac3-1e13-471a-d337-3db4a1b4ee96",
        "colab": {
          "base_uri": "https://localhost:8080/",
          "height": 470
        }
      },
      "source": [
        "df[df['third category'].isnull()]"
      ],
      "execution_count": 32,
      "outputs": [
        {
          "output_type": "execute_result",
          "data": {
            "text/html": [
              "<div>\n",
              "<style scoped>\n",
              "    .dataframe tbody tr th:only-of-type {\n",
              "        vertical-align: middle;\n",
              "    }\n",
              "\n",
              "    .dataframe tbody tr th {\n",
              "        vertical-align: top;\n",
              "    }\n",
              "\n",
              "    .dataframe thead th {\n",
              "        text-align: right;\n",
              "    }\n",
              "</style>\n",
              "<table border=\"1\" class=\"dataframe\">\n",
              "  <thead>\n",
              "    <tr style=\"text-align: right;\">\n",
              "      <th></th>\n",
              "      <th>top count</th>\n",
              "      <th>watch time</th>\n",
              "      <th>stream time</th>\n",
              "      <th>peak viewers</th>\n",
              "      <th>average viewers</th>\n",
              "      <th>followers</th>\n",
              "      <th>followers gained</th>\n",
              "      <th>views gained</th>\n",
              "      <th>mature</th>\n",
              "      <th>language</th>\n",
              "      <th>first category</th>\n",
              "      <th>second category</th>\n",
              "      <th>third category</th>\n",
              "    </tr>\n",
              "  </thead>\n",
              "  <tbody>\n",
              "    <tr>\n",
              "      <th>35</th>\n",
              "      <td>36</td>\n",
              "      <td>1696248240</td>\n",
              "      <td>495930</td>\n",
              "      <td>204491</td>\n",
              "      <td>3455</td>\n",
              "      <td>556640</td>\n",
              "      <td>128514</td>\n",
              "      <td>73896080</td>\n",
              "      <td>False</td>\n",
              "      <td>French</td>\n",
              "      <td>League of Legends</td>\n",
              "      <td>Teamfight Tactics</td>\n",
              "      <td>NaN</td>\n",
              "    </tr>\n",
              "    <tr>\n",
              "      <th>54</th>\n",
              "      <td>55</td>\n",
              "      <td>1343793615</td>\n",
              "      <td>38145</td>\n",
              "      <td>255542</td>\n",
              "      <td>29278</td>\n",
              "      <td>1079746</td>\n",
              "      <td>347030</td>\n",
              "      <td>32291480</td>\n",
              "      <td>False</td>\n",
              "      <td>Portuguese</td>\n",
              "      <td>League of Legends</td>\n",
              "      <td>Teamfight Tactics</td>\n",
              "      <td>NaN</td>\n",
              "    </tr>\n",
              "    <tr>\n",
              "      <th>67</th>\n",
              "      <td>68</td>\n",
              "      <td>1238580630</td>\n",
              "      <td>92250</td>\n",
              "      <td>233009</td>\n",
              "      <td>14637</td>\n",
              "      <td>656489</td>\n",
              "      <td>186991</td>\n",
              "      <td>55915235</td>\n",
              "      <td>False</td>\n",
              "      <td>Spanish</td>\n",
              "      <td>League of Legends</td>\n",
              "      <td>Teamfight Tactics</td>\n",
              "      <td>NaN</td>\n",
              "    </tr>\n",
              "    <tr>\n",
              "      <th>104</th>\n",
              "      <td>105</td>\n",
              "      <td>899691960</td>\n",
              "      <td>48060</td>\n",
              "      <td>146577</td>\n",
              "      <td>18738</td>\n",
              "      <td>537728</td>\n",
              "      <td>301490</td>\n",
              "      <td>33202930</td>\n",
              "      <td>False</td>\n",
              "      <td>English</td>\n",
              "      <td>League of Legends</td>\n",
              "      <td>Teamfight Tactics</td>\n",
              "      <td>NaN</td>\n",
              "    </tr>\n",
              "    <tr>\n",
              "      <th>120</th>\n",
              "      <td>121</td>\n",
              "      <td>757691745</td>\n",
              "      <td>486105</td>\n",
              "      <td>6075</td>\n",
              "      <td>1550</td>\n",
              "      <td>69689</td>\n",
              "      <td>28879</td>\n",
              "      <td>55118276</td>\n",
              "      <td>False</td>\n",
              "      <td>English</td>\n",
              "      <td>Just Chatting</td>\n",
              "      <td>Fortnite</td>\n",
              "      <td>NaN</td>\n",
              "    </tr>\n",
              "    <tr>\n",
              "      <th>...</th>\n",
              "      <td>...</td>\n",
              "      <td>...</td>\n",
              "      <td>...</td>\n",
              "      <td>...</td>\n",
              "      <td>...</td>\n",
              "      <td>...</td>\n",
              "      <td>...</td>\n",
              "      <td>...</td>\n",
              "      <td>...</td>\n",
              "      <td>...</td>\n",
              "      <td>...</td>\n",
              "      <td>...</td>\n",
              "      <td>...</td>\n",
              "    </tr>\n",
              "    <tr>\n",
              "      <th>8608</th>\n",
              "      <td>8609</td>\n",
              "      <td>9196035</td>\n",
              "      <td>442215</td>\n",
              "      <td>92</td>\n",
              "      <td>20</td>\n",
              "      <td>573</td>\n",
              "      <td>226</td>\n",
              "      <td>106501</td>\n",
              "      <td>False</td>\n",
              "      <td>Chinese</td>\n",
              "      <td>Music</td>\n",
              "      <td>Unlisted on Twitch</td>\n",
              "      <td>NaN</td>\n",
              "    </tr>\n",
              "    <tr>\n",
              "      <th>8654</th>\n",
              "      <td>8655</td>\n",
              "      <td>9139860</td>\n",
              "      <td>123900</td>\n",
              "      <td>3286</td>\n",
              "      <td>65</td>\n",
              "      <td>21964</td>\n",
              "      <td>18944</td>\n",
              "      <td>164689</td>\n",
              "      <td>False</td>\n",
              "      <td>English</td>\n",
              "      <td>Overwatch</td>\n",
              "      <td>Apex Legends</td>\n",
              "      <td>NaN</td>\n",
              "    </tr>\n",
              "    <tr>\n",
              "      <th>8704</th>\n",
              "      <td>8705</td>\n",
              "      <td>8952300</td>\n",
              "      <td>3870</td>\n",
              "      <td>4093</td>\n",
              "      <td>2303</td>\n",
              "      <td>74173</td>\n",
              "      <td>25784</td>\n",
              "      <td>351632</td>\n",
              "      <td>True</td>\n",
              "      <td>Finnish</td>\n",
              "      <td>Counter-Strike: Global Offensive</td>\n",
              "      <td>Counter-Strike</td>\n",
              "      <td>NaN</td>\n",
              "    </tr>\n",
              "    <tr>\n",
              "      <th>8711</th>\n",
              "      <td>8712</td>\n",
              "      <td>8944605</td>\n",
              "      <td>519000</td>\n",
              "      <td>567</td>\n",
              "      <td>16</td>\n",
              "      <td>11712</td>\n",
              "      <td>4164</td>\n",
              "      <td>194215</td>\n",
              "      <td>False</td>\n",
              "      <td>English</td>\n",
              "      <td>Poker</td>\n",
              "      <td>Unlisted on Twitch</td>\n",
              "      <td>NaN</td>\n",
              "    </tr>\n",
              "    <tr>\n",
              "      <th>8728</th>\n",
              "      <td>8729</td>\n",
              "      <td>8922105</td>\n",
              "      <td>8730</td>\n",
              "      <td>5172</td>\n",
              "      <td>740</td>\n",
              "      <td>48023</td>\n",
              "      <td>16159</td>\n",
              "      <td>549172</td>\n",
              "      <td>False</td>\n",
              "      <td>French</td>\n",
              "      <td>VALORANT</td>\n",
              "      <td>Counter-Strike: Global Offensive</td>\n",
              "      <td>NaN</td>\n",
              "    </tr>\n",
              "  </tbody>\n",
              "</table>\n",
              "<p>381 rows × 13 columns</p>\n",
              "</div>"
            ],
            "text/plain": [
              "      top count  watch time  ...                   second category  third category\n",
              "35           36  1696248240  ...                 Teamfight Tactics             NaN\n",
              "54           55  1343793615  ...                 Teamfight Tactics             NaN\n",
              "67           68  1238580630  ...                 Teamfight Tactics             NaN\n",
              "104         105   899691960  ...                 Teamfight Tactics             NaN\n",
              "120         121   757691745  ...                          Fortnite             NaN\n",
              "...         ...         ...  ...                               ...             ...\n",
              "8608       8609     9196035  ...                Unlisted on Twitch             NaN\n",
              "8654       8655     9139860  ...                      Apex Legends             NaN\n",
              "8704       8705     8952300  ...                    Counter-Strike             NaN\n",
              "8711       8712     8944605  ...                Unlisted on Twitch             NaN\n",
              "8728       8729     8922105  ...  Counter-Strike: Global Offensive             NaN\n",
              "\n",
              "[381 rows x 13 columns]"
            ]
          },
          "metadata": {},
          "execution_count": 32
        }
      ]
    },
    {
      "cell_type": "markdown",
      "metadata": {
        "id": "Ikrrr3uRFz86"
      },
      "source": [
        "Como agora temos menos valores NaN somente para o terceiro colocado, ao invés de removê-los podemos inserir um texto padrão como \"Não informado\""
      ]
    },
    {
      "cell_type": "code",
      "metadata": {
        "id": "3MxQwGwpGDNi"
      },
      "source": [
        "df['third category'].fillna(\"Não informado\", inplace=True)"
      ],
      "execution_count": 33,
      "outputs": []
    },
    {
      "cell_type": "code",
      "metadata": {
        "id": "Ip7SsklNOB39",
        "colab": {
          "base_uri": "https://localhost:8080/"
        },
        "outputId": "0743e574-d14d-4490-aa82-783c063cb130"
      },
      "source": [
        " df['third category'].isnull().sum()"
      ],
      "execution_count": 34,
      "outputs": [
        {
          "output_type": "execute_result",
          "data": {
            "text/plain": [
              "0"
            ]
          },
          "metadata": {},
          "execution_count": 34
        }
      ]
    },
    {
      "cell_type": "markdown",
      "metadata": {
        "id": "HWeg-O8mQC0g"
      },
      "source": [
        "#### **2.9 Removendo duplicados e Correções finais**\n",
        "Vamos remover os registros duplicados, caso haja algum"
      ]
    },
    {
      "cell_type": "code",
      "metadata": {
        "id": "UbXg3UrTQI4p",
        "colab": {
          "base_uri": "https://localhost:8080/",
          "height": 49
        },
        "outputId": "00ec2aca-ca01-4f68-9065-faf564cff72b"
      },
      "source": [
        "df[df.duplicated(keep='first')]"
      ],
      "execution_count": 35,
      "outputs": [
        {
          "output_type": "execute_result",
          "data": {
            "text/html": [
              "<div>\n",
              "<style scoped>\n",
              "    .dataframe tbody tr th:only-of-type {\n",
              "        vertical-align: middle;\n",
              "    }\n",
              "\n",
              "    .dataframe tbody tr th {\n",
              "        vertical-align: top;\n",
              "    }\n",
              "\n",
              "    .dataframe thead th {\n",
              "        text-align: right;\n",
              "    }\n",
              "</style>\n",
              "<table border=\"1\" class=\"dataframe\">\n",
              "  <thead>\n",
              "    <tr style=\"text-align: right;\">\n",
              "      <th></th>\n",
              "      <th>top count</th>\n",
              "      <th>watch time</th>\n",
              "      <th>stream time</th>\n",
              "      <th>peak viewers</th>\n",
              "      <th>average viewers</th>\n",
              "      <th>followers</th>\n",
              "      <th>followers gained</th>\n",
              "      <th>views gained</th>\n",
              "      <th>mature</th>\n",
              "      <th>language</th>\n",
              "      <th>first category</th>\n",
              "      <th>second category</th>\n",
              "      <th>third category</th>\n",
              "    </tr>\n",
              "  </thead>\n",
              "  <tbody>\n",
              "  </tbody>\n",
              "</table>\n",
              "</div>"
            ],
            "text/plain": [
              "Empty DataFrame\n",
              "Columns: [top count, watch time, stream time, peak viewers, average viewers, followers, followers gained, views gained, mature, language, first category, second category, third category]\n",
              "Index: []"
            ]
          },
          "metadata": {},
          "execution_count": 35
        }
      ]
    },
    {
      "cell_type": "code",
      "metadata": {
        "id": "hK3oMrOCQcpC"
      },
      "source": [
        "df.reset_index(drop=True, inplace=True)"
      ],
      "execution_count": 36,
      "outputs": []
    },
    {
      "cell_type": "code",
      "metadata": {
        "id": "kkQlhP_QOgJn",
        "colab": {
          "base_uri": "https://localhost:8080/"
        },
        "outputId": "6c58bd53-09ae-4f8c-cbc7-d0b94c032b6a"
      },
      "source": [
        "df.info()"
      ],
      "execution_count": 37,
      "outputs": [
        {
          "output_type": "stream",
          "name": "stdout",
          "text": [
            "<class 'pandas.core.frame.DataFrame'>\n",
            "RangeIndex: 8389 entries, 0 to 8388\n",
            "Data columns (total 13 columns):\n",
            " #   Column            Non-Null Count  Dtype \n",
            "---  ------            --------------  ----- \n",
            " 0   top count         8389 non-null   int64 \n",
            " 1   watch time        8389 non-null   int64 \n",
            " 2   stream time       8389 non-null   int64 \n",
            " 3   peak viewers      8389 non-null   int64 \n",
            " 4   average viewers   8389 non-null   int64 \n",
            " 5   followers         8389 non-null   int64 \n",
            " 6   followers gained  8389 non-null   int64 \n",
            " 7   views gained      8389 non-null   int64 \n",
            " 8   mature            8389 non-null   bool  \n",
            " 9   language          8389 non-null   object\n",
            " 10  first category    8389 non-null   object\n",
            " 11  second category   8389 non-null   object\n",
            " 12  third category    8389 non-null   object\n",
            "dtypes: bool(1), int64(8), object(4)\n",
            "memory usage: 794.8+ KB\n"
          ]
        }
      ]
    },
    {
      "cell_type": "code",
      "metadata": {
        "id": "x5lNC0ujQdvo",
        "colab": {
          "base_uri": "https://localhost:8080/",
          "height": 272
        },
        "outputId": "cae3ce31-428a-4c69-8ce6-e40ddb76e751"
      },
      "source": [
        "df.head()"
      ],
      "execution_count": 38,
      "outputs": [
        {
          "output_type": "execute_result",
          "data": {
            "text/html": [
              "<div>\n",
              "<style scoped>\n",
              "    .dataframe tbody tr th:only-of-type {\n",
              "        vertical-align: middle;\n",
              "    }\n",
              "\n",
              "    .dataframe tbody tr th {\n",
              "        vertical-align: top;\n",
              "    }\n",
              "\n",
              "    .dataframe thead th {\n",
              "        text-align: right;\n",
              "    }\n",
              "</style>\n",
              "<table border=\"1\" class=\"dataframe\">\n",
              "  <thead>\n",
              "    <tr style=\"text-align: right;\">\n",
              "      <th></th>\n",
              "      <th>top count</th>\n",
              "      <th>watch time</th>\n",
              "      <th>stream time</th>\n",
              "      <th>peak viewers</th>\n",
              "      <th>average viewers</th>\n",
              "      <th>followers</th>\n",
              "      <th>followers gained</th>\n",
              "      <th>views gained</th>\n",
              "      <th>mature</th>\n",
              "      <th>language</th>\n",
              "      <th>first category</th>\n",
              "      <th>second category</th>\n",
              "      <th>third category</th>\n",
              "    </tr>\n",
              "  </thead>\n",
              "  <tbody>\n",
              "    <tr>\n",
              "      <th>0</th>\n",
              "      <td>1</td>\n",
              "      <td>7333609065</td>\n",
              "      <td>215670</td>\n",
              "      <td>222720</td>\n",
              "      <td>32913</td>\n",
              "      <td>3691010</td>\n",
              "      <td>2051895</td>\n",
              "      <td>109735389</td>\n",
              "      <td>False</td>\n",
              "      <td>English</td>\n",
              "      <td>Just Chatting</td>\n",
              "      <td>Among Us</td>\n",
              "      <td>Overwatch</td>\n",
              "    </tr>\n",
              "    <tr>\n",
              "      <th>1</th>\n",
              "      <td>2</td>\n",
              "      <td>6314532585</td>\n",
              "      <td>515595</td>\n",
              "      <td>387315</td>\n",
              "      <td>12254</td>\n",
              "      <td>1966465</td>\n",
              "      <td>1141123</td>\n",
              "      <td>112807468</td>\n",
              "      <td>True</td>\n",
              "      <td>Portuguese</td>\n",
              "      <td>Counter-Strike: Global Offensive</td>\n",
              "      <td>Among Us</td>\n",
              "      <td>PLAYERUNKNOWN</td>\n",
              "    </tr>\n",
              "    <tr>\n",
              "      <th>2</th>\n",
              "      <td>3</td>\n",
              "      <td>6235007490</td>\n",
              "      <td>216000</td>\n",
              "      <td>310998</td>\n",
              "      <td>25931</td>\n",
              "      <td>5374710</td>\n",
              "      <td>1402547</td>\n",
              "      <td>91501875</td>\n",
              "      <td>False</td>\n",
              "      <td>English</td>\n",
              "      <td>Escape From Tarkov</td>\n",
              "      <td>Sea of Thieves</td>\n",
              "      <td>Grand Theft Auto V</td>\n",
              "    </tr>\n",
              "    <tr>\n",
              "      <th>3</th>\n",
              "      <td>5</td>\n",
              "      <td>3853252845</td>\n",
              "      <td>131880</td>\n",
              "      <td>163241</td>\n",
              "      <td>29183</td>\n",
              "      <td>4415637</td>\n",
              "      <td>1337535</td>\n",
              "      <td>49164651</td>\n",
              "      <td>False</td>\n",
              "      <td>English</td>\n",
              "      <td>Call Of Duty: Modern Warfare</td>\n",
              "      <td>Fortnite</td>\n",
              "      <td>Halo: The Master Chief Collection</td>\n",
              "    </tr>\n",
              "    <tr>\n",
              "      <th>4</th>\n",
              "      <td>6</td>\n",
              "      <td>3644124975</td>\n",
              "      <td>161595</td>\n",
              "      <td>68795</td>\n",
              "      <td>19768</td>\n",
              "      <td>533400</td>\n",
              "      <td>437036</td>\n",
              "      <td>684835748</td>\n",
              "      <td>False</td>\n",
              "      <td>English</td>\n",
              "      <td>VALORANT</td>\n",
              "      <td>The Elder Scrolls Online</td>\n",
              "      <td>Genshin Impact</td>\n",
              "    </tr>\n",
              "  </tbody>\n",
              "</table>\n",
              "</div>"
            ],
            "text/plain": [
              "   top count  ...                     third category\n",
              "0          1  ...                          Overwatch\n",
              "1          2  ...                      PLAYERUNKNOWN\n",
              "2          3  ...                 Grand Theft Auto V\n",
              "3          5  ...  Halo: The Master Chief Collection\n",
              "4          6  ...                     Genshin Impact\n",
              "\n",
              "[5 rows x 13 columns]"
            ]
          },
          "metadata": {},
          "execution_count": 38
        }
      ]
    },
    {
      "cell_type": "markdown",
      "metadata": {
        "id": "iGb7KYj0Q8i2"
      },
      "source": [
        "#### 2.10 **Renomeando Colunas**"
      ]
    },
    {
      "cell_type": "code",
      "metadata": {
        "id": "KcOu0HDoQ_Sn"
      },
      "source": [
        "df = df.rename(columns={\n",
        "    'top count': 'topCount',\n",
        "    'watch time': 'watchTime',\n",
        "    'stream time': 'streamTime',\n",
        "    'peak viewers': 'peakViewers',\n",
        "    'average viewers': 'averageViewers',\n",
        "    'followers gained': 'followersGained',\n",
        "    'views gained': 'viewsGained',\n",
        "    'first category': 'firstCategory',\n",
        "    'second category': 'secondCategory',\n",
        "    'third category': 'thirdCategory'\n",
        "})"
      ],
      "execution_count": 39,
      "outputs": []
    },
    {
      "cell_type": "code",
      "metadata": {
        "id": "TWsDr4UxRcIM",
        "colab": {
          "base_uri": "https://localhost:8080/"
        },
        "outputId": "346a5249-8242-430a-87b4-8d54cdf6153a"
      },
      "source": [
        "df.info()"
      ],
      "execution_count": 40,
      "outputs": [
        {
          "output_type": "stream",
          "name": "stdout",
          "text": [
            "<class 'pandas.core.frame.DataFrame'>\n",
            "RangeIndex: 8389 entries, 0 to 8388\n",
            "Data columns (total 13 columns):\n",
            " #   Column           Non-Null Count  Dtype \n",
            "---  ------           --------------  ----- \n",
            " 0   topCount         8389 non-null   int64 \n",
            " 1   watchTime        8389 non-null   int64 \n",
            " 2   streamTime       8389 non-null   int64 \n",
            " 3   peakViewers      8389 non-null   int64 \n",
            " 4   averageViewers   8389 non-null   int64 \n",
            " 5   followers        8389 non-null   int64 \n",
            " 6   followersGained  8389 non-null   int64 \n",
            " 7   viewsGained      8389 non-null   int64 \n",
            " 8   mature           8389 non-null   bool  \n",
            " 9   language         8389 non-null   object\n",
            " 10  firstCategory    8389 non-null   object\n",
            " 11  secondCategory   8389 non-null   object\n",
            " 12  thirdCategory    8389 non-null   object\n",
            "dtypes: bool(1), int64(8), object(4)\n",
            "memory usage: 794.8+ KB\n"
          ]
        }
      ]
    },
    {
      "cell_type": "markdown",
      "metadata": {
        "id": "XuIziO0hd3g5"
      },
      "source": [
        "### **3. Análise Exploratória**"
      ]
    },
    {
      "cell_type": "code",
      "metadata": {
        "id": "MgV2s0nTeL56",
        "outputId": "5e30b8ff-cf8e-4703-c8b7-7ff2d61f92f2",
        "colab": {
          "base_uri": "https://localhost:8080/",
          "height": 255
        }
      },
      "source": [
        "df.head()"
      ],
      "execution_count": 42,
      "outputs": [
        {
          "output_type": "execute_result",
          "data": {
            "text/html": [
              "<div>\n",
              "<style scoped>\n",
              "    .dataframe tbody tr th:only-of-type {\n",
              "        vertical-align: middle;\n",
              "    }\n",
              "\n",
              "    .dataframe tbody tr th {\n",
              "        vertical-align: top;\n",
              "    }\n",
              "\n",
              "    .dataframe thead th {\n",
              "        text-align: right;\n",
              "    }\n",
              "</style>\n",
              "<table border=\"1\" class=\"dataframe\">\n",
              "  <thead>\n",
              "    <tr style=\"text-align: right;\">\n",
              "      <th></th>\n",
              "      <th>topCount</th>\n",
              "      <th>watchTime</th>\n",
              "      <th>streamTime</th>\n",
              "      <th>peakViewers</th>\n",
              "      <th>averageViewers</th>\n",
              "      <th>followers</th>\n",
              "      <th>followersGained</th>\n",
              "      <th>viewsGained</th>\n",
              "      <th>mature</th>\n",
              "      <th>language</th>\n",
              "      <th>firstCategory</th>\n",
              "      <th>secondCategory</th>\n",
              "      <th>thirdCategory</th>\n",
              "    </tr>\n",
              "  </thead>\n",
              "  <tbody>\n",
              "    <tr>\n",
              "      <th>0</th>\n",
              "      <td>1</td>\n",
              "      <td>7333609065</td>\n",
              "      <td>215670</td>\n",
              "      <td>222720</td>\n",
              "      <td>32913</td>\n",
              "      <td>3691010</td>\n",
              "      <td>2051895</td>\n",
              "      <td>109735389</td>\n",
              "      <td>False</td>\n",
              "      <td>English</td>\n",
              "      <td>Just Chatting</td>\n",
              "      <td>Among Us</td>\n",
              "      <td>Overwatch</td>\n",
              "    </tr>\n",
              "    <tr>\n",
              "      <th>1</th>\n",
              "      <td>2</td>\n",
              "      <td>6314532585</td>\n",
              "      <td>515595</td>\n",
              "      <td>387315</td>\n",
              "      <td>12254</td>\n",
              "      <td>1966465</td>\n",
              "      <td>1141123</td>\n",
              "      <td>112807468</td>\n",
              "      <td>True</td>\n",
              "      <td>Portuguese</td>\n",
              "      <td>Counter-Strike: Global Offensive</td>\n",
              "      <td>Among Us</td>\n",
              "      <td>PLAYERUNKNOWN</td>\n",
              "    </tr>\n",
              "    <tr>\n",
              "      <th>2</th>\n",
              "      <td>3</td>\n",
              "      <td>6235007490</td>\n",
              "      <td>216000</td>\n",
              "      <td>310998</td>\n",
              "      <td>25931</td>\n",
              "      <td>5374710</td>\n",
              "      <td>1402547</td>\n",
              "      <td>91501875</td>\n",
              "      <td>False</td>\n",
              "      <td>English</td>\n",
              "      <td>Escape From Tarkov</td>\n",
              "      <td>Sea of Thieves</td>\n",
              "      <td>Grand Theft Auto V</td>\n",
              "    </tr>\n",
              "    <tr>\n",
              "      <th>3</th>\n",
              "      <td>5</td>\n",
              "      <td>3853252845</td>\n",
              "      <td>131880</td>\n",
              "      <td>163241</td>\n",
              "      <td>29183</td>\n",
              "      <td>4415637</td>\n",
              "      <td>1337535</td>\n",
              "      <td>49164651</td>\n",
              "      <td>False</td>\n",
              "      <td>English</td>\n",
              "      <td>Call Of Duty: Modern Warfare</td>\n",
              "      <td>Fortnite</td>\n",
              "      <td>Halo: The Master Chief Collection</td>\n",
              "    </tr>\n",
              "    <tr>\n",
              "      <th>4</th>\n",
              "      <td>6</td>\n",
              "      <td>3644124975</td>\n",
              "      <td>161595</td>\n",
              "      <td>68795</td>\n",
              "      <td>19768</td>\n",
              "      <td>533400</td>\n",
              "      <td>437036</td>\n",
              "      <td>684835748</td>\n",
              "      <td>False</td>\n",
              "      <td>English</td>\n",
              "      <td>VALORANT</td>\n",
              "      <td>The Elder Scrolls Online</td>\n",
              "      <td>Genshin Impact</td>\n",
              "    </tr>\n",
              "  </tbody>\n",
              "</table>\n",
              "</div>"
            ],
            "text/plain": [
              "   topCount  ...                      thirdCategory\n",
              "0         1  ...                          Overwatch\n",
              "1         2  ...                      PLAYERUNKNOWN\n",
              "2         3  ...                 Grand Theft Auto V\n",
              "3         5  ...  Halo: The Master Chief Collection\n",
              "4         6  ...                     Genshin Impact\n",
              "\n",
              "[5 rows x 13 columns]"
            ]
          },
          "metadata": {},
          "execution_count": 42
        }
      ]
    },
    {
      "cell_type": "markdown",
      "metadata": {
        "id": "giuSd1xZef1x"
      },
      "source": [
        "#### **3.1 Estatísticas descritivas básicas**"
      ]
    },
    {
      "cell_type": "code",
      "metadata": {
        "id": "ytau2kKSeaAF",
        "outputId": "a7392ce4-b69f-4887-f171-3df1d9628eb3",
        "colab": {
          "base_uri": "https://localhost:8080/",
          "height": 297
        }
      },
      "source": [
        "df.describe()"
      ],
      "execution_count": 43,
      "outputs": [
        {
          "output_type": "execute_result",
          "data": {
            "text/html": [
              "<div>\n",
              "<style scoped>\n",
              "    .dataframe tbody tr th:only-of-type {\n",
              "        vertical-align: middle;\n",
              "    }\n",
              "\n",
              "    .dataframe tbody tr th {\n",
              "        vertical-align: top;\n",
              "    }\n",
              "\n",
              "    .dataframe thead th {\n",
              "        text-align: right;\n",
              "    }\n",
              "</style>\n",
              "<table border=\"1\" class=\"dataframe\">\n",
              "  <thead>\n",
              "    <tr style=\"text-align: right;\">\n",
              "      <th></th>\n",
              "      <th>topCount</th>\n",
              "      <th>watchTime</th>\n",
              "      <th>streamTime</th>\n",
              "      <th>peakViewers</th>\n",
              "      <th>averageViewers</th>\n",
              "      <th>followers</th>\n",
              "      <th>followersGained</th>\n",
              "      <th>viewsGained</th>\n",
              "    </tr>\n",
              "  </thead>\n",
              "  <tbody>\n",
              "    <tr>\n",
              "      <th>count</th>\n",
              "      <td>8389.000000</td>\n",
              "      <td>8.389000e+03</td>\n",
              "      <td>8389.000000</td>\n",
              "      <td>8.389000e+03</td>\n",
              "      <td>8389.000000</td>\n",
              "      <td>8.389000e+03</td>\n",
              "      <td>8.389000e+03</td>\n",
              "      <td>8.389000e+03</td>\n",
              "    </tr>\n",
              "    <tr>\n",
              "      <th>mean</th>\n",
              "      <td>4394.242937</td>\n",
              "      <td>7.659037e+07</td>\n",
              "      <td>87237.875790</td>\n",
              "      <td>9.303674e+03</td>\n",
              "      <td>1099.863273</td>\n",
              "      <td>1.451444e+05</td>\n",
              "      <td>6.073100e+04</td>\n",
              "      <td>2.473236e+06</td>\n",
              "    </tr>\n",
              "    <tr>\n",
              "      <th>std</th>\n",
              "      <td>2536.447503</td>\n",
              "      <td>2.376042e+08</td>\n",
              "      <td>64151.708113</td>\n",
              "      <td>2.553945e+04</td>\n",
              "      <td>2893.573996</td>\n",
              "      <td>3.959783e+05</td>\n",
              "      <td>1.636855e+05</td>\n",
              "      <td>9.633958e+06</td>\n",
              "    </tr>\n",
              "    <tr>\n",
              "      <th>min</th>\n",
              "      <td>1.000000</td>\n",
              "      <td>8.827995e+06</td>\n",
              "      <td>150.000000</td>\n",
              "      <td>7.500000e+01</td>\n",
              "      <td>16.000000</td>\n",
              "      <td>1.190000e+02</td>\n",
              "      <td>-1.785700e+05</td>\n",
              "      <td>1.982000e+03</td>\n",
              "    </tr>\n",
              "    <tr>\n",
              "      <th>25%</th>\n",
              "      <td>2202.000000</td>\n",
              "      <td>1.307338e+07</td>\n",
              "      <td>45570.000000</td>\n",
              "      <td>1.550000e+03</td>\n",
              "      <td>174.000000</td>\n",
              "      <td>2.327300e+04</td>\n",
              "      <td>7.692000e+03</td>\n",
              "      <td>3.619410e+05</td>\n",
              "    </tr>\n",
              "    <tr>\n",
              "      <th>50%</th>\n",
              "      <td>4388.000000</td>\n",
              "      <td>2.230203e+07</td>\n",
              "      <td>78450.000000</td>\n",
              "      <td>3.423000e+03</td>\n",
              "      <td>351.000000</td>\n",
              "      <td>5.333300e+04</td>\n",
              "      <td>1.951300e+04</td>\n",
              "      <td>7.697760e+05</td>\n",
              "    </tr>\n",
              "    <tr>\n",
              "      <th>75%</th>\n",
              "      <td>6585.000000</td>\n",
              "      <td>5.232114e+07</td>\n",
              "      <td>114345.000000</td>\n",
              "      <td>8.212000e+03</td>\n",
              "      <td>894.000000</td>\n",
              "      <td>1.327820e+05</td>\n",
              "      <td>5.346700e+04</td>\n",
              "      <td>2.103522e+06</td>\n",
              "    </tr>\n",
              "    <tr>\n",
              "      <th>max</th>\n",
              "      <td>8800.000000</td>\n",
              "      <td>7.333609e+09</td>\n",
              "      <td>521115.000000</td>\n",
              "      <td>1.016962e+06</td>\n",
              "      <td>89278.000000</td>\n",
              "      <td>1.604258e+07</td>\n",
              "      <td>4.681567e+06</td>\n",
              "      <td>6.848357e+08</td>\n",
              "    </tr>\n",
              "  </tbody>\n",
              "</table>\n",
              "</div>"
            ],
            "text/plain": [
              "          topCount     watchTime  ...  followersGained   viewsGained\n",
              "count  8389.000000  8.389000e+03  ...     8.389000e+03  8.389000e+03\n",
              "mean   4394.242937  7.659037e+07  ...     6.073100e+04  2.473236e+06\n",
              "std    2536.447503  2.376042e+08  ...     1.636855e+05  9.633958e+06\n",
              "min       1.000000  8.827995e+06  ...    -1.785700e+05  1.982000e+03\n",
              "25%    2202.000000  1.307338e+07  ...     7.692000e+03  3.619410e+05\n",
              "50%    4388.000000  2.230203e+07  ...     1.951300e+04  7.697760e+05\n",
              "75%    6585.000000  5.232114e+07  ...     5.346700e+04  2.103522e+06\n",
              "max    8800.000000  7.333609e+09  ...     4.681567e+06  6.848357e+08\n",
              "\n",
              "[8 rows x 8 columns]"
            ]
          },
          "metadata": {},
          "execution_count": 43
        }
      ]
    },
    {
      "cell_type": "code",
      "metadata": {
        "id": "T1tmLCS8elhd"
      },
      "source": [
        ""
      ],
      "execution_count": null,
      "outputs": []
    }
  ]
}