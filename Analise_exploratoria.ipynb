{
  "nbformat": 4,
  "nbformat_minor": 0,
  "metadata": {
    "colab": {
      "name": "Analise exploratoria.ipynb",
      "provenance": [],
      "collapsed_sections": [],
      "toc_visible": true,
      "mount_file_id": "https://github.com/bruno-albino/exploratory-analysis-ifsp/blob/main/Analise_exploratoria.ipynb",
      "authorship_tag": "ABX9TyOWMIj+30lStlMDtxjGucxz",
      "include_colab_link": true
    },
    "kernelspec": {
      "name": "python3",
      "display_name": "Python 3"
    },
    "language_info": {
      "name": "python"
    }
  },
  "cells": [
    {
      "cell_type": "markdown",
      "metadata": {
        "id": "view-in-github",
        "colab_type": "text"
      },
      "source": [
        "<a href=\"https://colab.research.google.com/github/bruno-albino/exploratory-analysis-ifsp/blob/main/Analise_exploratoria.ipynb\" target=\"_parent\"><img src=\"https://colab.research.google.com/assets/colab-badge.svg\" alt=\"Open In Colab\"/></a>"
      ]
    },
    {
      "cell_type": "markdown",
      "metadata": {
        "id": "11BRvpKokC01"
      },
      "source": [
        "# **Top 8800 Twitch Streamers**\n",
        "### Top of the best streams based on watch time.\n",
        "\n",
        "###### Nome: Bruno da Silva Albino CP: 300273X\n",
        "###### Nome: Eduardo Bueno CP: 300273X\n",
        "---\n"
      ]
    },
    {
      "cell_type": "markdown",
      "metadata": {
        "id": "iftewfmskgAR"
      },
      "source": [
        "Disciplina: Inteligência Artificial\n",
        "\n",
        "Professor: Samuel Martins\n",
        "\n",
        "\n",
        "---\n",
        "\n"
      ]
    },
    {
      "cell_type": "code",
      "metadata": {
        "id": "LDVb8Ii0lhIZ"
      },
      "source": [
        "import pandas as pd\n",
        "import seaborn as sns\n",
        "import matplotlib.pyplot as plt\n",
        "import numpy as np\n",
        "\n",
        "\n",
        "# estilos padrão para os plots/visualizações\n",
        "sns.set_theme(style=\"whitegrid\")\n",
        "plt.rcParams['figure.figsize'] = (10, 6)\n",
        "plt.rcParams['axes.labelsize'] = 14\n",
        "plt.rcParams['xtick.labelsize'] = 14\n",
        "plt.rcParams['xtick.labelsize'] = 14\n",
        "plt.rcParams['ytick.labelsize'] = 14"
      ],
      "execution_count": 182,
      "outputs": []
    },
    {
      "cell_type": "markdown",
      "metadata": {
        "id": "Us00x51rk4yj"
      },
      "source": [
        "### **1. Dataset**\n",
        "----\n",
        "Dataset: Top 8800 Twitch Streamers: https://www.kaggle.com/girlazo/top-8800-twitch-*streamers*\n",
        "\n",
        "Este dataset possui 8800 linhas, listando os melhores streamers do mundo na plataforma de stream Twitch, baseado em tempo assistido pelos usuários. Cada registro possui o nome do streamer, a quantidaded de vies e assinantes do canal, e outras informações como os três jogos mais jogados de cada streamer\n",
        "\n",
        "\n"
      ]
    },
    {
      "cell_type": "markdown",
      "metadata": {
        "id": "H4QwTqUKlrve"
      },
      "source": [
        "#### **1.1 Importando o Dataset**"
      ]
    },
    {
      "cell_type": "code",
      "metadata": {
        "id": "yLyD2kEwl04D"
      },
      "source": [
        "data = pd.read_csv('/content/drive/MyDrive/TwitchDataSet.csv')"
      ],
      "execution_count": 183,
      "outputs": []
    },
    {
      "cell_type": "code",
      "metadata": {
        "id": "nTSp2k6x2o6G",
        "colab": {
          "base_uri": "https://localhost:8080/",
          "height": 445
        },
        "outputId": "2ebe0839-f33b-487e-dcd7-7ba16c8c1513"
      },
      "source": [
        "data.head()"
      ],
      "execution_count": 184,
      "outputs": [
        {
          "output_type": "execute_result",
          "data": {
            "text/html": [
              "<div>\n",
              "<style scoped>\n",
              "    .dataframe tbody tr th:only-of-type {\n",
              "        vertical-align: middle;\n",
              "    }\n",
              "\n",
              "    .dataframe tbody tr th {\n",
              "        vertical-align: top;\n",
              "    }\n",
              "\n",
              "    .dataframe thead th {\n",
              "        text-align: right;\n",
              "    }\n",
              "</style>\n",
              "<table border=\"1\" class=\"dataframe\">\n",
              "  <thead>\n",
              "    <tr style=\"text-align: right;\">\n",
              "      <th></th>\n",
              "      <th>profile picture</th>\n",
              "      <th>top count</th>\n",
              "      <th>screen name</th>\n",
              "      <th>watch time</th>\n",
              "      <th>stream time</th>\n",
              "      <th>peak viewers</th>\n",
              "      <th>average viewers</th>\n",
              "      <th>followers</th>\n",
              "      <th>followers gained</th>\n",
              "      <th>views gained</th>\n",
              "      <th>partnered</th>\n",
              "      <th>mature</th>\n",
              "      <th>language</th>\n",
              "      <th>completa name</th>\n",
              "      <th>first category</th>\n",
              "      <th>second category</th>\n",
              "      <th>third category</th>\n",
              "    </tr>\n",
              "  </thead>\n",
              "  <tbody>\n",
              "    <tr>\n",
              "      <th>0</th>\n",
              "      <td>https://static-cdn.jtvnw.net/jtv_user_pictures...</td>\n",
              "      <td>1</td>\n",
              "      <td>xQcOW</td>\n",
              "      <td>7333609065</td>\n",
              "      <td>215670</td>\n",
              "      <td>222720</td>\n",
              "      <td>32913</td>\n",
              "      <td>3691010</td>\n",
              "      <td>2051895</td>\n",
              "      <td>109735389</td>\n",
              "      <td>True</td>\n",
              "      <td>False</td>\n",
              "      <td>English</td>\n",
              "      <td>xQcOW</td>\n",
              "      <td>Just Chatting</td>\n",
              "      <td>Among Us</td>\n",
              "      <td>Overwatch</td>\n",
              "    </tr>\n",
              "    <tr>\n",
              "      <th>1</th>\n",
              "      <td>https://static-cdn.jtvnw.net/jtv_user_pictures...</td>\n",
              "      <td>2</td>\n",
              "      <td>Gaules</td>\n",
              "      <td>6314532585</td>\n",
              "      <td>515595</td>\n",
              "      <td>387315</td>\n",
              "      <td>12254</td>\n",
              "      <td>1966465</td>\n",
              "      <td>1141123</td>\n",
              "      <td>112807468</td>\n",
              "      <td>True</td>\n",
              "      <td>True</td>\n",
              "      <td>Portuguese</td>\n",
              "      <td>Gaules</td>\n",
              "      <td>Counter-Strike: Global Offensive</td>\n",
              "      <td>Among Us</td>\n",
              "      <td>PLAYERUNKNOWN</td>\n",
              "    </tr>\n",
              "    <tr>\n",
              "      <th>2</th>\n",
              "      <td>https://static-cdn.jtvnw.net/jtv_user_pictures...</td>\n",
              "      <td>3</td>\n",
              "      <td>summit1g</td>\n",
              "      <td>6235007490</td>\n",
              "      <td>216000</td>\n",
              "      <td>310998</td>\n",
              "      <td>25931</td>\n",
              "      <td>5374710</td>\n",
              "      <td>1402547</td>\n",
              "      <td>91501875</td>\n",
              "      <td>True</td>\n",
              "      <td>False</td>\n",
              "      <td>English</td>\n",
              "      <td>summit1g</td>\n",
              "      <td>Escape From Tarkov</td>\n",
              "      <td>Sea of Thieves</td>\n",
              "      <td>Grand Theft Auto V</td>\n",
              "    </tr>\n",
              "    <tr>\n",
              "      <th>3</th>\n",
              "      <td>https://static-cdn.jtvnw.net/jtv_user_pictures...</td>\n",
              "      <td>4</td>\n",
              "      <td>ESL_CSGO</td>\n",
              "      <td>4764929775</td>\n",
              "      <td>517965</td>\n",
              "      <td>300575</td>\n",
              "      <td>9249</td>\n",
              "      <td>4195657</td>\n",
              "      <td>870484</td>\n",
              "      <td>126008641</td>\n",
              "      <td>True</td>\n",
              "      <td>False</td>\n",
              "      <td>English</td>\n",
              "      <td>ESL_CSGO</td>\n",
              "      <td>Counter-Strike: Global Offensive</td>\n",
              "      <td>NaN</td>\n",
              "      <td>NaN</td>\n",
              "    </tr>\n",
              "    <tr>\n",
              "      <th>4</th>\n",
              "      <td>https://static-cdn.jtvnw.net/jtv_user_pictures...</td>\n",
              "      <td>5</td>\n",
              "      <td>NICKMERCS</td>\n",
              "      <td>3853252845</td>\n",
              "      <td>131880</td>\n",
              "      <td>163241</td>\n",
              "      <td>29183</td>\n",
              "      <td>4415637</td>\n",
              "      <td>1337535</td>\n",
              "      <td>49164651</td>\n",
              "      <td>True</td>\n",
              "      <td>False</td>\n",
              "      <td>English</td>\n",
              "      <td>NICKMERCS</td>\n",
              "      <td>Call Of Duty: Modern Warfare</td>\n",
              "      <td>Fortnite</td>\n",
              "      <td>Halo: The Master Chief Collection</td>\n",
              "    </tr>\n",
              "  </tbody>\n",
              "</table>\n",
              "</div>"
            ],
            "text/plain": [
              "                                     profile picture  ...                     third category\n",
              "0  https://static-cdn.jtvnw.net/jtv_user_pictures...  ...                          Overwatch\n",
              "1  https://static-cdn.jtvnw.net/jtv_user_pictures...  ...                      PLAYERUNKNOWN\n",
              "2  https://static-cdn.jtvnw.net/jtv_user_pictures...  ...                 Grand Theft Auto V\n",
              "3  https://static-cdn.jtvnw.net/jtv_user_pictures...  ...                                NaN\n",
              "4  https://static-cdn.jtvnw.net/jtv_user_pictures...  ...  Halo: The Master Chief Collection\n",
              "\n",
              "[5 rows x 17 columns]"
            ]
          },
          "metadata": {},
          "execution_count": 184
        }
      ]
    },
    {
      "cell_type": "markdown",
      "metadata": {
        "id": "-LS1YNsS2sY8"
      },
      "source": [
        "#### **1.2 Informações básicas**"
      ]
    },
    {
      "cell_type": "code",
      "metadata": {
        "id": "aNwgQ794mfti",
        "colab": {
          "base_uri": "https://localhost:8080/"
        },
        "outputId": "df4178f6-ff8d-437b-f876-94989f076079"
      },
      "source": [
        "data.info()"
      ],
      "execution_count": 185,
      "outputs": [
        {
          "output_type": "stream",
          "name": "stdout",
          "text": [
            "<class 'pandas.core.frame.DataFrame'>\n",
            "RangeIndex: 8800 entries, 0 to 8799\n",
            "Data columns (total 17 columns):\n",
            " #   Column            Non-Null Count  Dtype \n",
            "---  ------            --------------  ----- \n",
            " 0   profile picture   8800 non-null   object\n",
            " 1   top count         8800 non-null   int64 \n",
            " 2   screen name       8800 non-null   object\n",
            " 3   watch time        8800 non-null   int64 \n",
            " 4   stream time       8800 non-null   int64 \n",
            " 5   peak viewers      8800 non-null   int64 \n",
            " 6   average viewers   8800 non-null   int64 \n",
            " 7   followers         8800 non-null   int64 \n",
            " 8   followers gained  8800 non-null   int64 \n",
            " 9   views gained      8800 non-null   int64 \n",
            " 10  partnered         8800 non-null   bool  \n",
            " 11  mature            8800 non-null   bool  \n",
            " 12  language          8799 non-null   object\n",
            " 13  completa name     8800 non-null   object\n",
            " 14  first category    8795 non-null   object\n",
            " 15  second category   8390 non-null   object\n",
            " 16  third category    8009 non-null   object\n",
            "dtypes: bool(2), int64(8), object(7)\n",
            "memory usage: 1.0+ MB\n"
          ]
        }
      ]
    },
    {
      "cell_type": "code",
      "metadata": {
        "id": "wtqxfbD53AbQ",
        "colab": {
          "base_uri": "https://localhost:8080/"
        },
        "outputId": "5ec8b516-793c-455d-9715-2e013f8bd64a"
      },
      "source": [
        "print(f'O dataset possui {data.shape[0]} registros/observações/linhas e {data.shape[1]} atributos/variáveis/colunas. Alguns atributos possuem atributos null (p. ex., \"language\") que precisará ser tratado, mas todos já possuem os tipos corretos')"
      ],
      "execution_count": 186,
      "outputs": [
        {
          "output_type": "stream",
          "name": "stdout",
          "text": [
            "O dataset possui 8800 registros/observações/linhas e 17 atributos/variáveis/colunas. Alguns atributos possuem atributos null (p. ex., \"language\") que precisará ser tratado, mas todos já possuem os tipos corretos\n"
          ]
        }
      ]
    },
    {
      "cell_type": "markdown",
      "metadata": {
        "id": "aSA3FPVH4AsT"
      },
      "source": [
        "### **2. Limpeza e Pré-processamento de Dados**\n",
        "---"
      ]
    },
    {
      "cell_type": "code",
      "metadata": {
        "id": "n0mEVHOz3-Ln"
      },
      "source": [
        "df = data.copy()"
      ],
      "execution_count": 187,
      "outputs": []
    },
    {
      "cell_type": "code",
      "metadata": {
        "id": "AzZzxlxK4atN",
        "colab": {
          "base_uri": "https://localhost:8080/",
          "height": 445
        },
        "outputId": "e0e9842c-85af-45b3-c3b3-04a77992a164"
      },
      "source": [
        "df.head()"
      ],
      "execution_count": 188,
      "outputs": [
        {
          "output_type": "execute_result",
          "data": {
            "text/html": [
              "<div>\n",
              "<style scoped>\n",
              "    .dataframe tbody tr th:only-of-type {\n",
              "        vertical-align: middle;\n",
              "    }\n",
              "\n",
              "    .dataframe tbody tr th {\n",
              "        vertical-align: top;\n",
              "    }\n",
              "\n",
              "    .dataframe thead th {\n",
              "        text-align: right;\n",
              "    }\n",
              "</style>\n",
              "<table border=\"1\" class=\"dataframe\">\n",
              "  <thead>\n",
              "    <tr style=\"text-align: right;\">\n",
              "      <th></th>\n",
              "      <th>profile picture</th>\n",
              "      <th>top count</th>\n",
              "      <th>screen name</th>\n",
              "      <th>watch time</th>\n",
              "      <th>stream time</th>\n",
              "      <th>peak viewers</th>\n",
              "      <th>average viewers</th>\n",
              "      <th>followers</th>\n",
              "      <th>followers gained</th>\n",
              "      <th>views gained</th>\n",
              "      <th>partnered</th>\n",
              "      <th>mature</th>\n",
              "      <th>language</th>\n",
              "      <th>completa name</th>\n",
              "      <th>first category</th>\n",
              "      <th>second category</th>\n",
              "      <th>third category</th>\n",
              "    </tr>\n",
              "  </thead>\n",
              "  <tbody>\n",
              "    <tr>\n",
              "      <th>0</th>\n",
              "      <td>https://static-cdn.jtvnw.net/jtv_user_pictures...</td>\n",
              "      <td>1</td>\n",
              "      <td>xQcOW</td>\n",
              "      <td>7333609065</td>\n",
              "      <td>215670</td>\n",
              "      <td>222720</td>\n",
              "      <td>32913</td>\n",
              "      <td>3691010</td>\n",
              "      <td>2051895</td>\n",
              "      <td>109735389</td>\n",
              "      <td>True</td>\n",
              "      <td>False</td>\n",
              "      <td>English</td>\n",
              "      <td>xQcOW</td>\n",
              "      <td>Just Chatting</td>\n",
              "      <td>Among Us</td>\n",
              "      <td>Overwatch</td>\n",
              "    </tr>\n",
              "    <tr>\n",
              "      <th>1</th>\n",
              "      <td>https://static-cdn.jtvnw.net/jtv_user_pictures...</td>\n",
              "      <td>2</td>\n",
              "      <td>Gaules</td>\n",
              "      <td>6314532585</td>\n",
              "      <td>515595</td>\n",
              "      <td>387315</td>\n",
              "      <td>12254</td>\n",
              "      <td>1966465</td>\n",
              "      <td>1141123</td>\n",
              "      <td>112807468</td>\n",
              "      <td>True</td>\n",
              "      <td>True</td>\n",
              "      <td>Portuguese</td>\n",
              "      <td>Gaules</td>\n",
              "      <td>Counter-Strike: Global Offensive</td>\n",
              "      <td>Among Us</td>\n",
              "      <td>PLAYERUNKNOWN</td>\n",
              "    </tr>\n",
              "    <tr>\n",
              "      <th>2</th>\n",
              "      <td>https://static-cdn.jtvnw.net/jtv_user_pictures...</td>\n",
              "      <td>3</td>\n",
              "      <td>summit1g</td>\n",
              "      <td>6235007490</td>\n",
              "      <td>216000</td>\n",
              "      <td>310998</td>\n",
              "      <td>25931</td>\n",
              "      <td>5374710</td>\n",
              "      <td>1402547</td>\n",
              "      <td>91501875</td>\n",
              "      <td>True</td>\n",
              "      <td>False</td>\n",
              "      <td>English</td>\n",
              "      <td>summit1g</td>\n",
              "      <td>Escape From Tarkov</td>\n",
              "      <td>Sea of Thieves</td>\n",
              "      <td>Grand Theft Auto V</td>\n",
              "    </tr>\n",
              "    <tr>\n",
              "      <th>3</th>\n",
              "      <td>https://static-cdn.jtvnw.net/jtv_user_pictures...</td>\n",
              "      <td>4</td>\n",
              "      <td>ESL_CSGO</td>\n",
              "      <td>4764929775</td>\n",
              "      <td>517965</td>\n",
              "      <td>300575</td>\n",
              "      <td>9249</td>\n",
              "      <td>4195657</td>\n",
              "      <td>870484</td>\n",
              "      <td>126008641</td>\n",
              "      <td>True</td>\n",
              "      <td>False</td>\n",
              "      <td>English</td>\n",
              "      <td>ESL_CSGO</td>\n",
              "      <td>Counter-Strike: Global Offensive</td>\n",
              "      <td>NaN</td>\n",
              "      <td>NaN</td>\n",
              "    </tr>\n",
              "    <tr>\n",
              "      <th>4</th>\n",
              "      <td>https://static-cdn.jtvnw.net/jtv_user_pictures...</td>\n",
              "      <td>5</td>\n",
              "      <td>NICKMERCS</td>\n",
              "      <td>3853252845</td>\n",
              "      <td>131880</td>\n",
              "      <td>163241</td>\n",
              "      <td>29183</td>\n",
              "      <td>4415637</td>\n",
              "      <td>1337535</td>\n",
              "      <td>49164651</td>\n",
              "      <td>True</td>\n",
              "      <td>False</td>\n",
              "      <td>English</td>\n",
              "      <td>NICKMERCS</td>\n",
              "      <td>Call Of Duty: Modern Warfare</td>\n",
              "      <td>Fortnite</td>\n",
              "      <td>Halo: The Master Chief Collection</td>\n",
              "    </tr>\n",
              "  </tbody>\n",
              "</table>\n",
              "</div>"
            ],
            "text/plain": [
              "                                     profile picture  ...                     third category\n",
              "0  https://static-cdn.jtvnw.net/jtv_user_pictures...  ...                          Overwatch\n",
              "1  https://static-cdn.jtvnw.net/jtv_user_pictures...  ...                      PLAYERUNKNOWN\n",
              "2  https://static-cdn.jtvnw.net/jtv_user_pictures...  ...                 Grand Theft Auto V\n",
              "3  https://static-cdn.jtvnw.net/jtv_user_pictures...  ...                                NaN\n",
              "4  https://static-cdn.jtvnw.net/jtv_user_pictures...  ...  Halo: The Master Chief Collection\n",
              "\n",
              "[5 rows x 17 columns]"
            ]
          },
          "metadata": {},
          "execution_count": 188
        }
      ]
    },
    {
      "cell_type": "markdown",
      "metadata": {
        "id": "g4eKsgOh47Ja"
      },
      "source": [
        "#### **2.1 Removendo colunas não utilizadas**\n",
        "O dataset possui colunas como a foto e o nome utilizada pelo streamer, o que para a nossa análise não vamos precisar"
      ]
    },
    {
      "cell_type": "code",
      "metadata": {
        "id": "_h9Htzr7mh5r"
      },
      "source": [
        "df = df.drop(columns=['profile picture', 'partnered', 'completa name'])"
      ],
      "execution_count": 189,
      "outputs": []
    },
    {
      "cell_type": "code",
      "metadata": {
        "id": "THvCDIB75dTI",
        "colab": {
          "base_uri": "https://localhost:8080/",
          "height": 272
        },
        "outputId": "ad5b0f99-3cf2-441f-abd9-238d4a0c93a1"
      },
      "source": [
        "df.head()"
      ],
      "execution_count": 190,
      "outputs": [
        {
          "output_type": "execute_result",
          "data": {
            "text/html": [
              "<div>\n",
              "<style scoped>\n",
              "    .dataframe tbody tr th:only-of-type {\n",
              "        vertical-align: middle;\n",
              "    }\n",
              "\n",
              "    .dataframe tbody tr th {\n",
              "        vertical-align: top;\n",
              "    }\n",
              "\n",
              "    .dataframe thead th {\n",
              "        text-align: right;\n",
              "    }\n",
              "</style>\n",
              "<table border=\"1\" class=\"dataframe\">\n",
              "  <thead>\n",
              "    <tr style=\"text-align: right;\">\n",
              "      <th></th>\n",
              "      <th>top count</th>\n",
              "      <th>screen name</th>\n",
              "      <th>watch time</th>\n",
              "      <th>stream time</th>\n",
              "      <th>peak viewers</th>\n",
              "      <th>average viewers</th>\n",
              "      <th>followers</th>\n",
              "      <th>followers gained</th>\n",
              "      <th>views gained</th>\n",
              "      <th>mature</th>\n",
              "      <th>language</th>\n",
              "      <th>first category</th>\n",
              "      <th>second category</th>\n",
              "      <th>third category</th>\n",
              "    </tr>\n",
              "  </thead>\n",
              "  <tbody>\n",
              "    <tr>\n",
              "      <th>0</th>\n",
              "      <td>1</td>\n",
              "      <td>xQcOW</td>\n",
              "      <td>7333609065</td>\n",
              "      <td>215670</td>\n",
              "      <td>222720</td>\n",
              "      <td>32913</td>\n",
              "      <td>3691010</td>\n",
              "      <td>2051895</td>\n",
              "      <td>109735389</td>\n",
              "      <td>False</td>\n",
              "      <td>English</td>\n",
              "      <td>Just Chatting</td>\n",
              "      <td>Among Us</td>\n",
              "      <td>Overwatch</td>\n",
              "    </tr>\n",
              "    <tr>\n",
              "      <th>1</th>\n",
              "      <td>2</td>\n",
              "      <td>Gaules</td>\n",
              "      <td>6314532585</td>\n",
              "      <td>515595</td>\n",
              "      <td>387315</td>\n",
              "      <td>12254</td>\n",
              "      <td>1966465</td>\n",
              "      <td>1141123</td>\n",
              "      <td>112807468</td>\n",
              "      <td>True</td>\n",
              "      <td>Portuguese</td>\n",
              "      <td>Counter-Strike: Global Offensive</td>\n",
              "      <td>Among Us</td>\n",
              "      <td>PLAYERUNKNOWN</td>\n",
              "    </tr>\n",
              "    <tr>\n",
              "      <th>2</th>\n",
              "      <td>3</td>\n",
              "      <td>summit1g</td>\n",
              "      <td>6235007490</td>\n",
              "      <td>216000</td>\n",
              "      <td>310998</td>\n",
              "      <td>25931</td>\n",
              "      <td>5374710</td>\n",
              "      <td>1402547</td>\n",
              "      <td>91501875</td>\n",
              "      <td>False</td>\n",
              "      <td>English</td>\n",
              "      <td>Escape From Tarkov</td>\n",
              "      <td>Sea of Thieves</td>\n",
              "      <td>Grand Theft Auto V</td>\n",
              "    </tr>\n",
              "    <tr>\n",
              "      <th>3</th>\n",
              "      <td>4</td>\n",
              "      <td>ESL_CSGO</td>\n",
              "      <td>4764929775</td>\n",
              "      <td>517965</td>\n",
              "      <td>300575</td>\n",
              "      <td>9249</td>\n",
              "      <td>4195657</td>\n",
              "      <td>870484</td>\n",
              "      <td>126008641</td>\n",
              "      <td>False</td>\n",
              "      <td>English</td>\n",
              "      <td>Counter-Strike: Global Offensive</td>\n",
              "      <td>NaN</td>\n",
              "      <td>NaN</td>\n",
              "    </tr>\n",
              "    <tr>\n",
              "      <th>4</th>\n",
              "      <td>5</td>\n",
              "      <td>NICKMERCS</td>\n",
              "      <td>3853252845</td>\n",
              "      <td>131880</td>\n",
              "      <td>163241</td>\n",
              "      <td>29183</td>\n",
              "      <td>4415637</td>\n",
              "      <td>1337535</td>\n",
              "      <td>49164651</td>\n",
              "      <td>False</td>\n",
              "      <td>English</td>\n",
              "      <td>Call Of Duty: Modern Warfare</td>\n",
              "      <td>Fortnite</td>\n",
              "      <td>Halo: The Master Chief Collection</td>\n",
              "    </tr>\n",
              "  </tbody>\n",
              "</table>\n",
              "</div>"
            ],
            "text/plain": [
              "   top count screen name  ...  second category                     third category\n",
              "0          1       xQcOW  ...         Among Us                          Overwatch\n",
              "1          2      Gaules  ...         Among Us                      PLAYERUNKNOWN\n",
              "2          3    summit1g  ...   Sea of Thieves                 Grand Theft Auto V\n",
              "3          4    ESL_CSGO  ...              NaN                                NaN\n",
              "4          5   NICKMERCS  ...         Fortnite  Halo: The Master Chief Collection\n",
              "\n",
              "[5 rows x 14 columns]"
            ]
          },
          "metadata": {},
          "execution_count": 190
        }
      ]
    },
    {
      "cell_type": "markdown",
      "metadata": {
        "id": "PJnUoxfW7y1x"
      },
      "source": [
        "#### **2.2 watch time**\n",
        "Já que este é o dado que elege a posição do streamer, vamos checar se está de acordo"
      ]
    },
    {
      "cell_type": "code",
      "metadata": {
        "id": "RGFVkR5M8GdC",
        "colab": {
          "base_uri": "https://localhost:8080/"
        },
        "outputId": "c5f10d5f-27fa-46ff-c4a7-24e1996fd222"
      },
      "source": [
        "df['watch time'].isnull().sum()"
      ],
      "execution_count": 191,
      "outputs": [
        {
          "output_type": "execute_result",
          "data": {
            "text/plain": [
              "0"
            ]
          },
          "metadata": {},
          "execution_count": 191
        }
      ]
    },
    {
      "cell_type": "code",
      "metadata": {
        "id": "TaTQtxSQ8tng"
      },
      "source": [
        "max_watch_time = df['watch time'].max()\n",
        "min_watch_time = df['watch time'].min()"
      ],
      "execution_count": 192,
      "outputs": []
    },
    {
      "cell_type": "code",
      "metadata": {
        "id": "4QAsGJns8KlL",
        "colab": {
          "base_uri": "https://localhost:8080/",
          "height": 97
        },
        "outputId": "e3955ec9-879e-440b-e02b-9c8ba7d42f02"
      },
      "source": [
        "max_place = df[df['watch time'] == max_watch_time]\n",
        "max_place"
      ],
      "execution_count": 193,
      "outputs": [
        {
          "output_type": "execute_result",
          "data": {
            "text/html": [
              "<div>\n",
              "<style scoped>\n",
              "    .dataframe tbody tr th:only-of-type {\n",
              "        vertical-align: middle;\n",
              "    }\n",
              "\n",
              "    .dataframe tbody tr th {\n",
              "        vertical-align: top;\n",
              "    }\n",
              "\n",
              "    .dataframe thead th {\n",
              "        text-align: right;\n",
              "    }\n",
              "</style>\n",
              "<table border=\"1\" class=\"dataframe\">\n",
              "  <thead>\n",
              "    <tr style=\"text-align: right;\">\n",
              "      <th></th>\n",
              "      <th>top count</th>\n",
              "      <th>screen name</th>\n",
              "      <th>watch time</th>\n",
              "      <th>stream time</th>\n",
              "      <th>peak viewers</th>\n",
              "      <th>average viewers</th>\n",
              "      <th>followers</th>\n",
              "      <th>followers gained</th>\n",
              "      <th>views gained</th>\n",
              "      <th>mature</th>\n",
              "      <th>language</th>\n",
              "      <th>first category</th>\n",
              "      <th>second category</th>\n",
              "      <th>third category</th>\n",
              "    </tr>\n",
              "  </thead>\n",
              "  <tbody>\n",
              "    <tr>\n",
              "      <th>0</th>\n",
              "      <td>1</td>\n",
              "      <td>xQcOW</td>\n",
              "      <td>7333609065</td>\n",
              "      <td>215670</td>\n",
              "      <td>222720</td>\n",
              "      <td>32913</td>\n",
              "      <td>3691010</td>\n",
              "      <td>2051895</td>\n",
              "      <td>109735389</td>\n",
              "      <td>False</td>\n",
              "      <td>English</td>\n",
              "      <td>Just Chatting</td>\n",
              "      <td>Among Us</td>\n",
              "      <td>Overwatch</td>\n",
              "    </tr>\n",
              "  </tbody>\n",
              "</table>\n",
              "</div>"
            ],
            "text/plain": [
              "   top count screen name  ...  second category  third category\n",
              "0          1       xQcOW  ...         Among Us       Overwatch\n",
              "\n",
              "[1 rows x 14 columns]"
            ]
          },
          "metadata": {},
          "execution_count": 193
        }
      ]
    },
    {
      "cell_type": "code",
      "metadata": {
        "id": "oTaFgeUG73Fi",
        "colab": {
          "base_uri": "https://localhost:8080/",
          "height": 97
        },
        "outputId": "41771796-7297-48ca-f77c-97ebf7239aa2"
      },
      "source": [
        "min_place = df[df['watch time'] == min_watch_time]\n",
        "min_place"
      ],
      "execution_count": 194,
      "outputs": [
        {
          "output_type": "execute_result",
          "data": {
            "text/html": [
              "<div>\n",
              "<style scoped>\n",
              "    .dataframe tbody tr th:only-of-type {\n",
              "        vertical-align: middle;\n",
              "    }\n",
              "\n",
              "    .dataframe tbody tr th {\n",
              "        vertical-align: top;\n",
              "    }\n",
              "\n",
              "    .dataframe thead th {\n",
              "        text-align: right;\n",
              "    }\n",
              "</style>\n",
              "<table border=\"1\" class=\"dataframe\">\n",
              "  <thead>\n",
              "    <tr style=\"text-align: right;\">\n",
              "      <th></th>\n",
              "      <th>top count</th>\n",
              "      <th>screen name</th>\n",
              "      <th>watch time</th>\n",
              "      <th>stream time</th>\n",
              "      <th>peak viewers</th>\n",
              "      <th>average viewers</th>\n",
              "      <th>followers</th>\n",
              "      <th>followers gained</th>\n",
              "      <th>views gained</th>\n",
              "      <th>mature</th>\n",
              "      <th>language</th>\n",
              "      <th>first category</th>\n",
              "      <th>second category</th>\n",
              "      <th>third category</th>\n",
              "    </tr>\n",
              "  </thead>\n",
              "  <tbody>\n",
              "    <tr>\n",
              "      <th>8799</th>\n",
              "      <td>8800</td>\n",
              "      <td>dhary_xd</td>\n",
              "      <td>8827995</td>\n",
              "      <td>165105</td>\n",
              "      <td>2270</td>\n",
              "      <td>50</td>\n",
              "      <td>9194</td>\n",
              "      <td>2921</td>\n",
              "      <td>927197</td>\n",
              "      <td>False</td>\n",
              "      <td>English</td>\n",
              "      <td>Music</td>\n",
              "      <td>PLAYERUNKNOWN</td>\n",
              "      <td>Destiny 2</td>\n",
              "    </tr>\n",
              "  </tbody>\n",
              "</table>\n",
              "</div>"
            ],
            "text/plain": [
              "      top count screen name  ...  second category  third category\n",
              "8799       8800    dhary_xd  ...    PLAYERUNKNOWN       Destiny 2\n",
              "\n",
              "[1 rows x 14 columns]"
            ]
          },
          "metadata": {},
          "execution_count": 194
        }
      ]
    },
    {
      "cell_type": "markdown",
      "metadata": {
        "id": "dNBS76eP8zq7"
      },
      "source": [
        "Como podemos ver, não temos valores nulos e as posições dos streamers estão de acordo com as horas assistidas"
      ]
    },
    {
      "cell_type": "markdown",
      "metadata": {
        "id": "g3ar38kW9Lob"
      },
      "source": [
        "#### **2.3 stream time**"
      ]
    },
    {
      "cell_type": "markdown",
      "metadata": {
        "id": "Qh7jTBly9Yy1"
      },
      "source": [
        "Vamos checar se existem *outliers* nesta coluna"
      ]
    },
    {
      "cell_type": "code",
      "metadata": {
        "id": "R3t3oa43-OBs",
        "colab": {
          "base_uri": "https://localhost:8080/",
          "height": 416
        },
        "outputId": "4094eb09-5e31-44ca-dd12-f31fece0c49e"
      },
      "source": [
        "sns.boxplot(x='stream time', data=df)"
      ],
      "execution_count": 195,
      "outputs": [
        {
          "output_type": "execute_result",
          "data": {
            "text/plain": [
              "<matplotlib.axes._subplots.AxesSubplot at 0x7f83fdd95810>"
            ]
          },
          "metadata": {},
          "execution_count": 195
        },
        {
          "output_type": "display_data",
          "data": {
            "image/png": "[encoded data removed]",
            "text/plain": [
              "<Figure size 720x432 with 1 Axes>"
            ]
          },
          "metadata": {}
        }
      ]
    },
    {
      "cell_type": "code",
      "metadata": {
        "id": "bfjtBmY__Deq",
        "colab": {
          "base_uri": "https://localhost:8080/"
        },
        "outputId": "8c489e18-9924-461e-cd18-5bb6f1f5f7e0"
      },
      "source": [
        "df['stream time'].isnull().sum()"
      ],
      "execution_count": 196,
      "outputs": [
        {
          "output_type": "execute_result",
          "data": {
            "text/plain": [
              "0"
            ]
          },
          "metadata": {},
          "execution_count": 196
        }
      ]
    },
    {
      "cell_type": "markdown",
      "metadata": {
        "id": "fr_OGQVc_amY"
      },
      "source": [
        "Não temos valores nulos e os outliers são aceitáveis"
      ]
    },
    {
      "cell_type": "markdown",
      "metadata": {
        "id": "_caYWfBZ_ivj"
      },
      "source": [
        "#### **2.4 mature**\n",
        "Verificar se existe somente valores booleanos"
      ]
    },
    {
      "cell_type": "code",
      "metadata": {
        "id": "jlDkzBgBAWQY",
        "colab": {
          "base_uri": "https://localhost:8080/"
        },
        "outputId": "624344e4-fda3-4fcc-a8a0-183f275df411"
      },
      "source": [
        "df['mature'].unique()"
      ],
      "execution_count": 197,
      "outputs": [
        {
          "output_type": "execute_result",
          "data": {
            "text/plain": [
              "array([False,  True])"
            ]
          },
          "metadata": {},
          "execution_count": 197
        }
      ]
    },
    {
      "cell_type": "markdown",
      "metadata": {
        "id": "KyeyKeOpAab0"
      },
      "source": [
        "#### **2.5 Language**\n",
        "Este é um dos campos que possuem nulos, vamos analisar"
      ]
    },
    {
      "cell_type": "code",
      "metadata": {
        "id": "KYKULoR7PhPO",
        "colab": {
          "base_uri": "https://localhost:8080/"
        },
        "outputId": "aa5cc162-640d-4c0d-e7b8-290fe0a00cf3"
      },
      "source": [
        "df['language'].unique()"
      ],
      "execution_count": 198,
      "outputs": [
        {
          "output_type": "execute_result",
          "data": {
            "text/plain": [
              "array(['English', 'Portuguese', 'Spanish', 'Korean', 'German', 'Russian',\n",
              "       'French', 'Japanese', 'Turkish', 'Chinese', 'Czech', 'Italian',\n",
              "       'Polish', 'Thai', 'Arabic', 'Slovak', 'Other', 'Greek',\n",
              "       'Hungarian', 'Finnish', 'Swedish', 'Romanian', 'Danish',\n",
              "       'Chinese (Hong Kong SAR)', 'Dutch', 'Bulgarian', 'Norwegian',\n",
              "       'Hindi', nan, 'Ukrainian', 'Indonesian'], dtype=object)"
            ]
          },
          "metadata": {},
          "execution_count": 198
        }
      ]
    },
    {
      "cell_type": "code",
      "metadata": {
        "id": "cY_olfTqAgaL",
        "colab": {
          "base_uri": "https://localhost:8080/"
        },
        "outputId": "fda22e12-4309-4b45-f052-12c5043a8818"
      },
      "source": [
        "df['language'].isnull().sum()"
      ],
      "execution_count": 199,
      "outputs": [
        {
          "output_type": "execute_result",
          "data": {
            "text/plain": [
              "1"
            ]
          },
          "metadata": {},
          "execution_count": 199
        }
      ]
    },
    {
      "cell_type": "code",
      "metadata": {
        "id": "DHWAqUEZAmDV",
        "colab": {
          "base_uri": "https://localhost:8080/",
          "height": 114
        },
        "outputId": "ce5fa767-2ee0-4166-dda8-b6d2bd3bb42d"
      },
      "source": [
        "df[df['language'].isnull()]"
      ],
      "execution_count": 200,
      "outputs": [
        {
          "output_type": "execute_result",
          "data": {
            "text/html": [
              "<div>\n",
              "<style scoped>\n",
              "    .dataframe tbody tr th:only-of-type {\n",
              "        vertical-align: middle;\n",
              "    }\n",
              "\n",
              "    .dataframe tbody tr th {\n",
              "        vertical-align: top;\n",
              "    }\n",
              "\n",
              "    .dataframe thead th {\n",
              "        text-align: right;\n",
              "    }\n",
              "</style>\n",
              "<table border=\"1\" class=\"dataframe\">\n",
              "  <thead>\n",
              "    <tr style=\"text-align: right;\">\n",
              "      <th></th>\n",
              "      <th>top count</th>\n",
              "      <th>screen name</th>\n",
              "      <th>watch time</th>\n",
              "      <th>stream time</th>\n",
              "      <th>peak viewers</th>\n",
              "      <th>average viewers</th>\n",
              "      <th>followers</th>\n",
              "      <th>followers gained</th>\n",
              "      <th>views gained</th>\n",
              "      <th>mature</th>\n",
              "      <th>language</th>\n",
              "      <th>first category</th>\n",
              "      <th>second category</th>\n",
              "      <th>third category</th>\n",
              "    </tr>\n",
              "  </thead>\n",
              "  <tbody>\n",
              "    <tr>\n",
              "      <th>4397</th>\n",
              "      <td>4398</td>\n",
              "      <td>pech_gaming</td>\n",
              "      <td>22255725</td>\n",
              "      <td>55965</td>\n",
              "      <td>1215</td>\n",
              "      <td>400</td>\n",
              "      <td>24339</td>\n",
              "      <td>11879</td>\n",
              "      <td>242417</td>\n",
              "      <td>True</td>\n",
              "      <td>NaN</td>\n",
              "      <td>Grand Theft Auto V</td>\n",
              "      <td>Rust</td>\n",
              "      <td>Escape From Tarkov</td>\n",
              "    </tr>\n",
              "  </tbody>\n",
              "</table>\n",
              "</div>"
            ],
            "text/plain": [
              "      top count  screen name  ...  second category      third category\n",
              "4397       4398  pech_gaming  ...             Rust  Escape From Tarkov\n",
              "\n",
              "[1 rows x 14 columns]"
            ]
          },
          "metadata": {},
          "execution_count": 200
        }
      ]
    },
    {
      "cell_type": "markdown",
      "metadata": {
        "id": "uIJ-VTHCA5fw"
      },
      "source": [
        "Como esta é uma coluna muito importante para a nossa análise, iremos remover esta entrada nula"
      ]
    },
    {
      "cell_type": "code",
      "metadata": {
        "id": "ZAasGtisA-dz"
      },
      "source": [
        "df.dropna(subset=['language'], inplace=True)"
      ],
      "execution_count": 201,
      "outputs": []
    },
    {
      "cell_type": "code",
      "metadata": {
        "id": "M74By11SBAl0",
        "colab": {
          "base_uri": "https://localhost:8080/"
        },
        "outputId": "665d4eed-24ba-45a8-873c-2685cad35dbe"
      },
      "source": [
        "df['language'].isnull().sum()"
      ],
      "execution_count": 202,
      "outputs": [
        {
          "output_type": "execute_result",
          "data": {
            "text/plain": [
              "0"
            ]
          },
          "metadata": {},
          "execution_count": 202
        }
      ]
    },
    {
      "cell_type": "markdown",
      "metadata": {
        "id": "M20Pj7crD-d3"
      },
      "source": [
        "#### **2.6 Second category**\n",
        "Vemos que esta coluna possui bastante valores nulos, vamos checar"
      ]
    },
    {
      "cell_type": "code",
      "metadata": {
        "id": "-4TyG-C_EE-0",
        "colab": {
          "base_uri": "https://localhost:8080/"
        },
        "outputId": "af375981-798f-4f2d-9c4f-1a5d938173f5"
      },
      "source": [
        "df['second category'].isnull().sum()"
      ],
      "execution_count": 203,
      "outputs": [
        {
          "output_type": "execute_result",
          "data": {
            "text/plain": [
              "410"
            ]
          },
          "metadata": {},
          "execution_count": 203
        }
      ]
    },
    {
      "cell_type": "code",
      "metadata": {
        "id": "XHZpWIWKEIPT",
        "colab": {
          "base_uri": "https://localhost:8080/",
          "height": 470
        },
        "outputId": "1a44978b-9b2c-4aef-a087-a3dfdf135538"
      },
      "source": [
        "second_category_null = df['second category'].isnull()\n",
        "df[second_category_null]"
      ],
      "execution_count": 204,
      "outputs": [
        {
          "output_type": "execute_result",
          "data": {
            "text/html": [
              "<div>\n",
              "<style scoped>\n",
              "    .dataframe tbody tr th:only-of-type {\n",
              "        vertical-align: middle;\n",
              "    }\n",
              "\n",
              "    .dataframe tbody tr th {\n",
              "        vertical-align: top;\n",
              "    }\n",
              "\n",
              "    .dataframe thead th {\n",
              "        text-align: right;\n",
              "    }\n",
              "</style>\n",
              "<table border=\"1\" class=\"dataframe\">\n",
              "  <thead>\n",
              "    <tr style=\"text-align: right;\">\n",
              "      <th></th>\n",
              "      <th>top count</th>\n",
              "      <th>screen name</th>\n",
              "      <th>watch time</th>\n",
              "      <th>stream time</th>\n",
              "      <th>peak viewers</th>\n",
              "      <th>average viewers</th>\n",
              "      <th>followers</th>\n",
              "      <th>followers gained</th>\n",
              "      <th>views gained</th>\n",
              "      <th>mature</th>\n",
              "      <th>language</th>\n",
              "      <th>first category</th>\n",
              "      <th>second category</th>\n",
              "      <th>third category</th>\n",
              "    </tr>\n",
              "  </thead>\n",
              "  <tbody>\n",
              "    <tr>\n",
              "      <th>3</th>\n",
              "      <td>4</td>\n",
              "      <td>ESL_CSGO</td>\n",
              "      <td>4764929775</td>\n",
              "      <td>517965</td>\n",
              "      <td>300575</td>\n",
              "      <td>9249</td>\n",
              "      <td>4195657</td>\n",
              "      <td>870484</td>\n",
              "      <td>126008641</td>\n",
              "      <td>False</td>\n",
              "      <td>English</td>\n",
              "      <td>Counter-Strike: Global Offensive</td>\n",
              "      <td>NaN</td>\n",
              "      <td>NaN</td>\n",
              "    </tr>\n",
              "    <tr>\n",
              "      <th>18</th>\n",
              "      <td>19</td>\n",
              "      <td>LCK_Korea</td>\n",
              "      <td>2271646785</td>\n",
              "      <td>49470</td>\n",
              "      <td>208341</td>\n",
              "      <td>45406</td>\n",
              "      <td>724511</td>\n",
              "      <td>294841</td>\n",
              "      <td>86113714</td>\n",
              "      <td>False</td>\n",
              "      <td>Korean</td>\n",
              "      <td>League of Legends</td>\n",
              "      <td>NaN</td>\n",
              "      <td>NaN</td>\n",
              "    </tr>\n",
              "    <tr>\n",
              "      <th>24</th>\n",
              "      <td>25</td>\n",
              "      <td>LEC</td>\n",
              "      <td>1912132740</td>\n",
              "      <td>57570</td>\n",
              "      <td>388794</td>\n",
              "      <td>28581</td>\n",
              "      <td>1107511</td>\n",
              "      <td>678235</td>\n",
              "      <td>33667372</td>\n",
              "      <td>False</td>\n",
              "      <td>English</td>\n",
              "      <td>League of Legends</td>\n",
              "      <td>NaN</td>\n",
              "      <td>NaN</td>\n",
              "    </tr>\n",
              "    <tr>\n",
              "      <th>27</th>\n",
              "      <td>28</td>\n",
              "      <td>csgomc_ru</td>\n",
              "      <td>1868846880</td>\n",
              "      <td>110205</td>\n",
              "      <td>364816</td>\n",
              "      <td>17276</td>\n",
              "      <td>608917</td>\n",
              "      <td>568052</td>\n",
              "      <td>61473607</td>\n",
              "      <td>False</td>\n",
              "      <td>Russian</td>\n",
              "      <td>Counter-Strike: Global Offensive</td>\n",
              "      <td>NaN</td>\n",
              "      <td>NaN</td>\n",
              "    </tr>\n",
              "    <tr>\n",
              "      <th>28</th>\n",
              "      <td>29</td>\n",
              "      <td>LCS</td>\n",
              "      <td>1852648845</td>\n",
              "      <td>36630</td>\n",
              "      <td>241509</td>\n",
              "      <td>48240</td>\n",
              "      <td>1257562</td>\n",
              "      <td>584326</td>\n",
              "      <td>34436876</td>\n",
              "      <td>False</td>\n",
              "      <td>English</td>\n",
              "      <td>League of Legends</td>\n",
              "      <td>NaN</td>\n",
              "      <td>NaN</td>\n",
              "    </tr>\n",
              "    <tr>\n",
              "      <th>...</th>\n",
              "      <td>...</td>\n",
              "      <td>...</td>\n",
              "      <td>...</td>\n",
              "      <td>...</td>\n",
              "      <td>...</td>\n",
              "      <td>...</td>\n",
              "      <td>...</td>\n",
              "      <td>...</td>\n",
              "      <td>...</td>\n",
              "      <td>...</td>\n",
              "      <td>...</td>\n",
              "      <td>...</td>\n",
              "      <td>...</td>\n",
              "      <td>...</td>\n",
              "    </tr>\n",
              "    <tr>\n",
              "      <th>8693</th>\n",
              "      <td>8694</td>\n",
              "      <td>FC_DYNAMO</td>\n",
              "      <td>9085365</td>\n",
              "      <td>108990</td>\n",
              "      <td>345</td>\n",
              "      <td>81</td>\n",
              "      <td>20841</td>\n",
              "      <td>3565</td>\n",
              "      <td>378818</td>\n",
              "      <td>False</td>\n",
              "      <td>Russian</td>\n",
              "      <td>World of Tanks</td>\n",
              "      <td>NaN</td>\n",
              "      <td>NaN</td>\n",
              "    </tr>\n",
              "    <tr>\n",
              "      <th>8695</th>\n",
              "      <td>8696</td>\n",
              "      <td>LigaPro8</td>\n",
              "      <td>9082995</td>\n",
              "      <td>131565</td>\n",
              "      <td>485</td>\n",
              "      <td>64</td>\n",
              "      <td>876</td>\n",
              "      <td>862</td>\n",
              "      <td>907384</td>\n",
              "      <td>False</td>\n",
              "      <td>English</td>\n",
              "      <td>NBA 2K20</td>\n",
              "      <td>NaN</td>\n",
              "      <td>NaN</td>\n",
              "    </tr>\n",
              "    <tr>\n",
              "      <th>8696</th>\n",
              "      <td>8697</td>\n",
              "      <td>yDiamondd</td>\n",
              "      <td>9078390</td>\n",
              "      <td>14805</td>\n",
              "      <td>3090</td>\n",
              "      <td>604</td>\n",
              "      <td>100072</td>\n",
              "      <td>89856</td>\n",
              "      <td>320627</td>\n",
              "      <td>False</td>\n",
              "      <td>Portuguese</td>\n",
              "      <td>Fortnite</td>\n",
              "      <td>NaN</td>\n",
              "      <td>NaN</td>\n",
              "    </tr>\n",
              "    <tr>\n",
              "      <th>8733</th>\n",
              "      <td>8734</td>\n",
              "      <td>partypokerRU</td>\n",
              "      <td>8912745</td>\n",
              "      <td>31905</td>\n",
              "      <td>2022</td>\n",
              "      <td>220</td>\n",
              "      <td>11982</td>\n",
              "      <td>4166</td>\n",
              "      <td>271026</td>\n",
              "      <td>True</td>\n",
              "      <td>Russian</td>\n",
              "      <td>Poker</td>\n",
              "      <td>NaN</td>\n",
              "      <td>NaN</td>\n",
              "    </tr>\n",
              "    <tr>\n",
              "      <th>8746</th>\n",
              "      <td>8747</td>\n",
              "      <td>hakumai</td>\n",
              "      <td>8890335</td>\n",
              "      <td>28845</td>\n",
              "      <td>1156</td>\n",
              "      <td>307</td>\n",
              "      <td>28837</td>\n",
              "      <td>22715</td>\n",
              "      <td>297286</td>\n",
              "      <td>False</td>\n",
              "      <td>English</td>\n",
              "      <td>Music</td>\n",
              "      <td>NaN</td>\n",
              "      <td>NaN</td>\n",
              "    </tr>\n",
              "  </tbody>\n",
              "</table>\n",
              "<p>410 rows × 14 columns</p>\n",
              "</div>"
            ],
            "text/plain": [
              "      top count   screen name  ...  second category  third category\n",
              "3             4      ESL_CSGO  ...              NaN             NaN\n",
              "18           19     LCK_Korea  ...              NaN             NaN\n",
              "24           25           LEC  ...              NaN             NaN\n",
              "27           28     csgomc_ru  ...              NaN             NaN\n",
              "28           29           LCS  ...              NaN             NaN\n",
              "...         ...           ...  ...              ...             ...\n",
              "8693       8694     FC_DYNAMO  ...              NaN             NaN\n",
              "8695       8696      LigaPro8  ...              NaN             NaN\n",
              "8696       8697     yDiamondd  ...              NaN             NaN\n",
              "8733       8734  partypokerRU  ...              NaN             NaN\n",
              "8746       8747       hakumai  ...              NaN             NaN\n",
              "\n",
              "[410 rows x 14 columns]"
            ]
          },
          "metadata": {},
          "execution_count": 204
        }
      ]
    },
    {
      "cell_type": "markdown",
      "metadata": {
        "id": "Fm-wXiu2E5nE"
      },
      "source": [
        "Vemos que temos 410 registros com valores nulos como segunda categoria. Entretando, conseguimos perceber que estes registros também não possuem a terceira categoria. Vamos confirmar"
      ]
    },
    {
      "cell_type": "code",
      "metadata": {
        "id": "HC3JrFy0FDp8",
        "colab": {
          "base_uri": "https://localhost:8080/",
          "height": 470
        },
        "outputId": "cb198085-fda7-44a3-ee36-f76cd452fd1f"
      },
      "source": [
        "third_category_null = df['third category'].isnull()\n",
        "df[third_category_null & second_category_null]"
      ],
      "execution_count": 205,
      "outputs": [
        {
          "output_type": "execute_result",
          "data": {
            "text/html": [
              "<div>\n",
              "<style scoped>\n",
              "    .dataframe tbody tr th:only-of-type {\n",
              "        vertical-align: middle;\n",
              "    }\n",
              "\n",
              "    .dataframe tbody tr th {\n",
              "        vertical-align: top;\n",
              "    }\n",
              "\n",
              "    .dataframe thead th {\n",
              "        text-align: right;\n",
              "    }\n",
              "</style>\n",
              "<table border=\"1\" class=\"dataframe\">\n",
              "  <thead>\n",
              "    <tr style=\"text-align: right;\">\n",
              "      <th></th>\n",
              "      <th>top count</th>\n",
              "      <th>screen name</th>\n",
              "      <th>watch time</th>\n",
              "      <th>stream time</th>\n",
              "      <th>peak viewers</th>\n",
              "      <th>average viewers</th>\n",
              "      <th>followers</th>\n",
              "      <th>followers gained</th>\n",
              "      <th>views gained</th>\n",
              "      <th>mature</th>\n",
              "      <th>language</th>\n",
              "      <th>first category</th>\n",
              "      <th>second category</th>\n",
              "      <th>third category</th>\n",
              "    </tr>\n",
              "  </thead>\n",
              "  <tbody>\n",
              "    <tr>\n",
              "      <th>3</th>\n",
              "      <td>4</td>\n",
              "      <td>ESL_CSGO</td>\n",
              "      <td>4764929775</td>\n",
              "      <td>517965</td>\n",
              "      <td>300575</td>\n",
              "      <td>9249</td>\n",
              "      <td>4195657</td>\n",
              "      <td>870484</td>\n",
              "      <td>126008641</td>\n",
              "      <td>False</td>\n",
              "      <td>English</td>\n",
              "      <td>Counter-Strike: Global Offensive</td>\n",
              "      <td>NaN</td>\n",
              "      <td>NaN</td>\n",
              "    </tr>\n",
              "    <tr>\n",
              "      <th>18</th>\n",
              "      <td>19</td>\n",
              "      <td>LCK_Korea</td>\n",
              "      <td>2271646785</td>\n",
              "      <td>49470</td>\n",
              "      <td>208341</td>\n",
              "      <td>45406</td>\n",
              "      <td>724511</td>\n",
              "      <td>294841</td>\n",
              "      <td>86113714</td>\n",
              "      <td>False</td>\n",
              "      <td>Korean</td>\n",
              "      <td>League of Legends</td>\n",
              "      <td>NaN</td>\n",
              "      <td>NaN</td>\n",
              "    </tr>\n",
              "    <tr>\n",
              "      <th>24</th>\n",
              "      <td>25</td>\n",
              "      <td>LEC</td>\n",
              "      <td>1912132740</td>\n",
              "      <td>57570</td>\n",
              "      <td>388794</td>\n",
              "      <td>28581</td>\n",
              "      <td>1107511</td>\n",
              "      <td>678235</td>\n",
              "      <td>33667372</td>\n",
              "      <td>False</td>\n",
              "      <td>English</td>\n",
              "      <td>League of Legends</td>\n",
              "      <td>NaN</td>\n",
              "      <td>NaN</td>\n",
              "    </tr>\n",
              "    <tr>\n",
              "      <th>27</th>\n",
              "      <td>28</td>\n",
              "      <td>csgomc_ru</td>\n",
              "      <td>1868846880</td>\n",
              "      <td>110205</td>\n",
              "      <td>364816</td>\n",
              "      <td>17276</td>\n",
              "      <td>608917</td>\n",
              "      <td>568052</td>\n",
              "      <td>61473607</td>\n",
              "      <td>False</td>\n",
              "      <td>Russian</td>\n",
              "      <td>Counter-Strike: Global Offensive</td>\n",
              "      <td>NaN</td>\n",
              "      <td>NaN</td>\n",
              "    </tr>\n",
              "    <tr>\n",
              "      <th>28</th>\n",
              "      <td>29</td>\n",
              "      <td>LCS</td>\n",
              "      <td>1852648845</td>\n",
              "      <td>36630</td>\n",
              "      <td>241509</td>\n",
              "      <td>48240</td>\n",
              "      <td>1257562</td>\n",
              "      <td>584326</td>\n",
              "      <td>34436876</td>\n",
              "      <td>False</td>\n",
              "      <td>English</td>\n",
              "      <td>League of Legends</td>\n",
              "      <td>NaN</td>\n",
              "      <td>NaN</td>\n",
              "    </tr>\n",
              "    <tr>\n",
              "      <th>...</th>\n",
              "      <td>...</td>\n",
              "      <td>...</td>\n",
              "      <td>...</td>\n",
              "      <td>...</td>\n",
              "      <td>...</td>\n",
              "      <td>...</td>\n",
              "      <td>...</td>\n",
              "      <td>...</td>\n",
              "      <td>...</td>\n",
              "      <td>...</td>\n",
              "      <td>...</td>\n",
              "      <td>...</td>\n",
              "      <td>...</td>\n",
              "      <td>...</td>\n",
              "    </tr>\n",
              "    <tr>\n",
              "      <th>8693</th>\n",
              "      <td>8694</td>\n",
              "      <td>FC_DYNAMO</td>\n",
              "      <td>9085365</td>\n",
              "      <td>108990</td>\n",
              "      <td>345</td>\n",
              "      <td>81</td>\n",
              "      <td>20841</td>\n",
              "      <td>3565</td>\n",
              "      <td>378818</td>\n",
              "      <td>False</td>\n",
              "      <td>Russian</td>\n",
              "      <td>World of Tanks</td>\n",
              "      <td>NaN</td>\n",
              "      <td>NaN</td>\n",
              "    </tr>\n",
              "    <tr>\n",
              "      <th>8695</th>\n",
              "      <td>8696</td>\n",
              "      <td>LigaPro8</td>\n",
              "      <td>9082995</td>\n",
              "      <td>131565</td>\n",
              "      <td>485</td>\n",
              "      <td>64</td>\n",
              "      <td>876</td>\n",
              "      <td>862</td>\n",
              "      <td>907384</td>\n",
              "      <td>False</td>\n",
              "      <td>English</td>\n",
              "      <td>NBA 2K20</td>\n",
              "      <td>NaN</td>\n",
              "      <td>NaN</td>\n",
              "    </tr>\n",
              "    <tr>\n",
              "      <th>8696</th>\n",
              "      <td>8697</td>\n",
              "      <td>yDiamondd</td>\n",
              "      <td>9078390</td>\n",
              "      <td>14805</td>\n",
              "      <td>3090</td>\n",
              "      <td>604</td>\n",
              "      <td>100072</td>\n",
              "      <td>89856</td>\n",
              "      <td>320627</td>\n",
              "      <td>False</td>\n",
              "      <td>Portuguese</td>\n",
              "      <td>Fortnite</td>\n",
              "      <td>NaN</td>\n",
              "      <td>NaN</td>\n",
              "    </tr>\n",
              "    <tr>\n",
              "      <th>8733</th>\n",
              "      <td>8734</td>\n",
              "      <td>partypokerRU</td>\n",
              "      <td>8912745</td>\n",
              "      <td>31905</td>\n",
              "      <td>2022</td>\n",
              "      <td>220</td>\n",
              "      <td>11982</td>\n",
              "      <td>4166</td>\n",
              "      <td>271026</td>\n",
              "      <td>True</td>\n",
              "      <td>Russian</td>\n",
              "      <td>Poker</td>\n",
              "      <td>NaN</td>\n",
              "      <td>NaN</td>\n",
              "    </tr>\n",
              "    <tr>\n",
              "      <th>8746</th>\n",
              "      <td>8747</td>\n",
              "      <td>hakumai</td>\n",
              "      <td>8890335</td>\n",
              "      <td>28845</td>\n",
              "      <td>1156</td>\n",
              "      <td>307</td>\n",
              "      <td>28837</td>\n",
              "      <td>22715</td>\n",
              "      <td>297286</td>\n",
              "      <td>False</td>\n",
              "      <td>English</td>\n",
              "      <td>Music</td>\n",
              "      <td>NaN</td>\n",
              "      <td>NaN</td>\n",
              "    </tr>\n",
              "  </tbody>\n",
              "</table>\n",
              "<p>410 rows × 14 columns</p>\n",
              "</div>"
            ],
            "text/plain": [
              "      top count   screen name  ...  second category  third category\n",
              "3             4      ESL_CSGO  ...              NaN             NaN\n",
              "18           19     LCK_Korea  ...              NaN             NaN\n",
              "24           25           LEC  ...              NaN             NaN\n",
              "27           28     csgomc_ru  ...              NaN             NaN\n",
              "28           29           LCS  ...              NaN             NaN\n",
              "...         ...           ...  ...              ...             ...\n",
              "8693       8694     FC_DYNAMO  ...              NaN             NaN\n",
              "8695       8696      LigaPro8  ...              NaN             NaN\n",
              "8696       8697     yDiamondd  ...              NaN             NaN\n",
              "8733       8734  partypokerRU  ...              NaN             NaN\n",
              "8746       8747       hakumai  ...              NaN             NaN\n",
              "\n",
              "[410 rows x 14 columns]"
            ]
          },
          "metadata": {},
          "execution_count": 205
        }
      ]
    },
    {
      "cell_type": "markdown",
      "metadata": {
        "id": "orsiJOqVEakN"
      },
      "source": [
        "Já que estes registros possuem valores NaN nas colunas de segundo e terceiro colocado, iremos removê-los"
      ]
    },
    {
      "cell_type": "code",
      "metadata": {
        "id": "HngoHpEaFYKm"
      },
      "source": [
        "df.dropna(subset=['second category'], inplace=True)"
      ],
      "execution_count": 206,
      "outputs": []
    },
    {
      "cell_type": "code",
      "metadata": {
        "id": "ql_qqVPsFgzU",
        "colab": {
          "base_uri": "https://localhost:8080/"
        },
        "outputId": "0df9ffdf-54be-4f3a-8089-ce59bba98fb5"
      },
      "source": [
        "df['second category'].isnull().sum()"
      ],
      "execution_count": 207,
      "outputs": [
        {
          "output_type": "execute_result",
          "data": {
            "text/plain": [
              "0"
            ]
          },
          "metadata": {},
          "execution_count": 207
        }
      ]
    },
    {
      "cell_type": "markdown",
      "metadata": {
        "id": "DPRSPgiwBCrf"
      },
      "source": [
        "#### **2.7 Third category**"
      ]
    },
    {
      "cell_type": "code",
      "metadata": {
        "id": "Wssi48VRBrIm",
        "colab": {
          "base_uri": "https://localhost:8080/"
        },
        "outputId": "b72999c2-d638-4ba8-ae4d-9f7db35d3dd7"
      },
      "source": [
        " df['third category'].isnull().sum()"
      ],
      "execution_count": 208,
      "outputs": [
        {
          "output_type": "execute_result",
          "data": {
            "text/plain": [
              "381"
            ]
          },
          "metadata": {},
          "execution_count": 208
        }
      ]
    },
    {
      "cell_type": "code",
      "metadata": {
        "id": "rsJm9aNqFqSM",
        "colab": {
          "base_uri": "https://localhost:8080/",
          "height": 470
        },
        "outputId": "e64a2958-818f-4e67-b7a3-3aab3470b6f9"
      },
      "source": [
        "df[df['third category'].isnull()]"
      ],
      "execution_count": 209,
      "outputs": [
        {
          "output_type": "execute_result",
          "data": {
            "text/html": [
              "<div>\n",
              "<style scoped>\n",
              "    .dataframe tbody tr th:only-of-type {\n",
              "        vertical-align: middle;\n",
              "    }\n",
              "\n",
              "    .dataframe tbody tr th {\n",
              "        vertical-align: top;\n",
              "    }\n",
              "\n",
              "    .dataframe thead th {\n",
              "        text-align: right;\n",
              "    }\n",
              "</style>\n",
              "<table border=\"1\" class=\"dataframe\">\n",
              "  <thead>\n",
              "    <tr style=\"text-align: right;\">\n",
              "      <th></th>\n",
              "      <th>top count</th>\n",
              "      <th>screen name</th>\n",
              "      <th>watch time</th>\n",
              "      <th>stream time</th>\n",
              "      <th>peak viewers</th>\n",
              "      <th>average viewers</th>\n",
              "      <th>followers</th>\n",
              "      <th>followers gained</th>\n",
              "      <th>views gained</th>\n",
              "      <th>mature</th>\n",
              "      <th>language</th>\n",
              "      <th>first category</th>\n",
              "      <th>second category</th>\n",
              "      <th>third category</th>\n",
              "    </tr>\n",
              "  </thead>\n",
              "  <tbody>\n",
              "    <tr>\n",
              "      <th>35</th>\n",
              "      <td>36</td>\n",
              "      <td>OgamingLoL</td>\n",
              "      <td>1696248240</td>\n",
              "      <td>495930</td>\n",
              "      <td>204491</td>\n",
              "      <td>3455</td>\n",
              "      <td>556640</td>\n",
              "      <td>128514</td>\n",
              "      <td>73896080</td>\n",
              "      <td>False</td>\n",
              "      <td>French</td>\n",
              "      <td>League of Legends</td>\n",
              "      <td>Teamfight Tactics</td>\n",
              "      <td>NaN</td>\n",
              "    </tr>\n",
              "    <tr>\n",
              "      <th>54</th>\n",
              "      <td>55</td>\n",
              "      <td>RiotGamesBrazil</td>\n",
              "      <td>1343793615</td>\n",
              "      <td>38145</td>\n",
              "      <td>255542</td>\n",
              "      <td>29278</td>\n",
              "      <td>1079746</td>\n",
              "      <td>347030</td>\n",
              "      <td>32291480</td>\n",
              "      <td>False</td>\n",
              "      <td>Portuguese</td>\n",
              "      <td>League of Legends</td>\n",
              "      <td>Teamfight Tactics</td>\n",
              "      <td>NaN</td>\n",
              "    </tr>\n",
              "    <tr>\n",
              "      <th>67</th>\n",
              "      <td>68</td>\n",
              "      <td>LVPes</td>\n",
              "      <td>1238580630</td>\n",
              "      <td>92250</td>\n",
              "      <td>233009</td>\n",
              "      <td>14637</td>\n",
              "      <td>656489</td>\n",
              "      <td>186991</td>\n",
              "      <td>55915235</td>\n",
              "      <td>False</td>\n",
              "      <td>Spanish</td>\n",
              "      <td>League of Legends</td>\n",
              "      <td>Teamfight Tactics</td>\n",
              "      <td>NaN</td>\n",
              "    </tr>\n",
              "    <tr>\n",
              "      <th>104</th>\n",
              "      <td>105</td>\n",
              "      <td>LPL</td>\n",
              "      <td>899691960</td>\n",
              "      <td>48060</td>\n",
              "      <td>146577</td>\n",
              "      <td>18738</td>\n",
              "      <td>537728</td>\n",
              "      <td>301490</td>\n",
              "      <td>33202930</td>\n",
              "      <td>False</td>\n",
              "      <td>English</td>\n",
              "      <td>League of Legends</td>\n",
              "      <td>Teamfight Tactics</td>\n",
              "      <td>NaN</td>\n",
              "    </tr>\n",
              "    <tr>\n",
              "      <th>120</th>\n",
              "      <td>121</td>\n",
              "      <td>allkeyshop_tv</td>\n",
              "      <td>757691745</td>\n",
              "      <td>486105</td>\n",
              "      <td>6075</td>\n",
              "      <td>1550</td>\n",
              "      <td>69689</td>\n",
              "      <td>28879</td>\n",
              "      <td>55118276</td>\n",
              "      <td>False</td>\n",
              "      <td>English</td>\n",
              "      <td>Just Chatting</td>\n",
              "      <td>Fortnite</td>\n",
              "      <td>NaN</td>\n",
              "    </tr>\n",
              "    <tr>\n",
              "      <th>...</th>\n",
              "      <td>...</td>\n",
              "      <td>...</td>\n",
              "      <td>...</td>\n",
              "      <td>...</td>\n",
              "      <td>...</td>\n",
              "      <td>...</td>\n",
              "      <td>...</td>\n",
              "      <td>...</td>\n",
              "      <td>...</td>\n",
              "      <td>...</td>\n",
              "      <td>...</td>\n",
              "      <td>...</td>\n",
              "      <td>...</td>\n",
              "      <td>...</td>\n",
              "    </tr>\n",
              "    <tr>\n",
              "      <th>8608</th>\n",
              "      <td>8609</td>\n",
              "      <td>asiafm923</td>\n",
              "      <td>9196035</td>\n",
              "      <td>442215</td>\n",
              "      <td>92</td>\n",
              "      <td>20</td>\n",
              "      <td>573</td>\n",
              "      <td>226</td>\n",
              "      <td>106501</td>\n",
              "      <td>False</td>\n",
              "      <td>Chinese</td>\n",
              "      <td>Music</td>\n",
              "      <td>Unlisted on Twitch</td>\n",
              "      <td>NaN</td>\n",
              "    </tr>\n",
              "    <tr>\n",
              "      <th>8654</th>\n",
              "      <td>8655</td>\n",
              "      <td>JoystickOW</td>\n",
              "      <td>9139860</td>\n",
              "      <td>123900</td>\n",
              "      <td>3286</td>\n",
              "      <td>65</td>\n",
              "      <td>21964</td>\n",
              "      <td>18944</td>\n",
              "      <td>164689</td>\n",
              "      <td>False</td>\n",
              "      <td>English</td>\n",
              "      <td>Overwatch</td>\n",
              "      <td>Apex Legends</td>\n",
              "      <td>NaN</td>\n",
              "    </tr>\n",
              "    <tr>\n",
              "      <th>8704</th>\n",
              "      <td>8705</td>\n",
              "      <td>Aleeksi</td>\n",
              "      <td>8952300</td>\n",
              "      <td>3870</td>\n",
              "      <td>4093</td>\n",
              "      <td>2303</td>\n",
              "      <td>74173</td>\n",
              "      <td>25784</td>\n",
              "      <td>351632</td>\n",
              "      <td>True</td>\n",
              "      <td>Finnish</td>\n",
              "      <td>Counter-Strike: Global Offensive</td>\n",
              "      <td>Counter-Strike</td>\n",
              "      <td>NaN</td>\n",
              "    </tr>\n",
              "    <tr>\n",
              "      <th>8711</th>\n",
              "      <td>8712</td>\n",
              "      <td>PokerStaples247</td>\n",
              "      <td>8944605</td>\n",
              "      <td>519000</td>\n",
              "      <td>567</td>\n",
              "      <td>16</td>\n",
              "      <td>11712</td>\n",
              "      <td>4164</td>\n",
              "      <td>194215</td>\n",
              "      <td>False</td>\n",
              "      <td>English</td>\n",
              "      <td>Poker</td>\n",
              "      <td>Unlisted on Twitch</td>\n",
              "      <td>NaN</td>\n",
              "    </tr>\n",
              "    <tr>\n",
              "      <th>8728</th>\n",
              "      <td>8729</td>\n",
              "      <td>Maniac</td>\n",
              "      <td>8922105</td>\n",
              "      <td>8730</td>\n",
              "      <td>5172</td>\n",
              "      <td>740</td>\n",
              "      <td>48023</td>\n",
              "      <td>16159</td>\n",
              "      <td>549172</td>\n",
              "      <td>False</td>\n",
              "      <td>French</td>\n",
              "      <td>VALORANT</td>\n",
              "      <td>Counter-Strike: Global Offensive</td>\n",
              "      <td>NaN</td>\n",
              "    </tr>\n",
              "  </tbody>\n",
              "</table>\n",
              "<p>381 rows × 14 columns</p>\n",
              "</div>"
            ],
            "text/plain": [
              "      top count  ... third category\n",
              "35           36  ...            NaN\n",
              "54           55  ...            NaN\n",
              "67           68  ...            NaN\n",
              "104         105  ...            NaN\n",
              "120         121  ...            NaN\n",
              "...         ...  ...            ...\n",
              "8608       8609  ...            NaN\n",
              "8654       8655  ...            NaN\n",
              "8704       8705  ...            NaN\n",
              "8711       8712  ...            NaN\n",
              "8728       8729  ...            NaN\n",
              "\n",
              "[381 rows x 14 columns]"
            ]
          },
          "metadata": {},
          "execution_count": 209
        }
      ]
    },
    {
      "cell_type": "markdown",
      "metadata": {
        "id": "Ikrrr3uRFz86"
      },
      "source": [
        "Como agora temos menos valores NaN somente para o terceiro colocado, ao invés de removê-los podemos inserir um texto padrão como \"Não informado\""
      ]
    },
    {
      "cell_type": "code",
      "metadata": {
        "id": "3MxQwGwpGDNi"
      },
      "source": [
        "df['third category'].fillna(\"Não informado\", inplace=True)"
      ],
      "execution_count": 210,
      "outputs": []
    },
    {
      "cell_type": "code",
      "metadata": {
        "id": "Ip7SsklNOB39",
        "colab": {
          "base_uri": "https://localhost:8080/"
        },
        "outputId": "8d573150-5203-45eb-ae8f-52b325fe55e6"
      },
      "source": [
        " df['third category'].isnull().sum()"
      ],
      "execution_count": 211,
      "outputs": [
        {
          "output_type": "execute_result",
          "data": {
            "text/plain": [
              "0"
            ]
          },
          "metadata": {},
          "execution_count": 211
        }
      ]
    },
    {
      "cell_type": "markdown",
      "metadata": {
        "id": "HWeg-O8mQC0g"
      },
      "source": [
        "#### **2.8 Removendo duplicados e Correções finais**\n",
        "Vamos remover os registros duplicados, caso haja algum"
      ]
    },
    {
      "cell_type": "code",
      "metadata": {
        "id": "UbXg3UrTQI4p",
        "colab": {
          "base_uri": "https://localhost:8080/",
          "height": 66
        },
        "outputId": "dcf30614-053b-482c-cac8-9c7129a72bba"
      },
      "source": [
        "df[df.duplicated(keep='first')]"
      ],
      "execution_count": 212,
      "outputs": [
        {
          "output_type": "execute_result",
          "data": {
            "text/html": [
              "<div>\n",
              "<style scoped>\n",
              "    .dataframe tbody tr th:only-of-type {\n",
              "        vertical-align: middle;\n",
              "    }\n",
              "\n",
              "    .dataframe tbody tr th {\n",
              "        vertical-align: top;\n",
              "    }\n",
              "\n",
              "    .dataframe thead th {\n",
              "        text-align: right;\n",
              "    }\n",
              "</style>\n",
              "<table border=\"1\" class=\"dataframe\">\n",
              "  <thead>\n",
              "    <tr style=\"text-align: right;\">\n",
              "      <th></th>\n",
              "      <th>top count</th>\n",
              "      <th>screen name</th>\n",
              "      <th>watch time</th>\n",
              "      <th>stream time</th>\n",
              "      <th>peak viewers</th>\n",
              "      <th>average viewers</th>\n",
              "      <th>followers</th>\n",
              "      <th>followers gained</th>\n",
              "      <th>views gained</th>\n",
              "      <th>mature</th>\n",
              "      <th>language</th>\n",
              "      <th>first category</th>\n",
              "      <th>second category</th>\n",
              "      <th>third category</th>\n",
              "    </tr>\n",
              "  </thead>\n",
              "  <tbody>\n",
              "  </tbody>\n",
              "</table>\n",
              "</div>"
            ],
            "text/plain": [
              "Empty DataFrame\n",
              "Columns: [top count, screen name, watch time, stream time, peak viewers, average viewers, followers, followers gained, views gained, mature, language, first category, second category, third category]\n",
              "Index: []"
            ]
          },
          "metadata": {},
          "execution_count": 212
        }
      ]
    },
    {
      "cell_type": "code",
      "metadata": {
        "id": "hK3oMrOCQcpC"
      },
      "source": [
        "df.reset_index(drop=True, inplace=True)"
      ],
      "execution_count": 213,
      "outputs": []
    },
    {
      "cell_type": "code",
      "metadata": {
        "id": "kkQlhP_QOgJn",
        "colab": {
          "base_uri": "https://localhost:8080/"
        },
        "outputId": "73059a3e-30c9-45a9-f07a-11f1120ea92f"
      },
      "source": [
        "df.info()"
      ],
      "execution_count": 214,
      "outputs": [
        {
          "output_type": "stream",
          "name": "stdout",
          "text": [
            "<class 'pandas.core.frame.DataFrame'>\n",
            "RangeIndex: 8389 entries, 0 to 8388\n",
            "Data columns (total 14 columns):\n",
            " #   Column            Non-Null Count  Dtype \n",
            "---  ------            --------------  ----- \n",
            " 0   top count         8389 non-null   int64 \n",
            " 1   screen name       8389 non-null   object\n",
            " 2   watch time        8389 non-null   int64 \n",
            " 3   stream time       8389 non-null   int64 \n",
            " 4   peak viewers      8389 non-null   int64 \n",
            " 5   average viewers   8389 non-null   int64 \n",
            " 6   followers         8389 non-null   int64 \n",
            " 7   followers gained  8389 non-null   int64 \n",
            " 8   views gained      8389 non-null   int64 \n",
            " 9   mature            8389 non-null   bool  \n",
            " 10  language          8389 non-null   object\n",
            " 11  first category    8389 non-null   object\n",
            " 12  second category   8389 non-null   object\n",
            " 13  third category    8389 non-null   object\n",
            "dtypes: bool(1), int64(8), object(5)\n",
            "memory usage: 860.3+ KB\n"
          ]
        }
      ]
    },
    {
      "cell_type": "code",
      "metadata": {
        "id": "x5lNC0ujQdvo",
        "colab": {
          "base_uri": "https://localhost:8080/",
          "height": 272
        },
        "outputId": "f936db89-68a0-42fa-93d0-3279f241d062"
      },
      "source": [
        "df.head()"
      ],
      "execution_count": 215,
      "outputs": [
        {
          "output_type": "execute_result",
          "data": {
            "text/html": [
              "<div>\n",
              "<style scoped>\n",
              "    .dataframe tbody tr th:only-of-type {\n",
              "        vertical-align: middle;\n",
              "    }\n",
              "\n",
              "    .dataframe tbody tr th {\n",
              "        vertical-align: top;\n",
              "    }\n",
              "\n",
              "    .dataframe thead th {\n",
              "        text-align: right;\n",
              "    }\n",
              "</style>\n",
              "<table border=\"1\" class=\"dataframe\">\n",
              "  <thead>\n",
              "    <tr style=\"text-align: right;\">\n",
              "      <th></th>\n",
              "      <th>top count</th>\n",
              "      <th>screen name</th>\n",
              "      <th>watch time</th>\n",
              "      <th>stream time</th>\n",
              "      <th>peak viewers</th>\n",
              "      <th>average viewers</th>\n",
              "      <th>followers</th>\n",
              "      <th>followers gained</th>\n",
              "      <th>views gained</th>\n",
              "      <th>mature</th>\n",
              "      <th>language</th>\n",
              "      <th>first category</th>\n",
              "      <th>second category</th>\n",
              "      <th>third category</th>\n",
              "    </tr>\n",
              "  </thead>\n",
              "  <tbody>\n",
              "    <tr>\n",
              "      <th>0</th>\n",
              "      <td>1</td>\n",
              "      <td>xQcOW</td>\n",
              "      <td>7333609065</td>\n",
              "      <td>215670</td>\n",
              "      <td>222720</td>\n",
              "      <td>32913</td>\n",
              "      <td>3691010</td>\n",
              "      <td>2051895</td>\n",
              "      <td>109735389</td>\n",
              "      <td>False</td>\n",
              "      <td>English</td>\n",
              "      <td>Just Chatting</td>\n",
              "      <td>Among Us</td>\n",
              "      <td>Overwatch</td>\n",
              "    </tr>\n",
              "    <tr>\n",
              "      <th>1</th>\n",
              "      <td>2</td>\n",
              "      <td>Gaules</td>\n",
              "      <td>6314532585</td>\n",
              "      <td>515595</td>\n",
              "      <td>387315</td>\n",
              "      <td>12254</td>\n",
              "      <td>1966465</td>\n",
              "      <td>1141123</td>\n",
              "      <td>112807468</td>\n",
              "      <td>True</td>\n",
              "      <td>Portuguese</td>\n",
              "      <td>Counter-Strike: Global Offensive</td>\n",
              "      <td>Among Us</td>\n",
              "      <td>PLAYERUNKNOWN</td>\n",
              "    </tr>\n",
              "    <tr>\n",
              "      <th>2</th>\n",
              "      <td>3</td>\n",
              "      <td>summit1g</td>\n",
              "      <td>6235007490</td>\n",
              "      <td>216000</td>\n",
              "      <td>310998</td>\n",
              "      <td>25931</td>\n",
              "      <td>5374710</td>\n",
              "      <td>1402547</td>\n",
              "      <td>91501875</td>\n",
              "      <td>False</td>\n",
              "      <td>English</td>\n",
              "      <td>Escape From Tarkov</td>\n",
              "      <td>Sea of Thieves</td>\n",
              "      <td>Grand Theft Auto V</td>\n",
              "    </tr>\n",
              "    <tr>\n",
              "      <th>3</th>\n",
              "      <td>5</td>\n",
              "      <td>NICKMERCS</td>\n",
              "      <td>3853252845</td>\n",
              "      <td>131880</td>\n",
              "      <td>163241</td>\n",
              "      <td>29183</td>\n",
              "      <td>4415637</td>\n",
              "      <td>1337535</td>\n",
              "      <td>49164651</td>\n",
              "      <td>False</td>\n",
              "      <td>English</td>\n",
              "      <td>Call Of Duty: Modern Warfare</td>\n",
              "      <td>Fortnite</td>\n",
              "      <td>Halo: The Master Chief Collection</td>\n",
              "    </tr>\n",
              "    <tr>\n",
              "      <th>4</th>\n",
              "      <td>6</td>\n",
              "      <td>Fextralife</td>\n",
              "      <td>3644124975</td>\n",
              "      <td>161595</td>\n",
              "      <td>68795</td>\n",
              "      <td>19768</td>\n",
              "      <td>533400</td>\n",
              "      <td>437036</td>\n",
              "      <td>684835748</td>\n",
              "      <td>False</td>\n",
              "      <td>English</td>\n",
              "      <td>VALORANT</td>\n",
              "      <td>The Elder Scrolls Online</td>\n",
              "      <td>Genshin Impact</td>\n",
              "    </tr>\n",
              "  </tbody>\n",
              "</table>\n",
              "</div>"
            ],
            "text/plain": [
              "   top count  ...                     third category\n",
              "0          1  ...                          Overwatch\n",
              "1          2  ...                      PLAYERUNKNOWN\n",
              "2          3  ...                 Grand Theft Auto V\n",
              "3          5  ...  Halo: The Master Chief Collection\n",
              "4          6  ...                     Genshin Impact\n",
              "\n",
              "[5 rows x 14 columns]"
            ]
          },
          "metadata": {},
          "execution_count": 215
        }
      ]
    },
    {
      "cell_type": "markdown",
      "metadata": {
        "id": "iGb7KYj0Q8i2"
      },
      "source": [
        "#### **2.9 Renomeando Colunas**"
      ]
    },
    {
      "cell_type": "code",
      "metadata": {
        "id": "KcOu0HDoQ_Sn"
      },
      "source": [
        "df = df.rename(columns={\n",
        "    'top count': 'topCount',\n",
        "    'watch time': 'watchTime',\n",
        "    'stream time': 'streamTime',\n",
        "    'peak viewers': 'peakViewers',\n",
        "    'average viewers': 'averageViewers',\n",
        "    'followers gained': 'followersGained',\n",
        "    'views gained': 'viewsGained',\n",
        "    'first category': 'firstCategory',\n",
        "    'second category': 'secondCategory',\n",
        "    'third category': 'thirdCategory',\n",
        "    'screen name': 'screenName'\n",
        "})"
      ],
      "execution_count": 216,
      "outputs": []
    },
    {
      "cell_type": "code",
      "metadata": {
        "id": "TWsDr4UxRcIM",
        "colab": {
          "base_uri": "https://localhost:8080/"
        },
        "outputId": "8424f36f-af29-4167-9ce8-68bc096794a3"
      },
      "source": [
        "df.info()"
      ],
      "execution_count": 217,
      "outputs": [
        {
          "output_type": "stream",
          "name": "stdout",
          "text": [
            "<class 'pandas.core.frame.DataFrame'>\n",
            "RangeIndex: 8389 entries, 0 to 8388\n",
            "Data columns (total 14 columns):\n",
            " #   Column           Non-Null Count  Dtype \n",
            "---  ------           --------------  ----- \n",
            " 0   topCount         8389 non-null   int64 \n",
            " 1   screenName       8389 non-null   object\n",
            " 2   watchTime        8389 non-null   int64 \n",
            " 3   streamTime       8389 non-null   int64 \n",
            " 4   peakViewers      8389 non-null   int64 \n",
            " 5   averageViewers   8389 non-null   int64 \n",
            " 6   followers        8389 non-null   int64 \n",
            " 7   followersGained  8389 non-null   int64 \n",
            " 8   viewsGained      8389 non-null   int64 \n",
            " 9   mature           8389 non-null   bool  \n",
            " 10  language         8389 non-null   object\n",
            " 11  firstCategory    8389 non-null   object\n",
            " 12  secondCategory   8389 non-null   object\n",
            " 13  thirdCategory    8389 non-null   object\n",
            "dtypes: bool(1), int64(8), object(5)\n",
            "memory usage: 860.3+ KB\n"
          ]
        }
      ]
    },
    {
      "cell_type": "markdown",
      "metadata": {
        "id": "XuIziO0hd3g5"
      },
      "source": [
        "### **3. Análise Exploratória**"
      ]
    },
    {
      "cell_type": "code",
      "metadata": {
        "id": "MgV2s0nTeL56",
        "colab": {
          "base_uri": "https://localhost:8080/",
          "height": 292
        },
        "outputId": "9016f6ef-4fe8-43c9-86e0-023a1d868957"
      },
      "source": [
        "df.head()"
      ],
      "execution_count": 218,
      "outputs": [
        {
          "output_type": "execute_result",
          "data": {
            "text/html": [
              "<div>\n",
              "<style scoped>\n",
              "    .dataframe tbody tr th:only-of-type {\n",
              "        vertical-align: middle;\n",
              "    }\n",
              "\n",
              "    .dataframe tbody tr th {\n",
              "        vertical-align: top;\n",
              "    }\n",
              "\n",
              "    .dataframe thead th {\n",
              "        text-align: right;\n",
              "    }\n",
              "</style>\n",
              "<table border=\"1\" class=\"dataframe\">\n",
              "  <thead>\n",
              "    <tr style=\"text-align: right;\">\n",
              "      <th></th>\n",
              "      <th>topCount</th>\n",
              "      <th>screenName</th>\n",
              "      <th>watchTime</th>\n",
              "      <th>streamTime</th>\n",
              "      <th>peakViewers</th>\n",
              "      <th>averageViewers</th>\n",
              "      <th>followers</th>\n",
              "      <th>followersGained</th>\n",
              "      <th>viewsGained</th>\n",
              "      <th>mature</th>\n",
              "      <th>language</th>\n",
              "      <th>firstCategory</th>\n",
              "      <th>secondCategory</th>\n",
              "      <th>thirdCategory</th>\n",
              "    </tr>\n",
              "  </thead>\n",
              "  <tbody>\n",
              "    <tr>\n",
              "      <th>0</th>\n",
              "      <td>1</td>\n",
              "      <td>xQcOW</td>\n",
              "      <td>7333609065</td>\n",
              "      <td>215670</td>\n",
              "      <td>222720</td>\n",
              "      <td>32913</td>\n",
              "      <td>3691010</td>\n",
              "      <td>2051895</td>\n",
              "      <td>109735389</td>\n",
              "      <td>False</td>\n",
              "      <td>English</td>\n",
              "      <td>Just Chatting</td>\n",
              "      <td>Among Us</td>\n",
              "      <td>Overwatch</td>\n",
              "    </tr>\n",
              "    <tr>\n",
              "      <th>1</th>\n",
              "      <td>2</td>\n",
              "      <td>Gaules</td>\n",
              "      <td>6314532585</td>\n",
              "      <td>515595</td>\n",
              "      <td>387315</td>\n",
              "      <td>12254</td>\n",
              "      <td>1966465</td>\n",
              "      <td>1141123</td>\n",
              "      <td>112807468</td>\n",
              "      <td>True</td>\n",
              "      <td>Portuguese</td>\n",
              "      <td>Counter-Strike: Global Offensive</td>\n",
              "      <td>Among Us</td>\n",
              "      <td>PLAYERUNKNOWN</td>\n",
              "    </tr>\n",
              "    <tr>\n",
              "      <th>2</th>\n",
              "      <td>3</td>\n",
              "      <td>summit1g</td>\n",
              "      <td>6235007490</td>\n",
              "      <td>216000</td>\n",
              "      <td>310998</td>\n",
              "      <td>25931</td>\n",
              "      <td>5374710</td>\n",
              "      <td>1402547</td>\n",
              "      <td>91501875</td>\n",
              "      <td>False</td>\n",
              "      <td>English</td>\n",
              "      <td>Escape From Tarkov</td>\n",
              "      <td>Sea of Thieves</td>\n",
              "      <td>Grand Theft Auto V</td>\n",
              "    </tr>\n",
              "    <tr>\n",
              "      <th>3</th>\n",
              "      <td>5</td>\n",
              "      <td>NICKMERCS</td>\n",
              "      <td>3853252845</td>\n",
              "      <td>131880</td>\n",
              "      <td>163241</td>\n",
              "      <td>29183</td>\n",
              "      <td>4415637</td>\n",
              "      <td>1337535</td>\n",
              "      <td>49164651</td>\n",
              "      <td>False</td>\n",
              "      <td>English</td>\n",
              "      <td>Call Of Duty: Modern Warfare</td>\n",
              "      <td>Fortnite</td>\n",
              "      <td>Halo: The Master Chief Collection</td>\n",
              "    </tr>\n",
              "    <tr>\n",
              "      <th>4</th>\n",
              "      <td>6</td>\n",
              "      <td>Fextralife</td>\n",
              "      <td>3644124975</td>\n",
              "      <td>161595</td>\n",
              "      <td>68795</td>\n",
              "      <td>19768</td>\n",
              "      <td>533400</td>\n",
              "      <td>437036</td>\n",
              "      <td>684835748</td>\n",
              "      <td>False</td>\n",
              "      <td>English</td>\n",
              "      <td>VALORANT</td>\n",
              "      <td>The Elder Scrolls Online</td>\n",
              "      <td>Genshin Impact</td>\n",
              "    </tr>\n",
              "  </tbody>\n",
              "</table>\n",
              "</div>"
            ],
            "text/plain": [
              "   topCount  ...                      thirdCategory\n",
              "0         1  ...                          Overwatch\n",
              "1         2  ...                      PLAYERUNKNOWN\n",
              "2         3  ...                 Grand Theft Auto V\n",
              "3         5  ...  Halo: The Master Chief Collection\n",
              "4         6  ...                     Genshin Impact\n",
              "\n",
              "[5 rows x 14 columns]"
            ]
          },
          "metadata": {},
          "execution_count": 218
        }
      ]
    },
    {
      "cell_type": "markdown",
      "metadata": {
        "id": "giuSd1xZef1x"
      },
      "source": [
        "#### **3.1 Estatísticas descritivas básicas**"
      ]
    },
    {
      "cell_type": "code",
      "metadata": {
        "id": "ytau2kKSeaAF",
        "colab": {
          "base_uri": "https://localhost:8080/",
          "height": 297
        },
        "outputId": "19ea7739-e804-4b50-d882-08faf1fe2bd3"
      },
      "source": [
        "df.describe()"
      ],
      "execution_count": 219,
      "outputs": [
        {
          "output_type": "execute_result",
          "data": {
            "text/html": [
              "<div>\n",
              "<style scoped>\n",
              "    .dataframe tbody tr th:only-of-type {\n",
              "        vertical-align: middle;\n",
              "    }\n",
              "\n",
              "    .dataframe tbody tr th {\n",
              "        vertical-align: top;\n",
              "    }\n",
              "\n",
              "    .dataframe thead th {\n",
              "        text-align: right;\n",
              "    }\n",
              "</style>\n",
              "<table border=\"1\" class=\"dataframe\">\n",
              "  <thead>\n",
              "    <tr style=\"text-align: right;\">\n",
              "      <th></th>\n",
              "      <th>topCount</th>\n",
              "      <th>watchTime</th>\n",
              "      <th>streamTime</th>\n",
              "      <th>peakViewers</th>\n",
              "      <th>averageViewers</th>\n",
              "      <th>followers</th>\n",
              "      <th>followersGained</th>\n",
              "      <th>viewsGained</th>\n",
              "    </tr>\n",
              "  </thead>\n",
              "  <tbody>\n",
              "    <tr>\n",
              "      <th>count</th>\n",
              "      <td>8389.000000</td>\n",
              "      <td>8.389000e+03</td>\n",
              "      <td>8389.000000</td>\n",
              "      <td>8.389000e+03</td>\n",
              "      <td>8389.000000</td>\n",
              "      <td>8.389000e+03</td>\n",
              "      <td>8.389000e+03</td>\n",
              "      <td>8.389000e+03</td>\n",
              "    </tr>\n",
              "    <tr>\n",
              "      <th>mean</th>\n",
              "      <td>4394.242937</td>\n",
              "      <td>7.659037e+07</td>\n",
              "      <td>87237.875790</td>\n",
              "      <td>9.303674e+03</td>\n",
              "      <td>1099.863273</td>\n",
              "      <td>1.451444e+05</td>\n",
              "      <td>6.073100e+04</td>\n",
              "      <td>2.473236e+06</td>\n",
              "    </tr>\n",
              "    <tr>\n",
              "      <th>std</th>\n",
              "      <td>2536.447503</td>\n",
              "      <td>2.376042e+08</td>\n",
              "      <td>64151.708113</td>\n",
              "      <td>2.553945e+04</td>\n",
              "      <td>2893.573996</td>\n",
              "      <td>3.959783e+05</td>\n",
              "      <td>1.636855e+05</td>\n",
              "      <td>9.633958e+06</td>\n",
              "    </tr>\n",
              "    <tr>\n",
              "      <th>min</th>\n",
              "      <td>1.000000</td>\n",
              "      <td>8.827995e+06</td>\n",
              "      <td>150.000000</td>\n",
              "      <td>7.500000e+01</td>\n",
              "      <td>16.000000</td>\n",
              "      <td>1.190000e+02</td>\n",
              "      <td>-1.785700e+05</td>\n",
              "      <td>1.982000e+03</td>\n",
              "    </tr>\n",
              "    <tr>\n",
              "      <th>25%</th>\n",
              "      <td>2202.000000</td>\n",
              "      <td>1.307338e+07</td>\n",
              "      <td>45570.000000</td>\n",
              "      <td>1.550000e+03</td>\n",
              "      <td>174.000000</td>\n",
              "      <td>2.327300e+04</td>\n",
              "      <td>7.692000e+03</td>\n",
              "      <td>3.619410e+05</td>\n",
              "    </tr>\n",
              "    <tr>\n",
              "      <th>50%</th>\n",
              "      <td>4388.000000</td>\n",
              "      <td>2.230203e+07</td>\n",
              "      <td>78450.000000</td>\n",
              "      <td>3.423000e+03</td>\n",
              "      <td>351.000000</td>\n",
              "      <td>5.333300e+04</td>\n",
              "      <td>1.951300e+04</td>\n",
              "      <td>7.697760e+05</td>\n",
              "    </tr>\n",
              "    <tr>\n",
              "      <th>75%</th>\n",
              "      <td>6585.000000</td>\n",
              "      <td>5.232114e+07</td>\n",
              "      <td>114345.000000</td>\n",
              "      <td>8.212000e+03</td>\n",
              "      <td>894.000000</td>\n",
              "      <td>1.327820e+05</td>\n",
              "      <td>5.346700e+04</td>\n",
              "      <td>2.103522e+06</td>\n",
              "    </tr>\n",
              "    <tr>\n",
              "      <th>max</th>\n",
              "      <td>8800.000000</td>\n",
              "      <td>7.333609e+09</td>\n",
              "      <td>521115.000000</td>\n",
              "      <td>1.016962e+06</td>\n",
              "      <td>89278.000000</td>\n",
              "      <td>1.604258e+07</td>\n",
              "      <td>4.681567e+06</td>\n",
              "      <td>6.848357e+08</td>\n",
              "    </tr>\n",
              "  </tbody>\n",
              "</table>\n",
              "</div>"
            ],
            "text/plain": [
              "          topCount     watchTime  ...  followersGained   viewsGained\n",
              "count  8389.000000  8.389000e+03  ...     8.389000e+03  8.389000e+03\n",
              "mean   4394.242937  7.659037e+07  ...     6.073100e+04  2.473236e+06\n",
              "std    2536.447503  2.376042e+08  ...     1.636855e+05  9.633958e+06\n",
              "min       1.000000  8.827995e+06  ...    -1.785700e+05  1.982000e+03\n",
              "25%    2202.000000  1.307338e+07  ...     7.692000e+03  3.619410e+05\n",
              "50%    4388.000000  2.230203e+07  ...     1.951300e+04  7.697760e+05\n",
              "75%    6585.000000  5.232114e+07  ...     5.346700e+04  2.103522e+06\n",
              "max    8800.000000  7.333609e+09  ...     4.681567e+06  6.848357e+08\n",
              "\n",
              "[8 rows x 8 columns]"
            ]
          },
          "metadata": {},
          "execution_count": 219
        }
      ]
    },
    {
      "cell_type": "markdown",
      "metadata": {
        "id": "ZxxJqlL4X1ai"
      },
      "source": [
        "#### **3.2 Quais são os 10 maiores streamers do mundo (tempo assistido) ?**"
      ]
    },
    {
      "cell_type": "markdown",
      "metadata": {
        "id": "GS-tQQ65YmYU"
      },
      "source": [
        "Para analisar quais são os 10 melhores streamers por tempo assitido, ordenaremos os registros pela coluna \"watchTime\" e buscamos os 10 primeiros registros.\n"
      ]
    },
    {
      "cell_type": "code",
      "metadata": {
        "id": "T1tmLCS8elhd",
        "colab": {
          "base_uri": "https://localhost:8080/",
          "height": 515
        },
        "outputId": "07161e7d-1bab-4bc4-cb32-b64cac62f8f5"
      },
      "source": [
        "top10_streamers_tempo_assitido = df.sort_values(by='watchTime', ascending=False).head(10)\n",
        "top10_streamers_tempo_assitido"
      ],
      "execution_count": 220,
      "outputs": [
        {
          "output_type": "execute_result",
          "data": {
            "text/html": [
              "<div>\n",
              "<style scoped>\n",
              "    .dataframe tbody tr th:only-of-type {\n",
              "        vertical-align: middle;\n",
              "    }\n",
              "\n",
              "    .dataframe tbody tr th {\n",
              "        vertical-align: top;\n",
              "    }\n",
              "\n",
              "    .dataframe thead th {\n",
              "        text-align: right;\n",
              "    }\n",
              "</style>\n",
              "<table border=\"1\" class=\"dataframe\">\n",
              "  <thead>\n",
              "    <tr style=\"text-align: right;\">\n",
              "      <th></th>\n",
              "      <th>topCount</th>\n",
              "      <th>screenName</th>\n",
              "      <th>watchTime</th>\n",
              "      <th>streamTime</th>\n",
              "      <th>peakViewers</th>\n",
              "      <th>averageViewers</th>\n",
              "      <th>followers</th>\n",
              "      <th>followersGained</th>\n",
              "      <th>viewsGained</th>\n",
              "      <th>mature</th>\n",
              "      <th>language</th>\n",
              "      <th>firstCategory</th>\n",
              "      <th>secondCategory</th>\n",
              "      <th>thirdCategory</th>\n",
              "    </tr>\n",
              "  </thead>\n",
              "  <tbody>\n",
              "    <tr>\n",
              "      <th>0</th>\n",
              "      <td>1</td>\n",
              "      <td>xQcOW</td>\n",
              "      <td>7333609065</td>\n",
              "      <td>215670</td>\n",
              "      <td>222720</td>\n",
              "      <td>32913</td>\n",
              "      <td>3691010</td>\n",
              "      <td>2051895</td>\n",
              "      <td>109735389</td>\n",
              "      <td>False</td>\n",
              "      <td>English</td>\n",
              "      <td>Just Chatting</td>\n",
              "      <td>Among Us</td>\n",
              "      <td>Overwatch</td>\n",
              "    </tr>\n",
              "    <tr>\n",
              "      <th>1</th>\n",
              "      <td>2</td>\n",
              "      <td>Gaules</td>\n",
              "      <td>6314532585</td>\n",
              "      <td>515595</td>\n",
              "      <td>387315</td>\n",
              "      <td>12254</td>\n",
              "      <td>1966465</td>\n",
              "      <td>1141123</td>\n",
              "      <td>112807468</td>\n",
              "      <td>True</td>\n",
              "      <td>Portuguese</td>\n",
              "      <td>Counter-Strike: Global Offensive</td>\n",
              "      <td>Among Us</td>\n",
              "      <td>PLAYERUNKNOWN</td>\n",
              "    </tr>\n",
              "    <tr>\n",
              "      <th>2</th>\n",
              "      <td>3</td>\n",
              "      <td>summit1g</td>\n",
              "      <td>6235007490</td>\n",
              "      <td>216000</td>\n",
              "      <td>310998</td>\n",
              "      <td>25931</td>\n",
              "      <td>5374710</td>\n",
              "      <td>1402547</td>\n",
              "      <td>91501875</td>\n",
              "      <td>False</td>\n",
              "      <td>English</td>\n",
              "      <td>Escape From Tarkov</td>\n",
              "      <td>Sea of Thieves</td>\n",
              "      <td>Grand Theft Auto V</td>\n",
              "    </tr>\n",
              "    <tr>\n",
              "      <th>3</th>\n",
              "      <td>5</td>\n",
              "      <td>NICKMERCS</td>\n",
              "      <td>3853252845</td>\n",
              "      <td>131880</td>\n",
              "      <td>163241</td>\n",
              "      <td>29183</td>\n",
              "      <td>4415637</td>\n",
              "      <td>1337535</td>\n",
              "      <td>49164651</td>\n",
              "      <td>False</td>\n",
              "      <td>English</td>\n",
              "      <td>Call Of Duty: Modern Warfare</td>\n",
              "      <td>Fortnite</td>\n",
              "      <td>Halo: The Master Chief Collection</td>\n",
              "    </tr>\n",
              "    <tr>\n",
              "      <th>4</th>\n",
              "      <td>6</td>\n",
              "      <td>Fextralife</td>\n",
              "      <td>3644124975</td>\n",
              "      <td>161595</td>\n",
              "      <td>68795</td>\n",
              "      <td>19768</td>\n",
              "      <td>533400</td>\n",
              "      <td>437036</td>\n",
              "      <td>684835748</td>\n",
              "      <td>False</td>\n",
              "      <td>English</td>\n",
              "      <td>VALORANT</td>\n",
              "      <td>The Elder Scrolls Online</td>\n",
              "      <td>Genshin Impact</td>\n",
              "    </tr>\n",
              "    <tr>\n",
              "      <th>5</th>\n",
              "      <td>7</td>\n",
              "      <td>loltyler1</td>\n",
              "      <td>3503191680</td>\n",
              "      <td>131115</td>\n",
              "      <td>105499</td>\n",
              "      <td>25985</td>\n",
              "      <td>3719080</td>\n",
              "      <td>1066209</td>\n",
              "      <td>59364698</td>\n",
              "      <td>False</td>\n",
              "      <td>English</td>\n",
              "      <td>League of Legends</td>\n",
              "      <td>The Last of Us Part II</td>\n",
              "      <td>Halo: The Master Chief Collection</td>\n",
              "    </tr>\n",
              "    <tr>\n",
              "      <th>6</th>\n",
              "      <td>8</td>\n",
              "      <td>Rubius</td>\n",
              "      <td>3278317200</td>\n",
              "      <td>63285</td>\n",
              "      <td>240096</td>\n",
              "      <td>49771</td>\n",
              "      <td>6579492</td>\n",
              "      <td>4309441</td>\n",
              "      <td>74460362</td>\n",
              "      <td>False</td>\n",
              "      <td>Spanish</td>\n",
              "      <td>Minecraft</td>\n",
              "      <td>Just Chatting</td>\n",
              "      <td>Grand Theft Auto V</td>\n",
              "    </tr>\n",
              "    <tr>\n",
              "      <th>7</th>\n",
              "      <td>9</td>\n",
              "      <td>Tfue</td>\n",
              "      <td>3276339360</td>\n",
              "      <td>130680</td>\n",
              "      <td>190173</td>\n",
              "      <td>25269</td>\n",
              "      <td>9184421</td>\n",
              "      <td>2023733</td>\n",
              "      <td>70427346</td>\n",
              "      <td>False</td>\n",
              "      <td>English</td>\n",
              "      <td>Fortnite</td>\n",
              "      <td>Call Of Duty: Modern Warfare</td>\n",
              "      <td>Among Us</td>\n",
              "    </tr>\n",
              "    <tr>\n",
              "      <th>8</th>\n",
              "      <td>10</td>\n",
              "      <td>auronplay</td>\n",
              "      <td>3268219170</td>\n",
              "      <td>47385</td>\n",
              "      <td>191742</td>\n",
              "      <td>64477</td>\n",
              "      <td>5053692</td>\n",
              "      <td>4681567</td>\n",
              "      <td>57146179</td>\n",
              "      <td>False</td>\n",
              "      <td>Spanish</td>\n",
              "      <td>Grand Theft Auto V</td>\n",
              "      <td>Minecraft</td>\n",
              "      <td>Among Us</td>\n",
              "    </tr>\n",
              "    <tr>\n",
              "      <th>9</th>\n",
              "      <td>11</td>\n",
              "      <td>TimTheTatman</td>\n",
              "      <td>3183232095</td>\n",
              "      <td>106455</td>\n",
              "      <td>335403</td>\n",
              "      <td>29316</td>\n",
              "      <td>5639554</td>\n",
              "      <td>1550318</td>\n",
              "      <td>53274797</td>\n",
              "      <td>True</td>\n",
              "      <td>English</td>\n",
              "      <td>Call Of Duty: Modern Warfare</td>\n",
              "      <td>Just Chatting</td>\n",
              "      <td>Fortnite</td>\n",
              "    </tr>\n",
              "  </tbody>\n",
              "</table>\n",
              "</div>"
            ],
            "text/plain": [
              "   topCount  ...                      thirdCategory\n",
              "0         1  ...                          Overwatch\n",
              "1         2  ...                      PLAYERUNKNOWN\n",
              "2         3  ...                 Grand Theft Auto V\n",
              "3         5  ...  Halo: The Master Chief Collection\n",
              "4         6  ...                     Genshin Impact\n",
              "5         7  ...  Halo: The Master Chief Collection\n",
              "6         8  ...                 Grand Theft Auto V\n",
              "7         9  ...                           Among Us\n",
              "8        10  ...                           Among Us\n",
              "9        11  ...                           Fortnite\n",
              "\n",
              "[10 rows x 14 columns]"
            ]
          },
          "metadata": {},
          "execution_count": 220
        }
      ]
    },
    {
      "cell_type": "code",
      "metadata": {
        "colab": {
          "base_uri": "https://localhost:8080/",
          "height": 432
        },
        "id": "T1jfEdFhZqq2",
        "outputId": "d9479522-cc7e-4980-cd55-a4531737803a"
      },
      "source": [
        "sns.barplot(data=top10_streamers_tempo_assitido, x='watchTime', y='screenName')\n",
        "\n",
        "plt.xticks([0, 1e9, 2e9, 3e9, 4e9, 5e9, 6e9, 7e9], ['0', '1M', '2M', '3M', '4M', '5M', '6M', '7M'])\n",
        "plt.title('Top 10 Streamers (tempo assistido)')\n",
        "plt.xlabel('Tempo assistido')\n",
        "plt.ylabel('Streamer')"
      ],
      "execution_count": 221,
      "outputs": [
        {
          "output_type": "execute_result",
          "data": {
            "text/plain": [
              "Text(0, 0.5, 'Streamer')"
            ]
          },
          "metadata": {},
          "execution_count": 221
        },
        {
          "output_type": "display_data",
          "data": {
            "image/png": "[encoded data removed]",
            "text/plain": [
              "<Figure size 720x432 with 1 Axes>"
            ]
          },
          "metadata": {}
        }
      ]
    },
    {
      "cell_type": "markdown",
      "metadata": {
        "id": "eNu69vryio29"
      },
      "source": [
        "#### **3.3 Quais são os 10 maiores streamers do mundo (views) ?**"
      ]
    },
    {
      "cell_type": "markdown",
      "metadata": {
        "id": "wCnySzgQi0gX"
      },
      "source": [
        "Para analisar quais são os 10 melhores streamers por tempo assitido, ordenaremos os registros pela coluna \"averageViewers\" e buscamos os 10 primeiros registros."
      ]
    },
    {
      "cell_type": "code",
      "metadata": {
        "id": "GynQYrVJiy_T",
        "colab": {
          "base_uri": "https://localhost:8080/",
          "height": 430
        },
        "outputId": "8a9f8221-c169-4fa0-a639-fc8cd1cec99d"
      },
      "source": [
        "top10_streamers_views = df.sort_values(by='averageViewers', ascending=False).head(10)\n",
        "top10_streamers_views"
      ],
      "execution_count": 222,
      "outputs": [
        {
          "output_type": "execute_result",
          "data": {
            "text/html": [
              "<div>\n",
              "<style scoped>\n",
              "    .dataframe tbody tr th:only-of-type {\n",
              "        vertical-align: middle;\n",
              "    }\n",
              "\n",
              "    .dataframe tbody tr th {\n",
              "        vertical-align: top;\n",
              "    }\n",
              "\n",
              "    .dataframe thead th {\n",
              "        text-align: right;\n",
              "    }\n",
              "</style>\n",
              "<table border=\"1\" class=\"dataframe\">\n",
              "  <thead>\n",
              "    <tr style=\"text-align: right;\">\n",
              "      <th></th>\n",
              "      <th>topCount</th>\n",
              "      <th>screenName</th>\n",
              "      <th>watchTime</th>\n",
              "      <th>streamTime</th>\n",
              "      <th>peakViewers</th>\n",
              "      <th>averageViewers</th>\n",
              "      <th>followers</th>\n",
              "      <th>followersGained</th>\n",
              "      <th>viewsGained</th>\n",
              "      <th>mature</th>\n",
              "      <th>language</th>\n",
              "      <th>firstCategory</th>\n",
              "      <th>secondCategory</th>\n",
              "      <th>thirdCategory</th>\n",
              "    </tr>\n",
              "  </thead>\n",
              "  <tbody>\n",
              "    <tr>\n",
              "      <th>6141</th>\n",
              "      <td>6430</td>\n",
              "      <td>neymarjr</td>\n",
              "      <td>13391745</td>\n",
              "      <td>150</td>\n",
              "      <td>105633</td>\n",
              "      <td>89278</td>\n",
              "      <td>644971</td>\n",
              "      <td>152794</td>\n",
              "      <td>494300</td>\n",
              "      <td>False</td>\n",
              "      <td>Portuguese</td>\n",
              "      <td>Counter-Strike: Global Offensive</td>\n",
              "      <td>Among Us</td>\n",
              "      <td>PLAYERUNKNOWN</td>\n",
              "    </tr>\n",
              "    <tr>\n",
              "      <th>8</th>\n",
              "      <td>10</td>\n",
              "      <td>auronplay</td>\n",
              "      <td>3268219170</td>\n",
              "      <td>47385</td>\n",
              "      <td>191742</td>\n",
              "      <td>64477</td>\n",
              "      <td>5053692</td>\n",
              "      <td>4681567</td>\n",
              "      <td>57146179</td>\n",
              "      <td>False</td>\n",
              "      <td>Spanish</td>\n",
              "      <td>Grand Theft Auto V</td>\n",
              "      <td>Minecraft</td>\n",
              "      <td>Among Us</td>\n",
              "    </tr>\n",
              "    <tr>\n",
              "      <th>6</th>\n",
              "      <td>8</td>\n",
              "      <td>Rubius</td>\n",
              "      <td>3278317200</td>\n",
              "      <td>63285</td>\n",
              "      <td>240096</td>\n",
              "      <td>49771</td>\n",
              "      <td>6579492</td>\n",
              "      <td>4309441</td>\n",
              "      <td>74460362</td>\n",
              "      <td>False</td>\n",
              "      <td>Spanish</td>\n",
              "      <td>Minecraft</td>\n",
              "      <td>Just Chatting</td>\n",
              "      <td>Grand Theft Auto V</td>\n",
              "    </tr>\n",
              "    <tr>\n",
              "      <th>6722</th>\n",
              "      <td>7041</td>\n",
              "      <td>Oculus</td>\n",
              "      <td>11957805</td>\n",
              "      <td>255</td>\n",
              "      <td>69677</td>\n",
              "      <td>46893</td>\n",
              "      <td>12248</td>\n",
              "      <td>549</td>\n",
              "      <td>4853247</td>\n",
              "      <td>False</td>\n",
              "      <td>English</td>\n",
              "      <td>Just Chatting</td>\n",
              "      <td>VRChat</td>\n",
              "      <td>Não informado</td>\n",
              "    </tr>\n",
              "    <tr>\n",
              "      <th>12</th>\n",
              "      <td>14</td>\n",
              "      <td>Asmongold</td>\n",
              "      <td>2808614685</td>\n",
              "      <td>72000</td>\n",
              "      <td>122081</td>\n",
              "      <td>38534</td>\n",
              "      <td>1687230</td>\n",
              "      <td>440141</td>\n",
              "      <td>44506116</td>\n",
              "      <td>False</td>\n",
              "      <td>English</td>\n",
              "      <td>World of Warcraft</td>\n",
              "      <td>New World</td>\n",
              "      <td>Special Events</td>\n",
              "    </tr>\n",
              "    <tr>\n",
              "      <th>4921</th>\n",
              "      <td>5151</td>\n",
              "      <td>Global_Citizen</td>\n",
              "      <td>18668025</td>\n",
              "      <td>735</td>\n",
              "      <td>107313</td>\n",
              "      <td>36565</td>\n",
              "      <td>8117</td>\n",
              "      <td>7013</td>\n",
              "      <td>6163470</td>\n",
              "      <td>False</td>\n",
              "      <td>English</td>\n",
              "      <td>Music</td>\n",
              "      <td>Unlisted on Twitch</td>\n",
              "      <td>Não informado</td>\n",
              "    </tr>\n",
              "    <tr>\n",
              "      <th>1012</th>\n",
              "      <td>1062</td>\n",
              "      <td>KEEMSTAR</td>\n",
              "      <td>123684135</td>\n",
              "      <td>3645</td>\n",
              "      <td>74195</td>\n",
              "      <td>33655</td>\n",
              "      <td>146889</td>\n",
              "      <td>47221</td>\n",
              "      <td>7199478</td>\n",
              "      <td>False</td>\n",
              "      <td>English</td>\n",
              "      <td>Call Of Duty: Modern Warfare</td>\n",
              "      <td>Fall Guys: Ultimate Knockout</td>\n",
              "      <td>Subsistence</td>\n",
              "    </tr>\n",
              "    <tr>\n",
              "      <th>824</th>\n",
              "      <td>871</td>\n",
              "      <td>Crown</td>\n",
              "      <td>152615175</td>\n",
              "      <td>3735</td>\n",
              "      <td>152397</td>\n",
              "      <td>33122</td>\n",
              "      <td>13131</td>\n",
              "      <td>13125</td>\n",
              "      <td>54735487</td>\n",
              "      <td>False</td>\n",
              "      <td>English</td>\n",
              "      <td>Just Chatting</td>\n",
              "      <td>Apex Legends</td>\n",
              "      <td>Unlisted on Twitch</td>\n",
              "    </tr>\n",
              "    <tr>\n",
              "      <th>88</th>\n",
              "      <td>100</td>\n",
              "      <td>shroud</td>\n",
              "      <td>938602095</td>\n",
              "      <td>29385</td>\n",
              "      <td>471281</td>\n",
              "      <td>33016</td>\n",
              "      <td>8341579</td>\n",
              "      <td>1282146</td>\n",
              "      <td>31271621</td>\n",
              "      <td>False</td>\n",
              "      <td>English</td>\n",
              "      <td>DayZ</td>\n",
              "      <td>Just Chatting</td>\n",
              "      <td>VALORANT</td>\n",
              "    </tr>\n",
              "    <tr>\n",
              "      <th>0</th>\n",
              "      <td>1</td>\n",
              "      <td>xQcOW</td>\n",
              "      <td>7333609065</td>\n",
              "      <td>215670</td>\n",
              "      <td>222720</td>\n",
              "      <td>32913</td>\n",
              "      <td>3691010</td>\n",
              "      <td>2051895</td>\n",
              "      <td>109735389</td>\n",
              "      <td>False</td>\n",
              "      <td>English</td>\n",
              "      <td>Just Chatting</td>\n",
              "      <td>Among Us</td>\n",
              "      <td>Overwatch</td>\n",
              "    </tr>\n",
              "  </tbody>\n",
              "</table>\n",
              "</div>"
            ],
            "text/plain": [
              "      topCount  ...       thirdCategory\n",
              "6141      6430  ...       PLAYERUNKNOWN\n",
              "8           10  ...            Among Us\n",
              "6            8  ...  Grand Theft Auto V\n",
              "6722      7041  ...       Não informado\n",
              "12          14  ...      Special Events\n",
              "4921      5151  ...       Não informado\n",
              "1012      1062  ...         Subsistence\n",
              "824        871  ...  Unlisted on Twitch\n",
              "88         100  ...            VALORANT\n",
              "0            1  ...           Overwatch\n",
              "\n",
              "[10 rows x 14 columns]"
            ]
          },
          "metadata": {},
          "execution_count": 222
        }
      ]
    },
    {
      "cell_type": "code",
      "metadata": {
        "id": "QX4bmpr-keLN",
        "colab": {
          "base_uri": "https://localhost:8080/",
          "height": 432
        },
        "outputId": "5f7dac39-080d-4f69-b063-a5ea437d2aba"
      },
      "source": [
        "sns.barplot(data=top10_streamers_views, x='averageViewers', y='screenName')\n",
        "\n",
        "plt.xticks([20000, 40000, 60000, 80000], ['20 mil', '40 mil', '60 mil', '80 mil'])\n",
        "plt.title('Top 10 Streamers (views)')\n",
        "plt.xlabel('Views')\n",
        "plt.ylabel('Streamer')"
      ],
      "execution_count": 223,
      "outputs": [
        {
          "output_type": "execute_result",
          "data": {
            "text/plain": [
              "Text(0, 0.5, 'Streamer')"
            ]
          },
          "metadata": {},
          "execution_count": 223
        },
        {
          "output_type": "display_data",
          "data": {
            "image/png": "[encoded data removed]",
            "text/plain": [
              "<Figure size 720x432 with 1 Axes>"
            ]
          },
          "metadata": {}
        }
      ]
    },
    {
      "cell_type": "markdown",
      "metadata": {
        "id": "Vx1wMrTXlQm8"
      },
      "source": [
        "#### **3.4 Quais os jogos mais jogados entre os top 100 streamers (primeira categoria) ?**"
      ]
    },
    {
      "cell_type": "code",
      "metadata": {
        "id": "65tvffmClqOT"
      },
      "source": [
        "df.head()"
      ],
      "execution_count": null,
      "outputs": []
    },
    {
      "cell_type": "code",
      "metadata": {
        "id": "fPmWjk8Zl2YG"
      },
      "source": [
        "sns.countplot(x='firstCategory', data=df.head(100), order=df.head(100).firstCategory.value_counts().index)\n",
        "plt.xticks(rotation=90)\n",
        "plt.title('Jogos mais jogados entre top 100 streamers (primeira categoria)')\n",
        "plt.xlabel('')\n",
        "plt.ylabel('')\n"
      ],
      "execution_count": null,
      "outputs": []
    },
    {
      "cell_type": "markdown",
      "metadata": {
        "id": "_47YiVnoexck"
      },
      "source": [
        "#### **3.5 Quais os jogos mais jogados entre os top 100 streamers (segunda categoria) ?**"
      ]
    },
    {
      "cell_type": "code",
      "metadata": {
        "id": "8jJG55Aye5fF"
      },
      "source": [
        "df.head()"
      ],
      "execution_count": null,
      "outputs": []
    },
    {
      "cell_type": "code",
      "metadata": {
        "colab": {
          "base_uri": "https://localhost:8080/",
          "height": 628
        },
        "id": "gxLHBHACf2fP",
        "outputId": "d2573ee2-9862-48b2-9f2e-0c83e9ba72a4"
      },
      "source": [
        "sns.countplot(x='secondCategory', data=df.head(100), order=df.head(100).secondCategory.value_counts().index)\n",
        "plt.xticks(rotation=90)\n",
        "plt.title('Jogos mais jogados entre top 100 streamers (segunda categoria)')\n",
        "plt.xlabel('')\n",
        "plt.ylabel('')"
      ],
      "execution_count": 234,
      "outputs": [
        {
          "output_type": "execute_result",
          "data": {
            "text/plain": [
              "Text(0, 0.5, '')"
            ]
          },
          "metadata": {},
          "execution_count": 234
        },
        {
          "output_type": "display_data",
          "data": {
            "image/png": "[encoded data removed]",
            "text/plain": [
              "<Figure size 720x432 with 1 Axes>"
            ]
          },
          "metadata": {}
        }
      ]
    },
    {
      "cell_type": "markdown",
      "metadata": {
        "id": "jBIuHWirjnA1"
      },
      "source": [
        "#### **3.6 Quais os jogos mais jogados entre os top 100 streamers (terceira categoria) ?**"
      ]
    },
    {
      "cell_type": "code",
      "metadata": {
        "id": "YU6oYPaUjsFt"
      },
      "source": [
        "df.head()"
      ],
      "execution_count": null,
      "outputs": []
    },
    {
      "cell_type": "code",
      "metadata": {
        "id": "s3cuuTzfju33"
      },
      "source": [
        "sns.countplot(x='thirdCategory', data=df.head(100), order=df.head(100).thirdCategory.value_counts().index)\n",
        "plt.xticks(rotation=90)\n",
        "plt.title('Jogos mais jogados entre top 100 streamers (terceira categoria)')\n",
        "plt.xlabel('')\n",
        "plt.ylabel('')"
      ],
      "execution_count": null,
      "outputs": []
    },
    {
      "cell_type": "markdown",
      "metadata": {
        "id": "HtcJprgGpMbB"
      },
      "source": [
        "#### **3.7 Quais as linguas mais faladas pelos streamers ?**\n",
        "---\n",
        "\n"
      ]
    },
    {
      "cell_type": "code",
      "metadata": {
        "id": "5e14gnsEpa7Q",
        "outputId": "de2a1cc2-93a5-4b38-d4cf-ba13f2de65f8",
        "colab": {
          "base_uri": "https://localhost:8080/",
          "height": 598
        }
      },
      "source": [
        "sns.barplot(x=df.language.value_counts().index, y=df.language.value_counts())\n",
        "plt.xticks(rotation=90)"
      ],
      "execution_count": 241,
      "outputs": [
        {
          "output_type": "execute_result",
          "data": {
            "text/plain": [
              "(array([ 0,  1,  2,  3,  4,  5,  6,  7,  8,  9, 10, 11, 12, 13, 14, 15, 16,\n",
              "        17, 18, 19, 20, 21, 22, 23, 24, 25, 26, 27]),\n",
              " <a list of 28 Text major ticklabel objects>)"
            ]
          },
          "metadata": {},
          "execution_count": 241
        },
        {
          "output_type": "display_data",
          "data": {
            "image/png": "[encoded data removed]",
            "text/plain": [
              "<Figure size 720x432 with 1 Axes>"
            ]
          },
          "metadata": {}
        }
      ]
    },
    {
      "cell_type": "markdown",
      "metadata": {
        "id": "xceKTsY5xNrV"
      },
      "source": [
        "#### **3.8 O quanto do conteúdo é feito para maiores de 18 anos ?**\n",
        "---\n"
      ]
    },
    {
      "cell_type": "code",
      "metadata": {
        "id": "Lu8s3WY5y1C_",
        "outputId": "26922eab-6d27-41cf-d76f-b5d668bd4565",
        "colab": {
          "base_uri": "https://localhost:8080/"
        }
      },
      "source": [
        "mature_counts = df.mature.value_counts()\n",
        "mature_counts"
      ],
      "execution_count": 266,
      "outputs": [
        {
          "output_type": "execute_result",
          "data": {
            "text/plain": [
              "False    5884\n",
              "True     2505\n",
              "Name: mature, dtype: int64"
            ]
          },
          "metadata": {},
          "execution_count": 266
        }
      ]
    },
    {
      "cell_type": "code",
      "metadata": {
        "id": "y_YlyCjyxTLo",
        "outputId": "e5406c97-512f-4a1d-d8f5-24a1a66ba5a9",
        "colab": {
          "base_uri": "https://localhost:8080/"
        }
      },
      "source": [
        "all_mature = len(df.mature)\n",
        "conteudo_menores_de_18_anos = mature_counts[0]\n",
        "conteudo_maior_de_18_anos = mature_counts[1]\n",
        "\n",
        "porcentagem_maior_de_18_anos = (conteudo_maior_de_18_anos / all_mature) * 100\n",
        "porcentagem_menor_de_18_anos = (conteudo_menores_de_18_anos / all_mature) * 100\n",
        "\n",
        "print(f'Os conteúdos maduros representam {porcentagem_maior_de_18_anos:.2f}%, enquanto {porcentagem_menor_de_18_anos:.2f}% é destinado ao publico menor de 18 anos')"
      ],
      "execution_count": 268,
      "outputs": [
        {
          "output_type": "stream",
          "name": "stdout",
          "text": [
            "Os conteúdos maduros representam 29.86%, enquanto 70.14% é destinado ao publico menor de 18 anos\n"
          ]
        }
      ]
    }
  ]
}