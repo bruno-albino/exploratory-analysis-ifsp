{
  "nbformat": 4,
  "nbformat_minor": 0,
  "metadata": {
    "colab": {
      "name": "Analise exploratoria.ipynb",
      "provenance": [],
      "collapsed_sections": [],
      "mount_file_id": "https://github.com/bruno-albino/exploratory-analysis-ifsp/blob/main/Analise_exploratoria.ipynb",
      "authorship_tag": "ABX9TyMa6GpKZLp+y2BrPH4gTeV/",
      "include_colab_link": true
    },
    "kernelspec": {
      "name": "python3",
      "display_name": "Python 3"
    },
    "language_info": {
      "name": "python"
    }
  },
  "cells": [
    {
      "cell_type": "markdown",
      "metadata": {
        "id": "view-in-github",
        "colab_type": "text"
      },
      "source": [
        "<a href=\"https://colab.research.google.com/github/bruno-albino/exploratory-analysis-ifsp/blob/main/Analise_exploratoria.ipynb\" target=\"_parent\"><img src=\"https://colab.research.google.com/assets/colab-badge.svg\" alt=\"Open In Colab\"/></a>"
      ]
    },
    {
      "cell_type": "markdown",
      "metadata": {
        "id": "11BRvpKokC01"
      },
      "source": [
        "# **Top 8800 Twitch Streamers**\n",
        "### Top of the best streams based on watch time.\n",
        "\n",
        "###### Nome: Bruno da Silva Albino CP: 300273X\n",
        "###### Nome: Eduardo Bueno CP: 300273X\n",
        "---\n"
      ]
    },
    {
      "cell_type": "markdown",
      "metadata": {
        "id": "iftewfmskgAR"
      },
      "source": [
        "Disciplina: Inteligência Artificial\n",
        "\n",
        "Professor: Samuel Martins\n",
        "\n",
        "\n",
        "---\n",
        "\n"
      ]
    },
    {
      "cell_type": "code",
      "metadata": {
        "id": "LDVb8Ii0lhIZ"
      },
      "source": [
        "import pandas as pd\n",
        "import seaborn as sns\n",
        "import matplotlib.pyplot as plt\n",
        "import numpy as np\n",
        "\n",
        "\n",
        "# estilos padrão para os plots/visualizações\n",
        "sns.set_theme(style=\"whitegrid\")\n",
        "plt.rcParams['figure.figsize'] = (10, 6)\n",
        "plt.rcParams['axes.labelsize'] = 14\n",
        "plt.rcParams['xtick.labelsize'] = 14\n",
        "plt.rcParams['xtick.labelsize'] = 14\n",
        "plt.rcParams['ytick.labelsize'] = 14"
      ],
      "execution_count": 170,
      "outputs": []
    },
    {
      "cell_type": "markdown",
      "metadata": {
        "id": "Us00x51rk4yj"
      },
      "source": [
        "### **1. Dataset**\n",
        "----\n",
        "Dataset: Top 8800 Twitch Streamers: https://www.kaggle.com/girlazo/top-8800-twitch-*streamers*\n",
        "\n",
        "Este dataset possui 8800 linhas, listando os melhores streamers do mundo na plataforma de stream Twitch, baseado em tempo assistido pelos usuários. Cada registro possui o nome do streamer, a quantidaded de vies e assinantes do canal, e outras informações como os três jogos mais jogados de cada streamer\n",
        "\n",
        "\n"
      ]
    },
    {
      "cell_type": "markdown",
      "metadata": {
        "id": "H4QwTqUKlrve"
      },
      "source": [
        "#### **1.1 Importando o Dataset**"
      ]
    },
    {
      "cell_type": "code",
      "metadata": {
        "id": "yLyD2kEwl04D"
      },
      "source": [
        "data = pd.read_csv('/content/drive/MyDrive/TwitchDataSet.csv')"
      ],
      "execution_count": 171,
      "outputs": []
    },
    {
      "cell_type": "code",
      "metadata": {
        "id": "nTSp2k6x2o6G",
        "outputId": "0acabe7d-b1f6-425f-b65d-1895a62cb2c7",
        "colab": {
          "base_uri": "https://localhost:8080/",
          "height": 445
        }
      },
      "source": [
        "data.head()"
      ],
      "execution_count": 172,
      "outputs": [
        {
          "output_type": "execute_result",
          "data": {
            "text/html": [
              "<div>\n",
              "<style scoped>\n",
              "    .dataframe tbody tr th:only-of-type {\n",
              "        vertical-align: middle;\n",
              "    }\n",
              "\n",
              "    .dataframe tbody tr th {\n",
              "        vertical-align: top;\n",
              "    }\n",
              "\n",
              "    .dataframe thead th {\n",
              "        text-align: right;\n",
              "    }\n",
              "</style>\n",
              "<table border=\"1\" class=\"dataframe\">\n",
              "  <thead>\n",
              "    <tr style=\"text-align: right;\">\n",
              "      <th></th>\n",
              "      <th>profile picture</th>\n",
              "      <th>top count</th>\n",
              "      <th>screen name</th>\n",
              "      <th>watch time</th>\n",
              "      <th>stream time</th>\n",
              "      <th>peak viewers</th>\n",
              "      <th>average viewers</th>\n",
              "      <th>followers</th>\n",
              "      <th>followers gained</th>\n",
              "      <th>views gained</th>\n",
              "      <th>partnered</th>\n",
              "      <th>mature</th>\n",
              "      <th>language</th>\n",
              "      <th>completa name</th>\n",
              "      <th>first category</th>\n",
              "      <th>second category</th>\n",
              "      <th>third category</th>\n",
              "    </tr>\n",
              "  </thead>\n",
              "  <tbody>\n",
              "    <tr>\n",
              "      <th>0</th>\n",
              "      <td>https://static-cdn.jtvnw.net/jtv_user_pictures...</td>\n",
              "      <td>1</td>\n",
              "      <td>xQcOW</td>\n",
              "      <td>7333609065</td>\n",
              "      <td>215670</td>\n",
              "      <td>222720</td>\n",
              "      <td>32913</td>\n",
              "      <td>3691010</td>\n",
              "      <td>2051895</td>\n",
              "      <td>109735389</td>\n",
              "      <td>True</td>\n",
              "      <td>False</td>\n",
              "      <td>English</td>\n",
              "      <td>xQcOW</td>\n",
              "      <td>Just Chatting</td>\n",
              "      <td>Among Us</td>\n",
              "      <td>Overwatch</td>\n",
              "    </tr>\n",
              "    <tr>\n",
              "      <th>1</th>\n",
              "      <td>https://static-cdn.jtvnw.net/jtv_user_pictures...</td>\n",
              "      <td>2</td>\n",
              "      <td>Gaules</td>\n",
              "      <td>6314532585</td>\n",
              "      <td>515595</td>\n",
              "      <td>387315</td>\n",
              "      <td>12254</td>\n",
              "      <td>1966465</td>\n",
              "      <td>1141123</td>\n",
              "      <td>112807468</td>\n",
              "      <td>True</td>\n",
              "      <td>True</td>\n",
              "      <td>Portuguese</td>\n",
              "      <td>Gaules</td>\n",
              "      <td>Counter-Strike: Global Offensive</td>\n",
              "      <td>Among Us</td>\n",
              "      <td>PLAYERUNKNOWN</td>\n",
              "    </tr>\n",
              "    <tr>\n",
              "      <th>2</th>\n",
              "      <td>https://static-cdn.jtvnw.net/jtv_user_pictures...</td>\n",
              "      <td>3</td>\n",
              "      <td>summit1g</td>\n",
              "      <td>6235007490</td>\n",
              "      <td>216000</td>\n",
              "      <td>310998</td>\n",
              "      <td>25931</td>\n",
              "      <td>5374710</td>\n",
              "      <td>1402547</td>\n",
              "      <td>91501875</td>\n",
              "      <td>True</td>\n",
              "      <td>False</td>\n",
              "      <td>English</td>\n",
              "      <td>summit1g</td>\n",
              "      <td>Escape From Tarkov</td>\n",
              "      <td>Sea of Thieves</td>\n",
              "      <td>Grand Theft Auto V</td>\n",
              "    </tr>\n",
              "    <tr>\n",
              "      <th>3</th>\n",
              "      <td>https://static-cdn.jtvnw.net/jtv_user_pictures...</td>\n",
              "      <td>4</td>\n",
              "      <td>ESL_CSGO</td>\n",
              "      <td>4764929775</td>\n",
              "      <td>517965</td>\n",
              "      <td>300575</td>\n",
              "      <td>9249</td>\n",
              "      <td>4195657</td>\n",
              "      <td>870484</td>\n",
              "      <td>126008641</td>\n",
              "      <td>True</td>\n",
              "      <td>False</td>\n",
              "      <td>English</td>\n",
              "      <td>ESL_CSGO</td>\n",
              "      <td>Counter-Strike: Global Offensive</td>\n",
              "      <td>NaN</td>\n",
              "      <td>NaN</td>\n",
              "    </tr>\n",
              "    <tr>\n",
              "      <th>4</th>\n",
              "      <td>https://static-cdn.jtvnw.net/jtv_user_pictures...</td>\n",
              "      <td>5</td>\n",
              "      <td>NICKMERCS</td>\n",
              "      <td>3853252845</td>\n",
              "      <td>131880</td>\n",
              "      <td>163241</td>\n",
              "      <td>29183</td>\n",
              "      <td>4415637</td>\n",
              "      <td>1337535</td>\n",
              "      <td>49164651</td>\n",
              "      <td>True</td>\n",
              "      <td>False</td>\n",
              "      <td>English</td>\n",
              "      <td>NICKMERCS</td>\n",
              "      <td>Call Of Duty: Modern Warfare</td>\n",
              "      <td>Fortnite</td>\n",
              "      <td>Halo: The Master Chief Collection</td>\n",
              "    </tr>\n",
              "  </tbody>\n",
              "</table>\n",
              "</div>"
            ],
            "text/plain": [
              "                                     profile picture  ...                     third category\n",
              "0  https://static-cdn.jtvnw.net/jtv_user_pictures...  ...                          Overwatch\n",
              "1  https://static-cdn.jtvnw.net/jtv_user_pictures...  ...                      PLAYERUNKNOWN\n",
              "2  https://static-cdn.jtvnw.net/jtv_user_pictures...  ...                 Grand Theft Auto V\n",
              "3  https://static-cdn.jtvnw.net/jtv_user_pictures...  ...                                NaN\n",
              "4  https://static-cdn.jtvnw.net/jtv_user_pictures...  ...  Halo: The Master Chief Collection\n",
              "\n",
              "[5 rows x 17 columns]"
            ]
          },
          "metadata": {},
          "execution_count": 172
        }
      ]
    },
    {
      "cell_type": "markdown",
      "metadata": {
        "id": "-LS1YNsS2sY8"
      },
      "source": [
        "#### **1.2 Informações básicas**"
      ]
    },
    {
      "cell_type": "code",
      "metadata": {
        "id": "aNwgQ794mfti",
        "colab": {
          "base_uri": "https://localhost:8080/"
        },
        "outputId": "4645e1c1-32fe-44ae-da55-797708b1d9c7"
      },
      "source": [
        "data.info()"
      ],
      "execution_count": 173,
      "outputs": [
        {
          "output_type": "stream",
          "name": "stdout",
          "text": [
            "<class 'pandas.core.frame.DataFrame'>\n",
            "RangeIndex: 8800 entries, 0 to 8799\n",
            "Data columns (total 17 columns):\n",
            " #   Column            Non-Null Count  Dtype \n",
            "---  ------            --------------  ----- \n",
            " 0   profile picture   8800 non-null   object\n",
            " 1   top count         8800 non-null   int64 \n",
            " 2   screen name       8800 non-null   object\n",
            " 3   watch time        8800 non-null   int64 \n",
            " 4   stream time       8800 non-null   int64 \n",
            " 5   peak viewers      8800 non-null   int64 \n",
            " 6   average viewers   8800 non-null   int64 \n",
            " 7   followers         8800 non-null   int64 \n",
            " 8   followers gained  8800 non-null   int64 \n",
            " 9   views gained      8800 non-null   int64 \n",
            " 10  partnered         8800 non-null   bool  \n",
            " 11  mature            8800 non-null   bool  \n",
            " 12  language          8799 non-null   object\n",
            " 13  completa name     8800 non-null   object\n",
            " 14  first category    8795 non-null   object\n",
            " 15  second category   8390 non-null   object\n",
            " 16  third category    8009 non-null   object\n",
            "dtypes: bool(2), int64(8), object(7)\n",
            "memory usage: 1.0+ MB\n"
          ]
        }
      ]
    },
    {
      "cell_type": "code",
      "metadata": {
        "id": "wtqxfbD53AbQ",
        "outputId": "1ac64494-8721-4182-84b9-b3e0f8d6c136",
        "colab": {
          "base_uri": "https://localhost:8080/"
        }
      },
      "source": [
        "print(f'O dataset possui {data.shape[0]} registros/observações/linhas e {data.shape[1]} atributos/variáveis/colunas. Alguns atributos possuem atributos null (p. ex., \"language\") que precisará ser tratado, mas todos já possuem os tipos corretos')"
      ],
      "execution_count": 174,
      "outputs": [
        {
          "output_type": "stream",
          "name": "stdout",
          "text": [
            "O dataset possui 8800 registros/observações/linhas e 17 atributos/variáveis/colunas. Alguns atributos possuem atributos null (p. ex., \"language\") que precisará ser tratado, mas todos já possuem os tipos corretos\n"
          ]
        }
      ]
    },
    {
      "cell_type": "markdown",
      "metadata": {
        "id": "aSA3FPVH4AsT"
      },
      "source": [
        "### **2. Limpeza e Pré-processamento de Dados**\n",
        "---"
      ]
    },
    {
      "cell_type": "code",
      "metadata": {
        "id": "n0mEVHOz3-Ln"
      },
      "source": [
        "df = data.copy()"
      ],
      "execution_count": 175,
      "outputs": []
    },
    {
      "cell_type": "code",
      "metadata": {
        "id": "AzZzxlxK4atN",
        "outputId": "98e5a073-8298-434e-dd8e-1006cfe29afb",
        "colab": {
          "base_uri": "https://localhost:8080/",
          "height": 445
        }
      },
      "source": [
        "df.head()"
      ],
      "execution_count": 176,
      "outputs": [
        {
          "output_type": "execute_result",
          "data": {
            "text/html": [
              "<div>\n",
              "<style scoped>\n",
              "    .dataframe tbody tr th:only-of-type {\n",
              "        vertical-align: middle;\n",
              "    }\n",
              "\n",
              "    .dataframe tbody tr th {\n",
              "        vertical-align: top;\n",
              "    }\n",
              "\n",
              "    .dataframe thead th {\n",
              "        text-align: right;\n",
              "    }\n",
              "</style>\n",
              "<table border=\"1\" class=\"dataframe\">\n",
              "  <thead>\n",
              "    <tr style=\"text-align: right;\">\n",
              "      <th></th>\n",
              "      <th>profile picture</th>\n",
              "      <th>top count</th>\n",
              "      <th>screen name</th>\n",
              "      <th>watch time</th>\n",
              "      <th>stream time</th>\n",
              "      <th>peak viewers</th>\n",
              "      <th>average viewers</th>\n",
              "      <th>followers</th>\n",
              "      <th>followers gained</th>\n",
              "      <th>views gained</th>\n",
              "      <th>partnered</th>\n",
              "      <th>mature</th>\n",
              "      <th>language</th>\n",
              "      <th>completa name</th>\n",
              "      <th>first category</th>\n",
              "      <th>second category</th>\n",
              "      <th>third category</th>\n",
              "    </tr>\n",
              "  </thead>\n",
              "  <tbody>\n",
              "    <tr>\n",
              "      <th>0</th>\n",
              "      <td>https://static-cdn.jtvnw.net/jtv_user_pictures...</td>\n",
              "      <td>1</td>\n",
              "      <td>xQcOW</td>\n",
              "      <td>7333609065</td>\n",
              "      <td>215670</td>\n",
              "      <td>222720</td>\n",
              "      <td>32913</td>\n",
              "      <td>3691010</td>\n",
              "      <td>2051895</td>\n",
              "      <td>109735389</td>\n",
              "      <td>True</td>\n",
              "      <td>False</td>\n",
              "      <td>English</td>\n",
              "      <td>xQcOW</td>\n",
              "      <td>Just Chatting</td>\n",
              "      <td>Among Us</td>\n",
              "      <td>Overwatch</td>\n",
              "    </tr>\n",
              "    <tr>\n",
              "      <th>1</th>\n",
              "      <td>https://static-cdn.jtvnw.net/jtv_user_pictures...</td>\n",
              "      <td>2</td>\n",
              "      <td>Gaules</td>\n",
              "      <td>6314532585</td>\n",
              "      <td>515595</td>\n",
              "      <td>387315</td>\n",
              "      <td>12254</td>\n",
              "      <td>1966465</td>\n",
              "      <td>1141123</td>\n",
              "      <td>112807468</td>\n",
              "      <td>True</td>\n",
              "      <td>True</td>\n",
              "      <td>Portuguese</td>\n",
              "      <td>Gaules</td>\n",
              "      <td>Counter-Strike: Global Offensive</td>\n",
              "      <td>Among Us</td>\n",
              "      <td>PLAYERUNKNOWN</td>\n",
              "    </tr>\n",
              "    <tr>\n",
              "      <th>2</th>\n",
              "      <td>https://static-cdn.jtvnw.net/jtv_user_pictures...</td>\n",
              "      <td>3</td>\n",
              "      <td>summit1g</td>\n",
              "      <td>6235007490</td>\n",
              "      <td>216000</td>\n",
              "      <td>310998</td>\n",
              "      <td>25931</td>\n",
              "      <td>5374710</td>\n",
              "      <td>1402547</td>\n",
              "      <td>91501875</td>\n",
              "      <td>True</td>\n",
              "      <td>False</td>\n",
              "      <td>English</td>\n",
              "      <td>summit1g</td>\n",
              "      <td>Escape From Tarkov</td>\n",
              "      <td>Sea of Thieves</td>\n",
              "      <td>Grand Theft Auto V</td>\n",
              "    </tr>\n",
              "    <tr>\n",
              "      <th>3</th>\n",
              "      <td>https://static-cdn.jtvnw.net/jtv_user_pictures...</td>\n",
              "      <td>4</td>\n",
              "      <td>ESL_CSGO</td>\n",
              "      <td>4764929775</td>\n",
              "      <td>517965</td>\n",
              "      <td>300575</td>\n",
              "      <td>9249</td>\n",
              "      <td>4195657</td>\n",
              "      <td>870484</td>\n",
              "      <td>126008641</td>\n",
              "      <td>True</td>\n",
              "      <td>False</td>\n",
              "      <td>English</td>\n",
              "      <td>ESL_CSGO</td>\n",
              "      <td>Counter-Strike: Global Offensive</td>\n",
              "      <td>NaN</td>\n",
              "      <td>NaN</td>\n",
              "    </tr>\n",
              "    <tr>\n",
              "      <th>4</th>\n",
              "      <td>https://static-cdn.jtvnw.net/jtv_user_pictures...</td>\n",
              "      <td>5</td>\n",
              "      <td>NICKMERCS</td>\n",
              "      <td>3853252845</td>\n",
              "      <td>131880</td>\n",
              "      <td>163241</td>\n",
              "      <td>29183</td>\n",
              "      <td>4415637</td>\n",
              "      <td>1337535</td>\n",
              "      <td>49164651</td>\n",
              "      <td>True</td>\n",
              "      <td>False</td>\n",
              "      <td>English</td>\n",
              "      <td>NICKMERCS</td>\n",
              "      <td>Call Of Duty: Modern Warfare</td>\n",
              "      <td>Fortnite</td>\n",
              "      <td>Halo: The Master Chief Collection</td>\n",
              "    </tr>\n",
              "  </tbody>\n",
              "</table>\n",
              "</div>"
            ],
            "text/plain": [
              "                                     profile picture  ...                     third category\n",
              "0  https://static-cdn.jtvnw.net/jtv_user_pictures...  ...                          Overwatch\n",
              "1  https://static-cdn.jtvnw.net/jtv_user_pictures...  ...                      PLAYERUNKNOWN\n",
              "2  https://static-cdn.jtvnw.net/jtv_user_pictures...  ...                 Grand Theft Auto V\n",
              "3  https://static-cdn.jtvnw.net/jtv_user_pictures...  ...                                NaN\n",
              "4  https://static-cdn.jtvnw.net/jtv_user_pictures...  ...  Halo: The Master Chief Collection\n",
              "\n",
              "[5 rows x 17 columns]"
            ]
          },
          "metadata": {},
          "execution_count": 176
        }
      ]
    },
    {
      "cell_type": "markdown",
      "metadata": {
        "id": "g4eKsgOh47Ja"
      },
      "source": [
        "#### **2.1 Removendo colunas não utilizadas**\n",
        "O dataset possui colunas como a foto e o nome utilizada pelo streamer, o que para a nossa análise não vamos precisar"
      ]
    },
    {
      "cell_type": "code",
      "metadata": {
        "id": "_h9Htzr7mh5r"
      },
      "source": [
        "df = df.drop(columns=['profile picture', 'screen name', 'partnered', 'completa name'])"
      ],
      "execution_count": 177,
      "outputs": []
    },
    {
      "cell_type": "code",
      "metadata": {
        "id": "THvCDIB75dTI",
        "outputId": "61968f7b-063f-4ac1-f36c-1e10043291dc",
        "colab": {
          "base_uri": "https://localhost:8080/",
          "height": 272
        }
      },
      "source": [
        "df.head()"
      ],
      "execution_count": 178,
      "outputs": [
        {
          "output_type": "execute_result",
          "data": {
            "text/html": [
              "<div>\n",
              "<style scoped>\n",
              "    .dataframe tbody tr th:only-of-type {\n",
              "        vertical-align: middle;\n",
              "    }\n",
              "\n",
              "    .dataframe tbody tr th {\n",
              "        vertical-align: top;\n",
              "    }\n",
              "\n",
              "    .dataframe thead th {\n",
              "        text-align: right;\n",
              "    }\n",
              "</style>\n",
              "<table border=\"1\" class=\"dataframe\">\n",
              "  <thead>\n",
              "    <tr style=\"text-align: right;\">\n",
              "      <th></th>\n",
              "      <th>top count</th>\n",
              "      <th>watch time</th>\n",
              "      <th>stream time</th>\n",
              "      <th>peak viewers</th>\n",
              "      <th>average viewers</th>\n",
              "      <th>followers</th>\n",
              "      <th>followers gained</th>\n",
              "      <th>views gained</th>\n",
              "      <th>mature</th>\n",
              "      <th>language</th>\n",
              "      <th>first category</th>\n",
              "      <th>second category</th>\n",
              "      <th>third category</th>\n",
              "    </tr>\n",
              "  </thead>\n",
              "  <tbody>\n",
              "    <tr>\n",
              "      <th>0</th>\n",
              "      <td>1</td>\n",
              "      <td>7333609065</td>\n",
              "      <td>215670</td>\n",
              "      <td>222720</td>\n",
              "      <td>32913</td>\n",
              "      <td>3691010</td>\n",
              "      <td>2051895</td>\n",
              "      <td>109735389</td>\n",
              "      <td>False</td>\n",
              "      <td>English</td>\n",
              "      <td>Just Chatting</td>\n",
              "      <td>Among Us</td>\n",
              "      <td>Overwatch</td>\n",
              "    </tr>\n",
              "    <tr>\n",
              "      <th>1</th>\n",
              "      <td>2</td>\n",
              "      <td>6314532585</td>\n",
              "      <td>515595</td>\n",
              "      <td>387315</td>\n",
              "      <td>12254</td>\n",
              "      <td>1966465</td>\n",
              "      <td>1141123</td>\n",
              "      <td>112807468</td>\n",
              "      <td>True</td>\n",
              "      <td>Portuguese</td>\n",
              "      <td>Counter-Strike: Global Offensive</td>\n",
              "      <td>Among Us</td>\n",
              "      <td>PLAYERUNKNOWN</td>\n",
              "    </tr>\n",
              "    <tr>\n",
              "      <th>2</th>\n",
              "      <td>3</td>\n",
              "      <td>6235007490</td>\n",
              "      <td>216000</td>\n",
              "      <td>310998</td>\n",
              "      <td>25931</td>\n",
              "      <td>5374710</td>\n",
              "      <td>1402547</td>\n",
              "      <td>91501875</td>\n",
              "      <td>False</td>\n",
              "      <td>English</td>\n",
              "      <td>Escape From Tarkov</td>\n",
              "      <td>Sea of Thieves</td>\n",
              "      <td>Grand Theft Auto V</td>\n",
              "    </tr>\n",
              "    <tr>\n",
              "      <th>3</th>\n",
              "      <td>4</td>\n",
              "      <td>4764929775</td>\n",
              "      <td>517965</td>\n",
              "      <td>300575</td>\n",
              "      <td>9249</td>\n",
              "      <td>4195657</td>\n",
              "      <td>870484</td>\n",
              "      <td>126008641</td>\n",
              "      <td>False</td>\n",
              "      <td>English</td>\n",
              "      <td>Counter-Strike: Global Offensive</td>\n",
              "      <td>NaN</td>\n",
              "      <td>NaN</td>\n",
              "    </tr>\n",
              "    <tr>\n",
              "      <th>4</th>\n",
              "      <td>5</td>\n",
              "      <td>3853252845</td>\n",
              "      <td>131880</td>\n",
              "      <td>163241</td>\n",
              "      <td>29183</td>\n",
              "      <td>4415637</td>\n",
              "      <td>1337535</td>\n",
              "      <td>49164651</td>\n",
              "      <td>False</td>\n",
              "      <td>English</td>\n",
              "      <td>Call Of Duty: Modern Warfare</td>\n",
              "      <td>Fortnite</td>\n",
              "      <td>Halo: The Master Chief Collection</td>\n",
              "    </tr>\n",
              "  </tbody>\n",
              "</table>\n",
              "</div>"
            ],
            "text/plain": [
              "   top count  watch time  ...  second category                     third category\n",
              "0          1  7333609065  ...         Among Us                          Overwatch\n",
              "1          2  6314532585  ...         Among Us                      PLAYERUNKNOWN\n",
              "2          3  6235007490  ...   Sea of Thieves                 Grand Theft Auto V\n",
              "3          4  4764929775  ...              NaN                                NaN\n",
              "4          5  3853252845  ...         Fortnite  Halo: The Master Chief Collection\n",
              "\n",
              "[5 rows x 13 columns]"
            ]
          },
          "metadata": {},
          "execution_count": 178
        }
      ]
    },
    {
      "cell_type": "markdown",
      "metadata": {
        "id": "HzfBv_zLyml0"
      },
      "source": [
        "#### **2.2 Top Count**\n",
        "Já que este é a posição de cada streamer, vamos checar se há ruídos nesta coluna se está de acordo com a quantidade de registros"
      ]
    },
    {
      "cell_type": "code",
      "metadata": {
        "id": "Tpv-QV0A7OvF",
        "outputId": "ec907f1f-1093-458a-c459-ab7155f3e203",
        "colab": {
          "base_uri": "https://localhost:8080/"
        }
      },
      "source": [
        "print(f'Maximo = {df[\"top count\"].max()}')\n",
        "print(f'Min = {df[\"top count\"].min()}')"
      ],
      "execution_count": 179,
      "outputs": [
        {
          "output_type": "stream",
          "name": "stdout",
          "text": [
            "Maximo = 8800\n",
            "Min = 1\n"
          ]
        }
      ]
    },
    {
      "cell_type": "code",
      "metadata": {
        "id": "AqmieF_o7cGm",
        "outputId": "415ff0e7-717a-4dc5-8872-177ff27092e4",
        "colab": {
          "base_uri": "https://localhost:8080/"
        }
      },
      "source": [
        "df['top count'].unique()"
      ],
      "execution_count": 180,
      "outputs": [
        {
          "output_type": "execute_result",
          "data": {
            "text/plain": [
              "array([   1,    2,    3, ..., 8798, 8799, 8800])"
            ]
          },
          "metadata": {},
          "execution_count": 180
        }
      ]
    },
    {
      "cell_type": "code",
      "metadata": {
        "id": "li3zrmmA7nnh",
        "outputId": "636b10d1-0298-44bd-88ef-0e6f4dbb539e",
        "colab": {
          "base_uri": "https://localhost:8080/"
        }
      },
      "source": [
        "df['top count'].isnull().sum()"
      ],
      "execution_count": 181,
      "outputs": [
        {
          "output_type": "execute_result",
          "data": {
            "text/plain": [
              "0"
            ]
          },
          "metadata": {},
          "execution_count": 181
        }
      ]
    },
    {
      "cell_type": "markdown",
      "metadata": {
        "id": "7UM425eK7uva"
      },
      "source": [
        "Não há valores NaN para a coluna."
      ]
    },
    {
      "cell_type": "markdown",
      "metadata": {
        "id": "PJnUoxfW7y1x"
      },
      "source": [
        "#### **2.3 watch time**\n",
        "Já que este é o dado que elege a posição do streamer, vamos checar se está de acordo"
      ]
    },
    {
      "cell_type": "code",
      "metadata": {
        "id": "RGFVkR5M8GdC",
        "outputId": "fe5751c7-b9dc-4e65-c1a1-6879db2521ca",
        "colab": {
          "base_uri": "https://localhost:8080/"
        }
      },
      "source": [
        "df['watch time'].isnull().sum()"
      ],
      "execution_count": 182,
      "outputs": [
        {
          "output_type": "execute_result",
          "data": {
            "text/plain": [
              "0"
            ]
          },
          "metadata": {},
          "execution_count": 182
        }
      ]
    },
    {
      "cell_type": "code",
      "metadata": {
        "id": "TaTQtxSQ8tng"
      },
      "source": [
        "max_watch_time = df['watch time'].max()\n",
        "min_watch_time = df['watch time'].min()"
      ],
      "execution_count": 183,
      "outputs": []
    },
    {
      "cell_type": "code",
      "metadata": {
        "id": "4QAsGJns8KlL",
        "outputId": "69bcbd91-c2db-4b3e-92a0-b17792c12a69",
        "colab": {
          "base_uri": "https://localhost:8080/",
          "height": 80
        }
      },
      "source": [
        "max_place = df[df['watch time'] == max_watch_time]\n",
        "max_place"
      ],
      "execution_count": 184,
      "outputs": [
        {
          "output_type": "execute_result",
          "data": {
            "text/html": [
              "<div>\n",
              "<style scoped>\n",
              "    .dataframe tbody tr th:only-of-type {\n",
              "        vertical-align: middle;\n",
              "    }\n",
              "\n",
              "    .dataframe tbody tr th {\n",
              "        vertical-align: top;\n",
              "    }\n",
              "\n",
              "    .dataframe thead th {\n",
              "        text-align: right;\n",
              "    }\n",
              "</style>\n",
              "<table border=\"1\" class=\"dataframe\">\n",
              "  <thead>\n",
              "    <tr style=\"text-align: right;\">\n",
              "      <th></th>\n",
              "      <th>top count</th>\n",
              "      <th>watch time</th>\n",
              "      <th>stream time</th>\n",
              "      <th>peak viewers</th>\n",
              "      <th>average viewers</th>\n",
              "      <th>followers</th>\n",
              "      <th>followers gained</th>\n",
              "      <th>views gained</th>\n",
              "      <th>mature</th>\n",
              "      <th>language</th>\n",
              "      <th>first category</th>\n",
              "      <th>second category</th>\n",
              "      <th>third category</th>\n",
              "    </tr>\n",
              "  </thead>\n",
              "  <tbody>\n",
              "    <tr>\n",
              "      <th>0</th>\n",
              "      <td>1</td>\n",
              "      <td>7333609065</td>\n",
              "      <td>215670</td>\n",
              "      <td>222720</td>\n",
              "      <td>32913</td>\n",
              "      <td>3691010</td>\n",
              "      <td>2051895</td>\n",
              "      <td>109735389</td>\n",
              "      <td>False</td>\n",
              "      <td>English</td>\n",
              "      <td>Just Chatting</td>\n",
              "      <td>Among Us</td>\n",
              "      <td>Overwatch</td>\n",
              "    </tr>\n",
              "  </tbody>\n",
              "</table>\n",
              "</div>"
            ],
            "text/plain": [
              "   top count  watch time  ...  second category  third category\n",
              "0          1  7333609065  ...         Among Us       Overwatch\n",
              "\n",
              "[1 rows x 13 columns]"
            ]
          },
          "metadata": {},
          "execution_count": 184
        }
      ]
    },
    {
      "cell_type": "code",
      "metadata": {
        "id": "oTaFgeUG73Fi",
        "outputId": "fc71db9f-bf40-4f50-b0cf-5755ee76ca87",
        "colab": {
          "base_uri": "https://localhost:8080/",
          "height": 97
        }
      },
      "source": [
        "min_place = df[df['watch time'] == min_watch_time]\n",
        "min_place"
      ],
      "execution_count": 185,
      "outputs": [
        {
          "output_type": "execute_result",
          "data": {
            "text/html": [
              "<div>\n",
              "<style scoped>\n",
              "    .dataframe tbody tr th:only-of-type {\n",
              "        vertical-align: middle;\n",
              "    }\n",
              "\n",
              "    .dataframe tbody tr th {\n",
              "        vertical-align: top;\n",
              "    }\n",
              "\n",
              "    .dataframe thead th {\n",
              "        text-align: right;\n",
              "    }\n",
              "</style>\n",
              "<table border=\"1\" class=\"dataframe\">\n",
              "  <thead>\n",
              "    <tr style=\"text-align: right;\">\n",
              "      <th></th>\n",
              "      <th>top count</th>\n",
              "      <th>watch time</th>\n",
              "      <th>stream time</th>\n",
              "      <th>peak viewers</th>\n",
              "      <th>average viewers</th>\n",
              "      <th>followers</th>\n",
              "      <th>followers gained</th>\n",
              "      <th>views gained</th>\n",
              "      <th>mature</th>\n",
              "      <th>language</th>\n",
              "      <th>first category</th>\n",
              "      <th>second category</th>\n",
              "      <th>third category</th>\n",
              "    </tr>\n",
              "  </thead>\n",
              "  <tbody>\n",
              "    <tr>\n",
              "      <th>8799</th>\n",
              "      <td>8800</td>\n",
              "      <td>8827995</td>\n",
              "      <td>165105</td>\n",
              "      <td>2270</td>\n",
              "      <td>50</td>\n",
              "      <td>9194</td>\n",
              "      <td>2921</td>\n",
              "      <td>927197</td>\n",
              "      <td>False</td>\n",
              "      <td>English</td>\n",
              "      <td>Music</td>\n",
              "      <td>PLAYERUNKNOWN</td>\n",
              "      <td>Destiny 2</td>\n",
              "    </tr>\n",
              "  </tbody>\n",
              "</table>\n",
              "</div>"
            ],
            "text/plain": [
              "      top count  watch time  ...  second category  third category\n",
              "8799       8800     8827995  ...    PLAYERUNKNOWN       Destiny 2\n",
              "\n",
              "[1 rows x 13 columns]"
            ]
          },
          "metadata": {},
          "execution_count": 185
        }
      ]
    },
    {
      "cell_type": "markdown",
      "metadata": {
        "id": "dNBS76eP8zq7"
      },
      "source": [
        "Como podemos ver, não temos valores nulos e as posições dos streamers estão de acordo com as horas assistidas"
      ]
    },
    {
      "cell_type": "markdown",
      "metadata": {
        "id": "g3ar38kW9Lob"
      },
      "source": [
        "#### **2.4 stream time**"
      ]
    },
    {
      "cell_type": "markdown",
      "metadata": {
        "id": "Qh7jTBly9Yy1"
      },
      "source": [
        "Vamos checar se existem *outliers* nesta coluna"
      ]
    },
    {
      "cell_type": "code",
      "metadata": {
        "id": "R3t3oa43-OBs",
        "outputId": "345c7dfc-a610-49a1-8820-6196f29e9b11",
        "colab": {
          "base_uri": "https://localhost:8080/",
          "height": 416
        }
      },
      "source": [
        "sns.boxplot(x='stream time', data=df)"
      ],
      "execution_count": 186,
      "outputs": [
        {
          "output_type": "execute_result",
          "data": {
            "text/plain": [
              "<matplotlib.axes._subplots.AxesSubplot at 0x7efd62068b50>"
            ]
          },
          "metadata": {},
          "execution_count": 186
        },
        {
          "output_type": "display_data",
          "data": {
            "image/png": "[encoded data removed]",
            "text/plain": [
              "<Figure size 720x432 with 1 Axes>"
            ]
          },
          "metadata": {}
        }
      ]
    },
    {
      "cell_type": "code",
      "metadata": {
        "id": "bfjtBmY__Deq",
        "outputId": "4c79dbc3-51cf-4a87-d96c-b54fcdec5c9f",
        "colab": {
          "base_uri": "https://localhost:8080/"
        }
      },
      "source": [
        "df['stream time'].isnull().sum()"
      ],
      "execution_count": 187,
      "outputs": [
        {
          "output_type": "execute_result",
          "data": {
            "text/plain": [
              "0"
            ]
          },
          "metadata": {},
          "execution_count": 187
        }
      ]
    },
    {
      "cell_type": "markdown",
      "metadata": {
        "id": "fr_OGQVc_amY"
      },
      "source": [
        "Não temos valores nulos e os outliers são aceitáveis"
      ]
    },
    {
      "cell_type": "markdown",
      "metadata": {
        "id": "_caYWfBZ_ivj"
      },
      "source": [
        "#### **2.5 mature**\n",
        "Verificar se existe somente valores booleanos"
      ]
    },
    {
      "cell_type": "code",
      "metadata": {
        "id": "jlDkzBgBAWQY",
        "outputId": "82873c56-3cf6-47ab-e130-128229f9d89c",
        "colab": {
          "base_uri": "https://localhost:8080/"
        }
      },
      "source": [
        "df['mature'].unique()"
      ],
      "execution_count": 188,
      "outputs": [
        {
          "output_type": "execute_result",
          "data": {
            "text/plain": [
              "array([False,  True])"
            ]
          },
          "metadata": {},
          "execution_count": 188
        }
      ]
    },
    {
      "cell_type": "markdown",
      "metadata": {
        "id": "KyeyKeOpAab0"
      },
      "source": [
        "#### **2.6 Language**\n",
        "Este é um dos campos que possuem nulos, vamos analisar"
      ]
    },
    {
      "cell_type": "code",
      "metadata": {
        "id": "KYKULoR7PhPO",
        "outputId": "78063c5f-e23c-490e-8980-97e0958b679d",
        "colab": {
          "base_uri": "https://localhost:8080/"
        }
      },
      "source": [
        "df['language'].unique()"
      ],
      "execution_count": 218,
      "outputs": [
        {
          "output_type": "execute_result",
          "data": {
            "text/plain": [
              "array(['English', 'Portuguese', 'Spanish', 'Korean', 'German', 'French',\n",
              "       'Russian', 'Japanese', 'Turkish', 'Chinese', 'Czech', 'Italian',\n",
              "       'Polish', 'Thai', 'Arabic', 'Slovak', 'Other', 'Greek',\n",
              "       'Hungarian', 'Finnish', 'Swedish', 'Romanian', 'Danish', 'Dutch',\n",
              "       'Chinese (Hong Kong SAR)', 'Bulgarian', 'Norwegian', 'Indonesian'],\n",
              "      dtype=object)"
            ]
          },
          "metadata": {},
          "execution_count": 218
        }
      ]
    },
    {
      "cell_type": "code",
      "metadata": {
        "id": "cY_olfTqAgaL",
        "outputId": "1fa958e0-050f-4430-ad2f-28d0b8460819",
        "colab": {
          "base_uri": "https://localhost:8080/"
        }
      },
      "source": [
        "df['language'].isnull().sum()"
      ],
      "execution_count": 219,
      "outputs": [
        {
          "output_type": "execute_result",
          "data": {
            "text/plain": [
              "0"
            ]
          },
          "metadata": {},
          "execution_count": 219
        }
      ]
    },
    {
      "cell_type": "code",
      "metadata": {
        "id": "DHWAqUEZAmDV",
        "outputId": "ac08c09c-56a8-431b-a2cd-099bd00b657d",
        "colab": {
          "base_uri": "https://localhost:8080/",
          "height": 49
        }
      },
      "source": [
        "df[df['language'].isnull()]"
      ],
      "execution_count": 220,
      "outputs": [
        {
          "output_type": "execute_result",
          "data": {
            "text/html": [
              "<div>\n",
              "<style scoped>\n",
              "    .dataframe tbody tr th:only-of-type {\n",
              "        vertical-align: middle;\n",
              "    }\n",
              "\n",
              "    .dataframe tbody tr th {\n",
              "        vertical-align: top;\n",
              "    }\n",
              "\n",
              "    .dataframe thead th {\n",
              "        text-align: right;\n",
              "    }\n",
              "</style>\n",
              "<table border=\"1\" class=\"dataframe\">\n",
              "  <thead>\n",
              "    <tr style=\"text-align: right;\">\n",
              "      <th></th>\n",
              "      <th>top count</th>\n",
              "      <th>watch time</th>\n",
              "      <th>stream time</th>\n",
              "      <th>peak viewers</th>\n",
              "      <th>average viewers</th>\n",
              "      <th>followers</th>\n",
              "      <th>followers gained</th>\n",
              "      <th>views gained</th>\n",
              "      <th>mature</th>\n",
              "      <th>language</th>\n",
              "      <th>first category</th>\n",
              "      <th>second category</th>\n",
              "      <th>third category</th>\n",
              "    </tr>\n",
              "  </thead>\n",
              "  <tbody>\n",
              "  </tbody>\n",
              "</table>\n",
              "</div>"
            ],
            "text/plain": [
              "Empty DataFrame\n",
              "Columns: [top count, watch time, stream time, peak viewers, average viewers, followers, followers gained, views gained, mature, language, first category, second category, third category]\n",
              "Index: []"
            ]
          },
          "metadata": {},
          "execution_count": 220
        }
      ]
    },
    {
      "cell_type": "markdown",
      "metadata": {
        "id": "uIJ-VTHCA5fw"
      },
      "source": [
        "Como esta é uma coluna muito importante para a nossa análise, iremos remover esta entrada nula"
      ]
    },
    {
      "cell_type": "code",
      "metadata": {
        "id": "ZAasGtisA-dz"
      },
      "source": [
        "df.dropna(subset=['language'], inplace=True)"
      ],
      "execution_count": 191,
      "outputs": []
    },
    {
      "cell_type": "code",
      "metadata": {
        "id": "M74By11SBAl0",
        "outputId": "be922803-a136-42b5-c929-c52616996471",
        "colab": {
          "base_uri": "https://localhost:8080/"
        }
      },
      "source": [
        "df['language'].isnull().sum()"
      ],
      "execution_count": 192,
      "outputs": [
        {
          "output_type": "execute_result",
          "data": {
            "text/plain": [
              "0"
            ]
          },
          "metadata": {},
          "execution_count": 192
        }
      ]
    },
    {
      "cell_type": "markdown",
      "metadata": {
        "id": "M20Pj7crD-d3"
      },
      "source": [
        "#### **2.7 Second category**\n",
        "Vemos que esta coluna possui bastante valores nulos, vamos checar"
      ]
    },
    {
      "cell_type": "code",
      "metadata": {
        "id": "-4TyG-C_EE-0",
        "outputId": "e6f7821e-df14-4fd7-8ee0-448705db335b",
        "colab": {
          "base_uri": "https://localhost:8080/"
        }
      },
      "source": [
        "df['second category'].isnull().sum()"
      ],
      "execution_count": 193,
      "outputs": [
        {
          "output_type": "execute_result",
          "data": {
            "text/plain": [
              "410"
            ]
          },
          "metadata": {},
          "execution_count": 193
        }
      ]
    },
    {
      "cell_type": "code",
      "metadata": {
        "id": "XHZpWIWKEIPT",
        "outputId": "2cbf1dd1-83b2-435f-942e-a94554bec229",
        "colab": {
          "base_uri": "https://localhost:8080/",
          "height": 470
        }
      },
      "source": [
        "second_category_null = df['second category'].isnull()\n",
        "df[second_category_null]"
      ],
      "execution_count": 194,
      "outputs": [
        {
          "output_type": "execute_result",
          "data": {
            "text/html": [
              "<div>\n",
              "<style scoped>\n",
              "    .dataframe tbody tr th:only-of-type {\n",
              "        vertical-align: middle;\n",
              "    }\n",
              "\n",
              "    .dataframe tbody tr th {\n",
              "        vertical-align: top;\n",
              "    }\n",
              "\n",
              "    .dataframe thead th {\n",
              "        text-align: right;\n",
              "    }\n",
              "</style>\n",
              "<table border=\"1\" class=\"dataframe\">\n",
              "  <thead>\n",
              "    <tr style=\"text-align: right;\">\n",
              "      <th></th>\n",
              "      <th>top count</th>\n",
              "      <th>watch time</th>\n",
              "      <th>stream time</th>\n",
              "      <th>peak viewers</th>\n",
              "      <th>average viewers</th>\n",
              "      <th>followers</th>\n",
              "      <th>followers gained</th>\n",
              "      <th>views gained</th>\n",
              "      <th>mature</th>\n",
              "      <th>language</th>\n",
              "      <th>first category</th>\n",
              "      <th>second category</th>\n",
              "      <th>third category</th>\n",
              "    </tr>\n",
              "  </thead>\n",
              "  <tbody>\n",
              "    <tr>\n",
              "      <th>3</th>\n",
              "      <td>4</td>\n",
              "      <td>4764929775</td>\n",
              "      <td>517965</td>\n",
              "      <td>300575</td>\n",
              "      <td>9249</td>\n",
              "      <td>4195657</td>\n",
              "      <td>870484</td>\n",
              "      <td>126008641</td>\n",
              "      <td>False</td>\n",
              "      <td>English</td>\n",
              "      <td>Counter-Strike: Global Offensive</td>\n",
              "      <td>NaN</td>\n",
              "      <td>NaN</td>\n",
              "    </tr>\n",
              "    <tr>\n",
              "      <th>18</th>\n",
              "      <td>19</td>\n",
              "      <td>2271646785</td>\n",
              "      <td>49470</td>\n",
              "      <td>208341</td>\n",
              "      <td>45406</td>\n",
              "      <td>724511</td>\n",
              "      <td>294841</td>\n",
              "      <td>86113714</td>\n",
              "      <td>False</td>\n",
              "      <td>Korean</td>\n",
              "      <td>League of Legends</td>\n",
              "      <td>NaN</td>\n",
              "      <td>NaN</td>\n",
              "    </tr>\n",
              "    <tr>\n",
              "      <th>24</th>\n",
              "      <td>25</td>\n",
              "      <td>1912132740</td>\n",
              "      <td>57570</td>\n",
              "      <td>388794</td>\n",
              "      <td>28581</td>\n",
              "      <td>1107511</td>\n",
              "      <td>678235</td>\n",
              "      <td>33667372</td>\n",
              "      <td>False</td>\n",
              "      <td>English</td>\n",
              "      <td>League of Legends</td>\n",
              "      <td>NaN</td>\n",
              "      <td>NaN</td>\n",
              "    </tr>\n",
              "    <tr>\n",
              "      <th>27</th>\n",
              "      <td>28</td>\n",
              "      <td>1868846880</td>\n",
              "      <td>110205</td>\n",
              "      <td>364816</td>\n",
              "      <td>17276</td>\n",
              "      <td>608917</td>\n",
              "      <td>568052</td>\n",
              "      <td>61473607</td>\n",
              "      <td>False</td>\n",
              "      <td>Russian</td>\n",
              "      <td>Counter-Strike: Global Offensive</td>\n",
              "      <td>NaN</td>\n",
              "      <td>NaN</td>\n",
              "    </tr>\n",
              "    <tr>\n",
              "      <th>28</th>\n",
              "      <td>29</td>\n",
              "      <td>1852648845</td>\n",
              "      <td>36630</td>\n",
              "      <td>241509</td>\n",
              "      <td>48240</td>\n",
              "      <td>1257562</td>\n",
              "      <td>584326</td>\n",
              "      <td>34436876</td>\n",
              "      <td>False</td>\n",
              "      <td>English</td>\n",
              "      <td>League of Legends</td>\n",
              "      <td>NaN</td>\n",
              "      <td>NaN</td>\n",
              "    </tr>\n",
              "    <tr>\n",
              "      <th>...</th>\n",
              "      <td>...</td>\n",
              "      <td>...</td>\n",
              "      <td>...</td>\n",
              "      <td>...</td>\n",
              "      <td>...</td>\n",
              "      <td>...</td>\n",
              "      <td>...</td>\n",
              "      <td>...</td>\n",
              "      <td>...</td>\n",
              "      <td>...</td>\n",
              "      <td>...</td>\n",
              "      <td>...</td>\n",
              "      <td>...</td>\n",
              "    </tr>\n",
              "    <tr>\n",
              "      <th>8693</th>\n",
              "      <td>8694</td>\n",
              "      <td>9085365</td>\n",
              "      <td>108990</td>\n",
              "      <td>345</td>\n",
              "      <td>81</td>\n",
              "      <td>20841</td>\n",
              "      <td>3565</td>\n",
              "      <td>378818</td>\n",
              "      <td>False</td>\n",
              "      <td>Russian</td>\n",
              "      <td>World of Tanks</td>\n",
              "      <td>NaN</td>\n",
              "      <td>NaN</td>\n",
              "    </tr>\n",
              "    <tr>\n",
              "      <th>8695</th>\n",
              "      <td>8696</td>\n",
              "      <td>9082995</td>\n",
              "      <td>131565</td>\n",
              "      <td>485</td>\n",
              "      <td>64</td>\n",
              "      <td>876</td>\n",
              "      <td>862</td>\n",
              "      <td>907384</td>\n",
              "      <td>False</td>\n",
              "      <td>English</td>\n",
              "      <td>NBA 2K20</td>\n",
              "      <td>NaN</td>\n",
              "      <td>NaN</td>\n",
              "    </tr>\n",
              "    <tr>\n",
              "      <th>8696</th>\n",
              "      <td>8697</td>\n",
              "      <td>9078390</td>\n",
              "      <td>14805</td>\n",
              "      <td>3090</td>\n",
              "      <td>604</td>\n",
              "      <td>100072</td>\n",
              "      <td>89856</td>\n",
              "      <td>320627</td>\n",
              "      <td>False</td>\n",
              "      <td>Portuguese</td>\n",
              "      <td>Fortnite</td>\n",
              "      <td>NaN</td>\n",
              "      <td>NaN</td>\n",
              "    </tr>\n",
              "    <tr>\n",
              "      <th>8733</th>\n",
              "      <td>8734</td>\n",
              "      <td>8912745</td>\n",
              "      <td>31905</td>\n",
              "      <td>2022</td>\n",
              "      <td>220</td>\n",
              "      <td>11982</td>\n",
              "      <td>4166</td>\n",
              "      <td>271026</td>\n",
              "      <td>True</td>\n",
              "      <td>Russian</td>\n",
              "      <td>Poker</td>\n",
              "      <td>NaN</td>\n",
              "      <td>NaN</td>\n",
              "    </tr>\n",
              "    <tr>\n",
              "      <th>8746</th>\n",
              "      <td>8747</td>\n",
              "      <td>8890335</td>\n",
              "      <td>28845</td>\n",
              "      <td>1156</td>\n",
              "      <td>307</td>\n",
              "      <td>28837</td>\n",
              "      <td>22715</td>\n",
              "      <td>297286</td>\n",
              "      <td>False</td>\n",
              "      <td>English</td>\n",
              "      <td>Music</td>\n",
              "      <td>NaN</td>\n",
              "      <td>NaN</td>\n",
              "    </tr>\n",
              "  </tbody>\n",
              "</table>\n",
              "<p>410 rows × 13 columns</p>\n",
              "</div>"
            ],
            "text/plain": [
              "      top count  watch time  ...  second category  third category\n",
              "3             4  4764929775  ...              NaN             NaN\n",
              "18           19  2271646785  ...              NaN             NaN\n",
              "24           25  1912132740  ...              NaN             NaN\n",
              "27           28  1868846880  ...              NaN             NaN\n",
              "28           29  1852648845  ...              NaN             NaN\n",
              "...         ...         ...  ...              ...             ...\n",
              "8693       8694     9085365  ...              NaN             NaN\n",
              "8695       8696     9082995  ...              NaN             NaN\n",
              "8696       8697     9078390  ...              NaN             NaN\n",
              "8733       8734     8912745  ...              NaN             NaN\n",
              "8746       8747     8890335  ...              NaN             NaN\n",
              "\n",
              "[410 rows x 13 columns]"
            ]
          },
          "metadata": {},
          "execution_count": 194
        }
      ]
    },
    {
      "cell_type": "markdown",
      "metadata": {
        "id": "Fm-wXiu2E5nE"
      },
      "source": [
        "Vemos que temos 410 registros com valores nulos como segunda categoria. Entretando, conseguimos perceber que estes registros também não possuem a terceira categoria. Vamos confirmar"
      ]
    },
    {
      "cell_type": "code",
      "metadata": {
        "id": "HC3JrFy0FDp8",
        "outputId": "9bb08612-e9f2-41d8-cc0e-3b6b50569701",
        "colab": {
          "base_uri": "https://localhost:8080/",
          "height": 470
        }
      },
      "source": [
        "third_category_null = df['third category'].isnull()\n",
        "df[third_category_null & second_category_null]"
      ],
      "execution_count": 195,
      "outputs": [
        {
          "output_type": "execute_result",
          "data": {
            "text/html": [
              "<div>\n",
              "<style scoped>\n",
              "    .dataframe tbody tr th:only-of-type {\n",
              "        vertical-align: middle;\n",
              "    }\n",
              "\n",
              "    .dataframe tbody tr th {\n",
              "        vertical-align: top;\n",
              "    }\n",
              "\n",
              "    .dataframe thead th {\n",
              "        text-align: right;\n",
              "    }\n",
              "</style>\n",
              "<table border=\"1\" class=\"dataframe\">\n",
              "  <thead>\n",
              "    <tr style=\"text-align: right;\">\n",
              "      <th></th>\n",
              "      <th>top count</th>\n",
              "      <th>watch time</th>\n",
              "      <th>stream time</th>\n",
              "      <th>peak viewers</th>\n",
              "      <th>average viewers</th>\n",
              "      <th>followers</th>\n",
              "      <th>followers gained</th>\n",
              "      <th>views gained</th>\n",
              "      <th>mature</th>\n",
              "      <th>language</th>\n",
              "      <th>first category</th>\n",
              "      <th>second category</th>\n",
              "      <th>third category</th>\n",
              "    </tr>\n",
              "  </thead>\n",
              "  <tbody>\n",
              "    <tr>\n",
              "      <th>3</th>\n",
              "      <td>4</td>\n",
              "      <td>4764929775</td>\n",
              "      <td>517965</td>\n",
              "      <td>300575</td>\n",
              "      <td>9249</td>\n",
              "      <td>4195657</td>\n",
              "      <td>870484</td>\n",
              "      <td>126008641</td>\n",
              "      <td>False</td>\n",
              "      <td>English</td>\n",
              "      <td>Counter-Strike: Global Offensive</td>\n",
              "      <td>NaN</td>\n",
              "      <td>NaN</td>\n",
              "    </tr>\n",
              "    <tr>\n",
              "      <th>18</th>\n",
              "      <td>19</td>\n",
              "      <td>2271646785</td>\n",
              "      <td>49470</td>\n",
              "      <td>208341</td>\n",
              "      <td>45406</td>\n",
              "      <td>724511</td>\n",
              "      <td>294841</td>\n",
              "      <td>86113714</td>\n",
              "      <td>False</td>\n",
              "      <td>Korean</td>\n",
              "      <td>League of Legends</td>\n",
              "      <td>NaN</td>\n",
              "      <td>NaN</td>\n",
              "    </tr>\n",
              "    <tr>\n",
              "      <th>24</th>\n",
              "      <td>25</td>\n",
              "      <td>1912132740</td>\n",
              "      <td>57570</td>\n",
              "      <td>388794</td>\n",
              "      <td>28581</td>\n",
              "      <td>1107511</td>\n",
              "      <td>678235</td>\n",
              "      <td>33667372</td>\n",
              "      <td>False</td>\n",
              "      <td>English</td>\n",
              "      <td>League of Legends</td>\n",
              "      <td>NaN</td>\n",
              "      <td>NaN</td>\n",
              "    </tr>\n",
              "    <tr>\n",
              "      <th>27</th>\n",
              "      <td>28</td>\n",
              "      <td>1868846880</td>\n",
              "      <td>110205</td>\n",
              "      <td>364816</td>\n",
              "      <td>17276</td>\n",
              "      <td>608917</td>\n",
              "      <td>568052</td>\n",
              "      <td>61473607</td>\n",
              "      <td>False</td>\n",
              "      <td>Russian</td>\n",
              "      <td>Counter-Strike: Global Offensive</td>\n",
              "      <td>NaN</td>\n",
              "      <td>NaN</td>\n",
              "    </tr>\n",
              "    <tr>\n",
              "      <th>28</th>\n",
              "      <td>29</td>\n",
              "      <td>1852648845</td>\n",
              "      <td>36630</td>\n",
              "      <td>241509</td>\n",
              "      <td>48240</td>\n",
              "      <td>1257562</td>\n",
              "      <td>584326</td>\n",
              "      <td>34436876</td>\n",
              "      <td>False</td>\n",
              "      <td>English</td>\n",
              "      <td>League of Legends</td>\n",
              "      <td>NaN</td>\n",
              "      <td>NaN</td>\n",
              "    </tr>\n",
              "    <tr>\n",
              "      <th>...</th>\n",
              "      <td>...</td>\n",
              "      <td>...</td>\n",
              "      <td>...</td>\n",
              "      <td>...</td>\n",
              "      <td>...</td>\n",
              "      <td>...</td>\n",
              "      <td>...</td>\n",
              "      <td>...</td>\n",
              "      <td>...</td>\n",
              "      <td>...</td>\n",
              "      <td>...</td>\n",
              "      <td>...</td>\n",
              "      <td>...</td>\n",
              "    </tr>\n",
              "    <tr>\n",
              "      <th>8693</th>\n",
              "      <td>8694</td>\n",
              "      <td>9085365</td>\n",
              "      <td>108990</td>\n",
              "      <td>345</td>\n",
              "      <td>81</td>\n",
              "      <td>20841</td>\n",
              "      <td>3565</td>\n",
              "      <td>378818</td>\n",
              "      <td>False</td>\n",
              "      <td>Russian</td>\n",
              "      <td>World of Tanks</td>\n",
              "      <td>NaN</td>\n",
              "      <td>NaN</td>\n",
              "    </tr>\n",
              "    <tr>\n",
              "      <th>8695</th>\n",
              "      <td>8696</td>\n",
              "      <td>9082995</td>\n",
              "      <td>131565</td>\n",
              "      <td>485</td>\n",
              "      <td>64</td>\n",
              "      <td>876</td>\n",
              "      <td>862</td>\n",
              "      <td>907384</td>\n",
              "      <td>False</td>\n",
              "      <td>English</td>\n",
              "      <td>NBA 2K20</td>\n",
              "      <td>NaN</td>\n",
              "      <td>NaN</td>\n",
              "    </tr>\n",
              "    <tr>\n",
              "      <th>8696</th>\n",
              "      <td>8697</td>\n",
              "      <td>9078390</td>\n",
              "      <td>14805</td>\n",
              "      <td>3090</td>\n",
              "      <td>604</td>\n",
              "      <td>100072</td>\n",
              "      <td>89856</td>\n",
              "      <td>320627</td>\n",
              "      <td>False</td>\n",
              "      <td>Portuguese</td>\n",
              "      <td>Fortnite</td>\n",
              "      <td>NaN</td>\n",
              "      <td>NaN</td>\n",
              "    </tr>\n",
              "    <tr>\n",
              "      <th>8733</th>\n",
              "      <td>8734</td>\n",
              "      <td>8912745</td>\n",
              "      <td>31905</td>\n",
              "      <td>2022</td>\n",
              "      <td>220</td>\n",
              "      <td>11982</td>\n",
              "      <td>4166</td>\n",
              "      <td>271026</td>\n",
              "      <td>True</td>\n",
              "      <td>Russian</td>\n",
              "      <td>Poker</td>\n",
              "      <td>NaN</td>\n",
              "      <td>NaN</td>\n",
              "    </tr>\n",
              "    <tr>\n",
              "      <th>8746</th>\n",
              "      <td>8747</td>\n",
              "      <td>8890335</td>\n",
              "      <td>28845</td>\n",
              "      <td>1156</td>\n",
              "      <td>307</td>\n",
              "      <td>28837</td>\n",
              "      <td>22715</td>\n",
              "      <td>297286</td>\n",
              "      <td>False</td>\n",
              "      <td>English</td>\n",
              "      <td>Music</td>\n",
              "      <td>NaN</td>\n",
              "      <td>NaN</td>\n",
              "    </tr>\n",
              "  </tbody>\n",
              "</table>\n",
              "<p>410 rows × 13 columns</p>\n",
              "</div>"
            ],
            "text/plain": [
              "      top count  watch time  ...  second category  third category\n",
              "3             4  4764929775  ...              NaN             NaN\n",
              "18           19  2271646785  ...              NaN             NaN\n",
              "24           25  1912132740  ...              NaN             NaN\n",
              "27           28  1868846880  ...              NaN             NaN\n",
              "28           29  1852648845  ...              NaN             NaN\n",
              "...         ...         ...  ...              ...             ...\n",
              "8693       8694     9085365  ...              NaN             NaN\n",
              "8695       8696     9082995  ...              NaN             NaN\n",
              "8696       8697     9078390  ...              NaN             NaN\n",
              "8733       8734     8912745  ...              NaN             NaN\n",
              "8746       8747     8890335  ...              NaN             NaN\n",
              "\n",
              "[410 rows x 13 columns]"
            ]
          },
          "metadata": {},
          "execution_count": 195
        }
      ]
    },
    {
      "cell_type": "markdown",
      "metadata": {
        "id": "orsiJOqVEakN"
      },
      "source": [
        "Já que estes registros possuem valores NaN nas colunas de segundo e terceiro colocado, iremos removê-los"
      ]
    },
    {
      "cell_type": "code",
      "metadata": {
        "id": "HngoHpEaFYKm"
      },
      "source": [
        "df.dropna(subset=['second category'], inplace=True)"
      ],
      "execution_count": 196,
      "outputs": []
    },
    {
      "cell_type": "code",
      "metadata": {
        "id": "ql_qqVPsFgzU",
        "outputId": "c93398e1-df1d-4b69-d24a-6e93b81d79d4",
        "colab": {
          "base_uri": "https://localhost:8080/"
        }
      },
      "source": [
        "df['second category'].isnull().sum()"
      ],
      "execution_count": 197,
      "outputs": [
        {
          "output_type": "execute_result",
          "data": {
            "text/plain": [
              "0"
            ]
          },
          "metadata": {},
          "execution_count": 197
        }
      ]
    },
    {
      "cell_type": "markdown",
      "metadata": {
        "id": "DPRSPgiwBCrf"
      },
      "source": [
        "#### **2.8 Third category**"
      ]
    },
    {
      "cell_type": "code",
      "metadata": {
        "id": "Wssi48VRBrIm",
        "outputId": "9e132a3e-90f7-44b2-980c-9d3112f205a0",
        "colab": {
          "base_uri": "https://localhost:8080/"
        }
      },
      "source": [
        " df['third category'].isnull().sum()"
      ],
      "execution_count": 198,
      "outputs": [
        {
          "output_type": "execute_result",
          "data": {
            "text/plain": [
              "381"
            ]
          },
          "metadata": {},
          "execution_count": 198
        }
      ]
    },
    {
      "cell_type": "code",
      "metadata": {
        "id": "rsJm9aNqFqSM"
      },
      "source": [
        "df[df['third category'].isnull()]"
      ],
      "execution_count": null,
      "outputs": []
    },
    {
      "cell_type": "markdown",
      "metadata": {
        "id": "Ikrrr3uRFz86"
      },
      "source": [
        "Como agora temos menos valores NaN somente para o terceiro colocado, ao invés de removê-los podemos inserir um texto padrão como \"Não informado\""
      ]
    },
    {
      "cell_type": "code",
      "metadata": {
        "id": "3MxQwGwpGDNi"
      },
      "source": [
        "df['third category'].fillna(\"Não informado\", inplace=True)"
      ],
      "execution_count": 204,
      "outputs": []
    },
    {
      "cell_type": "code",
      "metadata": {
        "id": "Ip7SsklNOB39",
        "outputId": "23ae8c73-5376-4fbb-fb3b-2aecde300d01",
        "colab": {
          "base_uri": "https://localhost:8080/"
        }
      },
      "source": [
        " df['third category'].isnull().sum()"
      ],
      "execution_count": 209,
      "outputs": [
        {
          "output_type": "execute_result",
          "data": {
            "text/plain": [
              "0"
            ]
          },
          "metadata": {},
          "execution_count": 209
        }
      ]
    },
    {
      "cell_type": "markdown",
      "metadata": {
        "id": "HWeg-O8mQC0g"
      },
      "source": [
        "#### **2.9 Removendo duplicados e Correções finais**\n",
        "Vamos remover os registros duplicados, caso haja algum"
      ]
    },
    {
      "cell_type": "code",
      "metadata": {
        "id": "UbXg3UrTQI4p",
        "outputId": "50e35bf3-8e69-4405-ced7-f3f28c92dbb8",
        "colab": {
          "base_uri": "https://localhost:8080/",
          "height": 49
        }
      },
      "source": [
        "df[df.duplicated(keep='first')]"
      ],
      "execution_count": 225,
      "outputs": [
        {
          "output_type": "execute_result",
          "data": {
            "text/html": [
              "<div>\n",
              "<style scoped>\n",
              "    .dataframe tbody tr th:only-of-type {\n",
              "        vertical-align: middle;\n",
              "    }\n",
              "\n",
              "    .dataframe tbody tr th {\n",
              "        vertical-align: top;\n",
              "    }\n",
              "\n",
              "    .dataframe thead th {\n",
              "        text-align: right;\n",
              "    }\n",
              "</style>\n",
              "<table border=\"1\" class=\"dataframe\">\n",
              "  <thead>\n",
              "    <tr style=\"text-align: right;\">\n",
              "      <th></th>\n",
              "      <th>top count</th>\n",
              "      <th>watch time</th>\n",
              "      <th>stream time</th>\n",
              "      <th>peak viewers</th>\n",
              "      <th>average viewers</th>\n",
              "      <th>followers</th>\n",
              "      <th>followers gained</th>\n",
              "      <th>views gained</th>\n",
              "      <th>mature</th>\n",
              "      <th>language</th>\n",
              "      <th>first category</th>\n",
              "      <th>second category</th>\n",
              "      <th>third category</th>\n",
              "    </tr>\n",
              "  </thead>\n",
              "  <tbody>\n",
              "  </tbody>\n",
              "</table>\n",
              "</div>"
            ],
            "text/plain": [
              "Empty DataFrame\n",
              "Columns: [top count, watch time, stream time, peak viewers, average viewers, followers, followers gained, views gained, mature, language, first category, second category, third category]\n",
              "Index: []"
            ]
          },
          "metadata": {},
          "execution_count": 225
        }
      ]
    },
    {
      "cell_type": "code",
      "metadata": {
        "id": "hK3oMrOCQcpC"
      },
      "source": [
        "df.reset_index(drop=True, inplace=True)"
      ],
      "execution_count": 226,
      "outputs": []
    },
    {
      "cell_type": "code",
      "metadata": {
        "id": "kkQlhP_QOgJn",
        "outputId": "bd06ab12-fa43-4e4c-9a01-e2fd7eda834d",
        "colab": {
          "base_uri": "https://localhost:8080/"
        }
      },
      "source": [
        "df.info()"
      ],
      "execution_count": 227,
      "outputs": [
        {
          "output_type": "stream",
          "name": "stdout",
          "text": [
            "<class 'pandas.core.frame.DataFrame'>\n",
            "RangeIndex: 8389 entries, 0 to 8388\n",
            "Data columns (total 13 columns):\n",
            " #   Column            Non-Null Count  Dtype \n",
            "---  ------            --------------  ----- \n",
            " 0   top count         8389 non-null   int64 \n",
            " 1   watch time        8389 non-null   int64 \n",
            " 2   stream time       8389 non-null   int64 \n",
            " 3   peak viewers      8389 non-null   int64 \n",
            " 4   average viewers   8389 non-null   int64 \n",
            " 5   followers         8389 non-null   int64 \n",
            " 6   followers gained  8389 non-null   int64 \n",
            " 7   views gained      8389 non-null   int64 \n",
            " 8   mature            8389 non-null   bool  \n",
            " 9   language          8389 non-null   object\n",
            " 10  first category    8389 non-null   object\n",
            " 11  second category   8389 non-null   object\n",
            " 12  third category    8389 non-null   object\n",
            "dtypes: bool(1), int64(8), object(4)\n",
            "memory usage: 794.8+ KB\n"
          ]
        }
      ]
    },
    {
      "cell_type": "code",
      "metadata": {
        "id": "x5lNC0ujQdvo",
        "outputId": "84f19591-deb2-4b7a-e317-e33e0f03fb41",
        "colab": {
          "base_uri": "https://localhost:8080/",
          "height": 272
        }
      },
      "source": [
        "df.head()"
      ],
      "execution_count": 228,
      "outputs": [
        {
          "output_type": "execute_result",
          "data": {
            "text/html": [
              "<div>\n",
              "<style scoped>\n",
              "    .dataframe tbody tr th:only-of-type {\n",
              "        vertical-align: middle;\n",
              "    }\n",
              "\n",
              "    .dataframe tbody tr th {\n",
              "        vertical-align: top;\n",
              "    }\n",
              "\n",
              "    .dataframe thead th {\n",
              "        text-align: right;\n",
              "    }\n",
              "</style>\n",
              "<table border=\"1\" class=\"dataframe\">\n",
              "  <thead>\n",
              "    <tr style=\"text-align: right;\">\n",
              "      <th></th>\n",
              "      <th>top count</th>\n",
              "      <th>watch time</th>\n",
              "      <th>stream time</th>\n",
              "      <th>peak viewers</th>\n",
              "      <th>average viewers</th>\n",
              "      <th>followers</th>\n",
              "      <th>followers gained</th>\n",
              "      <th>views gained</th>\n",
              "      <th>mature</th>\n",
              "      <th>language</th>\n",
              "      <th>first category</th>\n",
              "      <th>second category</th>\n",
              "      <th>third category</th>\n",
              "    </tr>\n",
              "  </thead>\n",
              "  <tbody>\n",
              "    <tr>\n",
              "      <th>0</th>\n",
              "      <td>1</td>\n",
              "      <td>7333609065</td>\n",
              "      <td>215670</td>\n",
              "      <td>222720</td>\n",
              "      <td>32913</td>\n",
              "      <td>3691010</td>\n",
              "      <td>2051895</td>\n",
              "      <td>109735389</td>\n",
              "      <td>False</td>\n",
              "      <td>English</td>\n",
              "      <td>Just Chatting</td>\n",
              "      <td>Among Us</td>\n",
              "      <td>Overwatch</td>\n",
              "    </tr>\n",
              "    <tr>\n",
              "      <th>1</th>\n",
              "      <td>2</td>\n",
              "      <td>6314532585</td>\n",
              "      <td>515595</td>\n",
              "      <td>387315</td>\n",
              "      <td>12254</td>\n",
              "      <td>1966465</td>\n",
              "      <td>1141123</td>\n",
              "      <td>112807468</td>\n",
              "      <td>True</td>\n",
              "      <td>Portuguese</td>\n",
              "      <td>Counter-Strike: Global Offensive</td>\n",
              "      <td>Among Us</td>\n",
              "      <td>PLAYERUNKNOWN</td>\n",
              "    </tr>\n",
              "    <tr>\n",
              "      <th>2</th>\n",
              "      <td>3</td>\n",
              "      <td>6235007490</td>\n",
              "      <td>216000</td>\n",
              "      <td>310998</td>\n",
              "      <td>25931</td>\n",
              "      <td>5374710</td>\n",
              "      <td>1402547</td>\n",
              "      <td>91501875</td>\n",
              "      <td>False</td>\n",
              "      <td>English</td>\n",
              "      <td>Escape From Tarkov</td>\n",
              "      <td>Sea of Thieves</td>\n",
              "      <td>Grand Theft Auto V</td>\n",
              "    </tr>\n",
              "    <tr>\n",
              "      <th>3</th>\n",
              "      <td>5</td>\n",
              "      <td>3853252845</td>\n",
              "      <td>131880</td>\n",
              "      <td>163241</td>\n",
              "      <td>29183</td>\n",
              "      <td>4415637</td>\n",
              "      <td>1337535</td>\n",
              "      <td>49164651</td>\n",
              "      <td>False</td>\n",
              "      <td>English</td>\n",
              "      <td>Call Of Duty: Modern Warfare</td>\n",
              "      <td>Fortnite</td>\n",
              "      <td>Halo: The Master Chief Collection</td>\n",
              "    </tr>\n",
              "    <tr>\n",
              "      <th>4</th>\n",
              "      <td>6</td>\n",
              "      <td>3644124975</td>\n",
              "      <td>161595</td>\n",
              "      <td>68795</td>\n",
              "      <td>19768</td>\n",
              "      <td>533400</td>\n",
              "      <td>437036</td>\n",
              "      <td>684835748</td>\n",
              "      <td>False</td>\n",
              "      <td>English</td>\n",
              "      <td>VALORANT</td>\n",
              "      <td>The Elder Scrolls Online</td>\n",
              "      <td>Genshin Impact</td>\n",
              "    </tr>\n",
              "  </tbody>\n",
              "</table>\n",
              "</div>"
            ],
            "text/plain": [
              "   top count  ...                     third category\n",
              "0          1  ...                          Overwatch\n",
              "1          2  ...                      PLAYERUNKNOWN\n",
              "2          3  ...                 Grand Theft Auto V\n",
              "3          5  ...  Halo: The Master Chief Collection\n",
              "4          6  ...                     Genshin Impact\n",
              "\n",
              "[5 rows x 13 columns]"
            ]
          },
          "metadata": {},
          "execution_count": 228
        }
      ]
    },
    {
      "cell_type": "markdown",
      "metadata": {
        "id": "iGb7KYj0Q8i2"
      },
      "source": [
        "#### 2.10 **Renomeando Colunas**"
      ]
    },
    {
      "cell_type": "code",
      "metadata": {
        "id": "KcOu0HDoQ_Sn"
      },
      "source": [
        "df = df.rename(columns={\n",
        "    'top count': 'topCount',\n",
        "    'watch time': 'watchTime',\n",
        "    'stream time': 'streamTime',\n",
        "    'peak viewers': 'peakViewers',\n",
        "    'average viewers': 'averageViewers',\n",
        "    'followers gained': 'followersGained',\n",
        "    'views gained': 'viewsGained',\n",
        "    'first category': 'firstCategory',\n",
        "    'second category': 'secondCategory',\n",
        "    'third category': 'thirdCategory'\n",
        "})"
      ],
      "execution_count": 233,
      "outputs": []
    },
    {
      "cell_type": "code",
      "metadata": {
        "id": "TWsDr4UxRcIM",
        "outputId": "6281ecd3-9112-44e9-85f2-13a4bd899399",
        "colab": {
          "base_uri": "https://localhost:8080/"
        }
      },
      "source": [
        "df.info()"
      ],
      "execution_count": 234,
      "outputs": [
        {
          "output_type": "stream",
          "name": "stdout",
          "text": [
            "<class 'pandas.core.frame.DataFrame'>\n",
            "RangeIndex: 8389 entries, 0 to 8388\n",
            "Data columns (total 13 columns):\n",
            " #   Column           Non-Null Count  Dtype \n",
            "---  ------           --------------  ----- \n",
            " 0   topCount         8389 non-null   int64 \n",
            " 1   watchTime        8389 non-null   int64 \n",
            " 2   streamTime       8389 non-null   int64 \n",
            " 3   peakViewers      8389 non-null   int64 \n",
            " 4   averageViewers   8389 non-null   int64 \n",
            " 5   followers        8389 non-null   int64 \n",
            " 6   followersGained  8389 non-null   int64 \n",
            " 7   viewsGained      8389 non-null   int64 \n",
            " 8   mature           8389 non-null   bool  \n",
            " 9   language         8389 non-null   object\n",
            " 10  firstCategory    8389 non-null   object\n",
            " 11  secondCategory   8389 non-null   object\n",
            " 12  thirdCategory    8389 non-null   object\n",
            "dtypes: bool(1), int64(8), object(4)\n",
            "memory usage: 794.8+ KB\n"
          ]
        }
      ]
    },
    {
      "cell_type": "markdown",
      "metadata": {
        "id": "Me7o-PdKQjtM"
      },
      "source": [
        "#### **2.11 Salvando o arquivo pré-processado**"
      ]
    },
    {
      "cell_type": "code",
      "metadata": {
        "id": "e6mosU3SQnUD"
      },
      "source": [
        "df.to_csv('/content/drive/MyDrive/TwitchDataSetProcessado.csv', index=False)"
      ],
      "execution_count": 229,
      "outputs": []
    }
  ]
}