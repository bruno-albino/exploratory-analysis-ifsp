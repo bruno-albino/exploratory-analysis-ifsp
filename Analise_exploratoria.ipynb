{
  "nbformat": 4,
  "nbformat_minor": 0,
  "metadata": {
    "colab": {
      "name": "Analise exploratoria.ipynb",
      "provenance": [],
      "collapsed_sections": [],
      "authorship_tag": "ABX9TyNXeSBVG8lm3KZJV/cr4XiN",
      "include_colab_link": true
    },
    "kernelspec": {
      "name": "python3",
      "display_name": "Python 3"
    },
    "language_info": {
      "name": "python"
    }
  },
  "cells": [
    {
      "cell_type": "markdown",
      "metadata": {
        "id": "view-in-github",
        "colab_type": "text"
      },
      "source": [
        "<a href=\"https://colab.research.google.com/github/bruno-albino/exploratory-analysis-ifsp/blob/main/Analise_exploratoria.ipynb\" target=\"_parent\"><img src=\"https://colab.research.google.com/assets/colab-badge.svg\" alt=\"Open In Colab\"/></a>"
      ]
    },
    {
      "cell_type": "markdown",
      "metadata": {
        "id": "11BRvpKokC01"
      },
      "source": [
        "# **Top 8800 Twitch Streamers**\n",
        "### Top of the best streams based on watch time.\n",
        "\n",
        "###### Nome: Bruno da Silva Albino CP: 300273X\n",
        "###### Nome: Eduardo Bueno CP: 300273X\n",
        "---\n"
      ]
    },
    {
      "cell_type": "markdown",
      "metadata": {
        "id": "iftewfmskgAR"
      },
      "source": [
        "Disciplina: Inteligência Artificial\n",
        "\n",
        "Professor: //TODO\n",
        "\n",
        "\n",
        "---\n",
        "\n"
      ]
    },
    {
      "cell_type": "markdown",
      "metadata": {
        "id": "Us00x51rk4yj"
      },
      "source": [
        "imports"
      ]
    },
    {
      "cell_type": "code",
      "metadata": {
        "id": "LDVb8Ii0lhIZ"
      },
      "source": [
        "import pandas as pd"
      ],
      "execution_count": 2,
      "outputs": []
    },
    {
      "cell_type": "markdown",
      "metadata": {
        "id": "H4QwTqUKlrve"
      },
      "source": [
        "Leitura do arquivo principal `twitchdata-update.csv`"
      ]
    },
    {
      "cell_type": "code",
      "metadata": {
        "colab": {
          "base_uri": "https://localhost:8080/",
          "height": 445
        },
        "id": "yLyD2kEwl04D",
        "outputId": "fc9dffda-22e5-412c-901e-0c37f1bdbb53"
      },
      "source": [
        "data = pd.read_csv('./TwitchDataSet.csv')\n",
        "data.head()"
      ],
      "execution_count": 23,
      "outputs": [
        {
          "output_type": "execute_result",
          "data": {
            "text/html": [
              "<div>\n",
              "<style scoped>\n",
              "    .dataframe tbody tr th:only-of-type {\n",
              "        vertical-align: middle;\n",
              "    }\n",
              "\n",
              "    .dataframe tbody tr th {\n",
              "        vertical-align: top;\n",
              "    }\n",
              "\n",
              "    .dataframe thead th {\n",
              "        text-align: right;\n",
              "    }\n",
              "</style>\n",
              "<table border=\"1\" class=\"dataframe\">\n",
              "  <thead>\n",
              "    <tr style=\"text-align: right;\">\n",
              "      <th></th>\n",
              "      <th>profile picture</th>\n",
              "      <th>top count</th>\n",
              "      <th>screen name</th>\n",
              "      <th>watch time</th>\n",
              "      <th>stream time</th>\n",
              "      <th>peak viewers</th>\n",
              "      <th>average viewers</th>\n",
              "      <th>followers</th>\n",
              "      <th>followers gained</th>\n",
              "      <th>views gained</th>\n",
              "      <th>partnered</th>\n",
              "      <th>mature</th>\n",
              "      <th>language</th>\n",
              "      <th>completa name</th>\n",
              "      <th>first category</th>\n",
              "      <th>second category</th>\n",
              "      <th>third category</th>\n",
              "    </tr>\n",
              "  </thead>\n",
              "  <tbody>\n",
              "    <tr>\n",
              "      <th>0</th>\n",
              "      <td>https://static-cdn.jtvnw.net/jtv_user_pictures...</td>\n",
              "      <td>1</td>\n",
              "      <td>xQcOW</td>\n",
              "      <td>7333609065</td>\n",
              "      <td>215670</td>\n",
              "      <td>222720</td>\n",
              "      <td>32913</td>\n",
              "      <td>3691010</td>\n",
              "      <td>2051895</td>\n",
              "      <td>109735389</td>\n",
              "      <td>True</td>\n",
              "      <td>False</td>\n",
              "      <td>English</td>\n",
              "      <td>xQcOW</td>\n",
              "      <td>Just Chatting</td>\n",
              "      <td>Among Us</td>\n",
              "      <td>Overwatch</td>\n",
              "    </tr>\n",
              "    <tr>\n",
              "      <th>1</th>\n",
              "      <td>https://static-cdn.jtvnw.net/jtv_user_pictures...</td>\n",
              "      <td>2</td>\n",
              "      <td>Gaules</td>\n",
              "      <td>6314532585</td>\n",
              "      <td>515595</td>\n",
              "      <td>387315</td>\n",
              "      <td>12254</td>\n",
              "      <td>1966465</td>\n",
              "      <td>1141123</td>\n",
              "      <td>112807468</td>\n",
              "      <td>True</td>\n",
              "      <td>True</td>\n",
              "      <td>Portuguese</td>\n",
              "      <td>Gaules</td>\n",
              "      <td>Counter-Strike: Global Offensive</td>\n",
              "      <td>Among Us</td>\n",
              "      <td>PLAYERUNKNOWN</td>\n",
              "    </tr>\n",
              "    <tr>\n",
              "      <th>2</th>\n",
              "      <td>https://static-cdn.jtvnw.net/jtv_user_pictures...</td>\n",
              "      <td>3</td>\n",
              "      <td>summit1g</td>\n",
              "      <td>6235007490</td>\n",
              "      <td>216000</td>\n",
              "      <td>310998</td>\n",
              "      <td>25931</td>\n",
              "      <td>5374710</td>\n",
              "      <td>1402547</td>\n",
              "      <td>91501875</td>\n",
              "      <td>True</td>\n",
              "      <td>False</td>\n",
              "      <td>English</td>\n",
              "      <td>summit1g</td>\n",
              "      <td>Escape From Tarkov</td>\n",
              "      <td>Sea of Thieves</td>\n",
              "      <td>Grand Theft Auto V</td>\n",
              "    </tr>\n",
              "    <tr>\n",
              "      <th>3</th>\n",
              "      <td>https://static-cdn.jtvnw.net/jtv_user_pictures...</td>\n",
              "      <td>4</td>\n",
              "      <td>ESL_CSGO</td>\n",
              "      <td>4764929775</td>\n",
              "      <td>517965</td>\n",
              "      <td>300575</td>\n",
              "      <td>9249</td>\n",
              "      <td>4195657</td>\n",
              "      <td>870484</td>\n",
              "      <td>126008641</td>\n",
              "      <td>True</td>\n",
              "      <td>False</td>\n",
              "      <td>English</td>\n",
              "      <td>ESL_CSGO</td>\n",
              "      <td>Counter-Strike: Global Offensive</td>\n",
              "      <td>NaN</td>\n",
              "      <td>NaN</td>\n",
              "    </tr>\n",
              "    <tr>\n",
              "      <th>4</th>\n",
              "      <td>https://static-cdn.jtvnw.net/jtv_user_pictures...</td>\n",
              "      <td>5</td>\n",
              "      <td>NICKMERCS</td>\n",
              "      <td>3853252845</td>\n",
              "      <td>131880</td>\n",
              "      <td>163241</td>\n",
              "      <td>29183</td>\n",
              "      <td>4415637</td>\n",
              "      <td>1337535</td>\n",
              "      <td>49164651</td>\n",
              "      <td>True</td>\n",
              "      <td>False</td>\n",
              "      <td>English</td>\n",
              "      <td>NICKMERCS</td>\n",
              "      <td>Call Of Duty: Modern Warfare</td>\n",
              "      <td>Fortnite</td>\n",
              "      <td>Halo: The Master Chief Collection</td>\n",
              "    </tr>\n",
              "  </tbody>\n",
              "</table>\n",
              "</div>"
            ],
            "text/plain": [
              "                                     profile picture  ...                     third category\n",
              "0  https://static-cdn.jtvnw.net/jtv_user_pictures...  ...                          Overwatch\n",
              "1  https://static-cdn.jtvnw.net/jtv_user_pictures...  ...                      PLAYERUNKNOWN\n",
              "2  https://static-cdn.jtvnw.net/jtv_user_pictures...  ...                 Grand Theft Auto V\n",
              "3  https://static-cdn.jtvnw.net/jtv_user_pictures...  ...                                NaN\n",
              "4  https://static-cdn.jtvnw.net/jtv_user_pictures...  ...  Halo: The Master Chief Collection\n",
              "\n",
              "[5 rows x 17 columns]"
            ]
          },
          "metadata": {},
          "execution_count": 23
        }
      ]
    },
    {
      "cell_type": "code",
      "metadata": {
        "id": "aNwgQ794mfti",
        "outputId": "ee47d0b3-13a2-4c35-e8f1-ec0af305e629",
        "colab": {
          "base_uri": "https://localhost:8080/"
        }
      },
      "source": [
        "print(f'O arquivo inicial possui {data.shape[0]} linhas e {data.shape[1]} colunas')"
      ],
      "execution_count": 25,
      "outputs": [
        {
          "output_type": "stream",
          "name": "stdout",
          "text": [
            "O arquivo inicial possui 8800 linhas e 17 colunas\n"
          ]
        }
      ]
    },
    {
      "cell_type": "markdown",
      "metadata": {
        "id": "VuEnyapBoz_E"
      },
      "source": [
        "Remoção de colunas não utilizadas"
      ]
    },
    {
      "cell_type": "code",
      "metadata": {
        "id": "_h9Htzr7mh5r"
      },
      "source": [
        "data.drop('profile picture', inplace=True, axis=1)"
      ],
      "execution_count": 26,
      "outputs": []
    },
    {
      "cell_type": "code",
      "metadata": {
        "id": "EZ0JIrfamypw",
        "outputId": "80edc6f1-8af8-4202-9e84-369b1f81e24b",
        "colab": {
          "base_uri": "https://localhost:8080/",
          "height": 340
        }
      },
      "source": [
        "data.head()"
      ],
      "execution_count": 27,
      "outputs": [
        {
          "output_type": "execute_result",
          "data": {
            "text/html": [
              "<div>\n",
              "<style scoped>\n",
              "    .dataframe tbody tr th:only-of-type {\n",
              "        vertical-align: middle;\n",
              "    }\n",
              "\n",
              "    .dataframe tbody tr th {\n",
              "        vertical-align: top;\n",
              "    }\n",
              "\n",
              "    .dataframe thead th {\n",
              "        text-align: right;\n",
              "    }\n",
              "</style>\n",
              "<table border=\"1\" class=\"dataframe\">\n",
              "  <thead>\n",
              "    <tr style=\"text-align: right;\">\n",
              "      <th></th>\n",
              "      <th>top count</th>\n",
              "      <th>screen name</th>\n",
              "      <th>watch time</th>\n",
              "      <th>stream time</th>\n",
              "      <th>peak viewers</th>\n",
              "      <th>average viewers</th>\n",
              "      <th>followers</th>\n",
              "      <th>followers gained</th>\n",
              "      <th>views gained</th>\n",
              "      <th>partnered</th>\n",
              "      <th>mature</th>\n",
              "      <th>language</th>\n",
              "      <th>completa name</th>\n",
              "      <th>first category</th>\n",
              "      <th>second category</th>\n",
              "      <th>third category</th>\n",
              "    </tr>\n",
              "  </thead>\n",
              "  <tbody>\n",
              "    <tr>\n",
              "      <th>0</th>\n",
              "      <td>1</td>\n",
              "      <td>xQcOW</td>\n",
              "      <td>7333609065</td>\n",
              "      <td>215670</td>\n",
              "      <td>222720</td>\n",
              "      <td>32913</td>\n",
              "      <td>3691010</td>\n",
              "      <td>2051895</td>\n",
              "      <td>109735389</td>\n",
              "      <td>True</td>\n",
              "      <td>False</td>\n",
              "      <td>English</td>\n",
              "      <td>xQcOW</td>\n",
              "      <td>Just Chatting</td>\n",
              "      <td>Among Us</td>\n",
              "      <td>Overwatch</td>\n",
              "    </tr>\n",
              "    <tr>\n",
              "      <th>1</th>\n",
              "      <td>2</td>\n",
              "      <td>Gaules</td>\n",
              "      <td>6314532585</td>\n",
              "      <td>515595</td>\n",
              "      <td>387315</td>\n",
              "      <td>12254</td>\n",
              "      <td>1966465</td>\n",
              "      <td>1141123</td>\n",
              "      <td>112807468</td>\n",
              "      <td>True</td>\n",
              "      <td>True</td>\n",
              "      <td>Portuguese</td>\n",
              "      <td>Gaules</td>\n",
              "      <td>Counter-Strike: Global Offensive</td>\n",
              "      <td>Among Us</td>\n",
              "      <td>PLAYERUNKNOWN</td>\n",
              "    </tr>\n",
              "    <tr>\n",
              "      <th>2</th>\n",
              "      <td>3</td>\n",
              "      <td>summit1g</td>\n",
              "      <td>6235007490</td>\n",
              "      <td>216000</td>\n",
              "      <td>310998</td>\n",
              "      <td>25931</td>\n",
              "      <td>5374710</td>\n",
              "      <td>1402547</td>\n",
              "      <td>91501875</td>\n",
              "      <td>True</td>\n",
              "      <td>False</td>\n",
              "      <td>English</td>\n",
              "      <td>summit1g</td>\n",
              "      <td>Escape From Tarkov</td>\n",
              "      <td>Sea of Thieves</td>\n",
              "      <td>Grand Theft Auto V</td>\n",
              "    </tr>\n",
              "    <tr>\n",
              "      <th>3</th>\n",
              "      <td>4</td>\n",
              "      <td>ESL_CSGO</td>\n",
              "      <td>4764929775</td>\n",
              "      <td>517965</td>\n",
              "      <td>300575</td>\n",
              "      <td>9249</td>\n",
              "      <td>4195657</td>\n",
              "      <td>870484</td>\n",
              "      <td>126008641</td>\n",
              "      <td>True</td>\n",
              "      <td>False</td>\n",
              "      <td>English</td>\n",
              "      <td>ESL_CSGO</td>\n",
              "      <td>Counter-Strike: Global Offensive</td>\n",
              "      <td>NaN</td>\n",
              "      <td>NaN</td>\n",
              "    </tr>\n",
              "    <tr>\n",
              "      <th>4</th>\n",
              "      <td>5</td>\n",
              "      <td>NICKMERCS</td>\n",
              "      <td>3853252845</td>\n",
              "      <td>131880</td>\n",
              "      <td>163241</td>\n",
              "      <td>29183</td>\n",
              "      <td>4415637</td>\n",
              "      <td>1337535</td>\n",
              "      <td>49164651</td>\n",
              "      <td>True</td>\n",
              "      <td>False</td>\n",
              "      <td>English</td>\n",
              "      <td>NICKMERCS</td>\n",
              "      <td>Call Of Duty: Modern Warfare</td>\n",
              "      <td>Fortnite</td>\n",
              "      <td>Halo: The Master Chief Collection</td>\n",
              "    </tr>\n",
              "  </tbody>\n",
              "</table>\n",
              "</div>"
            ],
            "text/plain": [
              "   top count screen name  ...  second category                     third category\n",
              "0          1       xQcOW  ...         Among Us                          Overwatch\n",
              "1          2      Gaules  ...         Among Us                      PLAYERUNKNOWN\n",
              "2          3    summit1g  ...   Sea of Thieves                 Grand Theft Auto V\n",
              "3          4    ESL_CSGO  ...              NaN                                NaN\n",
              "4          5   NICKMERCS  ...         Fortnite  Halo: The Master Chief Collection\n",
              "\n",
              "[5 rows x 16 columns]"
            ]
          },
          "metadata": {},
          "execution_count": 27
        }
      ]
    }
  ]
}