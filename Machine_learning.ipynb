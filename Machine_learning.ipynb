{
  "nbformat": 4,
  "nbformat_minor": 0,
  "metadata": {
    "colab": {
      "name": "Machine-learning.ipynb",
      "provenance": [],
      "toc_visible": true,
      "authorship_tag": "ABX9TyM/XQEIJNhka2MYHgSNfr2N",
      "include_colab_link": true
    },
    "kernelspec": {
      "name": "python3",
      "display_name": "Python 3"
    },
    "language_info": {
      "name": "python"
    }
  },
  "cells": [
    {
      "cell_type": "markdown",
      "metadata": {
        "id": "view-in-github",
        "colab_type": "text"
      },
      "source": [
        "<a href=\"https://colab.research.google.com/github/bruno-albino/exploratory-analysis-ifsp/blob/main/Machine_learning.ipynb\" target=\"_parent\"><img src=\"https://colab.research.google.com/assets/colab-badge.svg\" alt=\"Open In Colab\"/></a>"
      ]
    },
    {
      "cell_type": "markdown",
      "metadata": {
        "id": "Zw5g84qEZ-0x"
      },
      "source": [
        "# **Top 8800 Twitch Streamers**\n",
        "\n",
        "\n",
        "### Top of the best streams based on watch time.\n",
        "\n",
        "###### Nome: Bruno da Silva Albino CP: 300273X\n",
        "###### Nome: Eduardo Bueno CP: 300273X\n",
        "---\n"
      ]
    },
    {
      "cell_type": "code",
      "metadata": {
        "id": "uUX4bh_7ZV89",
        "colab": {
          "base_uri": "https://localhost:8080/"
        },
        "outputId": "59118793-0a29-4892-8b8e-c8789122027a"
      },
      "source": [
        "from google.colab import drive\n",
        "drive.mount('/content/drive')"
      ],
      "execution_count": 1,
      "outputs": [
        {
          "output_type": "stream",
          "name": "stdout",
          "text": [
            "Mounted at /content/drive\n"
          ]
        }
      ]
    },
    {
      "cell_type": "markdown",
      "metadata": {
        "id": "iftewfmskgAR"
      },
      "source": [
        "Disciplina: Inteligência Artificial\n",
        "\n",
        "Professor: Samuel Martins\n",
        "\n",
        "\n",
        "---\n",
        "\n"
      ]
    },
    {
      "cell_type": "code",
      "metadata": {
        "id": "wU_UW2BNaSC7"
      },
      "source": [
        "import pandas as pd\n",
        "import seaborn as sns\n",
        "import matplotlib.pyplot as plt\n",
        "import numpy as np\n",
        "\n",
        "\n",
        "# estilos padrão para os plots/visualizações\n",
        "sns.set_theme(style=\"whitegrid\")\n",
        "plt.rcParams['figure.figsize'] = (10, 6)\n",
        "plt.rcParams['axes.labelsize'] = 14\n",
        "plt.rcParams['xtick.labelsize'] = 14\n",
        "plt.rcParams['xtick.labelsize'] = 14\n",
        "plt.rcParams['ytick.labelsize'] = 14"
      ],
      "execution_count": 2,
      "outputs": []
    },
    {
      "cell_type": "markdown",
      "metadata": {
        "id": "Us00x51rk4yj"
      },
      "source": [
        "### **1. Dataset**\n",
        "----\n",
        "Dataset: Top 8800 Twitch Streamers: https://www.kaggle.com/girlazo/top-8800-twitch-*streamers*\n",
        "\n",
        "Este dataset possui 8800 linhas, listando os melhores streamers do mundo na plataforma de stream Twitch, baseado em tempo assistido pelos usuários. Cada registro possui o nome do streamer, a quantidaded de vies e assinantes do canal, e outras informações como os três jogos mais jogados de cada streamer\n",
        "\n",
        "\n"
      ]
    },
    {
      "cell_type": "markdown",
      "metadata": {
        "id": "H4QwTqUKlrve"
      },
      "source": [
        "#### **1.1 Importando o Dataset**"
      ]
    },
    {
      "cell_type": "code",
      "metadata": {
        "id": "yLyD2kEwl04D"
      },
      "source": [
        "data = pd.read_csv('/content/drive/MyDrive/TwitchDataSetProcessado.csv')"
      ],
      "execution_count": 5,
      "outputs": []
    },
    {
      "cell_type": "code",
      "metadata": {
        "id": "nTSp2k6x2o6G"
      },
      "source": [
        "data.head()"
      ],
      "execution_count": null,
      "outputs": []
    },
    {
      "cell_type": "code",
      "metadata": {
        "id": "5MxefkLKb7np"
      },
      "source": [
        "data.info"
      ],
      "execution_count": null,
      "outputs": []
    },
    {
      "cell_type": "markdown",
      "metadata": {
        "id": "EuLlxZCBd9aZ"
      },
      "source": [
        "#### **1.2 Informações básicas do dataset**"
      ]
    },
    {
      "cell_type": "code",
      "metadata": {
        "id": "deIR5aQIeBPX"
      },
      "source": [
        "print(f'O dataset possui {data.shape[0]} exemplos/observações/amostras/linhas e {data.shape[1]} atributos/características/variáveis/colunas')"
      ],
      "execution_count": null,
      "outputs": []
    },
    {
      "cell_type": "code",
      "metadata": {
        "colab": {
          "base_uri": "https://localhost:8080/"
        },
        "id": "c0UrupqJeGXB",
        "outputId": "2660824f-8e23-4374-9937-aea3f4ea7929"
      },
      "source": [
        "data.info()"
      ],
      "execution_count": 17,
      "outputs": [
        {
          "output_type": "stream",
          "name": "stdout",
          "text": [
            "<class 'pandas.core.frame.DataFrame'>\n",
            "RangeIndex: 8389 entries, 0 to 8388\n",
            "Data columns (total 14 columns):\n",
            " #   Column           Non-Null Count  Dtype \n",
            "---  ------           --------------  ----- \n",
            " 0   topCount         8389 non-null   int64 \n",
            " 1   screenName       8389 non-null   object\n",
            " 2   watchTime        8389 non-null   int64 \n",
            " 3   streamTime       8389 non-null   int64 \n",
            " 4   peakViewers      8389 non-null   int64 \n",
            " 5   averageViewers   8389 non-null   int64 \n",
            " 6   followers        8389 non-null   int64 \n",
            " 7   followersGained  8389 non-null   int64 \n",
            " 8   viewsGained      8389 non-null   int64 \n",
            " 9   mature           8389 non-null   bool  \n",
            " 10  language         8389 non-null   object\n",
            " 11  firstCategory    8389 non-null   object\n",
            " 12  secondCategory   8389 non-null   object\n",
            " 13  thirdCategory    8389 non-null   object\n",
            "dtypes: bool(1), int64(8), object(5)\n",
            "memory usage: 860.3+ KB\n"
          ]
        }
      ]
    },
    {
      "cell_type": "markdown",
      "metadata": {
        "id": "OO4oeiZSeW79"
      },
      "source": [
        "**watchTime, followers e viewsGained** são variáveis dependentes e todas as demais são variáveis independentes."
      ]
    },
    {
      "cell_type": "markdown",
      "metadata": {
        "id": "rQZpky_od6b-"
      },
      "source": [
        "#### **1.3 Estatísticas Descritivas**"
      ]
    },
    {
      "cell_type": "code",
      "metadata": {
        "colab": {
          "base_uri": "https://localhost:8080/",
          "height": 297
        },
        "id": "OuNN8kKweyZF",
        "outputId": "eec89c3b-f8b0-4b83-fa69-31465599a00d"
      },
      "source": [
        "data.describe().round(2)"
      ],
      "execution_count": 18,
      "outputs": [
        {
          "output_type": "execute_result",
          "data": {
            "text/html": [
              "<div>\n",
              "<style scoped>\n",
              "    .dataframe tbody tr th:only-of-type {\n",
              "        vertical-align: middle;\n",
              "    }\n",
              "\n",
              "    .dataframe tbody tr th {\n",
              "        vertical-align: top;\n",
              "    }\n",
              "\n",
              "    .dataframe thead th {\n",
              "        text-align: right;\n",
              "    }\n",
              "</style>\n",
              "<table border=\"1\" class=\"dataframe\">\n",
              "  <thead>\n",
              "    <tr style=\"text-align: right;\">\n",
              "      <th></th>\n",
              "      <th>topCount</th>\n",
              "      <th>watchTime</th>\n",
              "      <th>streamTime</th>\n",
              "      <th>peakViewers</th>\n",
              "      <th>averageViewers</th>\n",
              "      <th>followers</th>\n",
              "      <th>followersGained</th>\n",
              "      <th>viewsGained</th>\n",
              "    </tr>\n",
              "  </thead>\n",
              "  <tbody>\n",
              "    <tr>\n",
              "      <th>count</th>\n",
              "      <td>8389.00</td>\n",
              "      <td>8.389000e+03</td>\n",
              "      <td>8389.00</td>\n",
              "      <td>8389.00</td>\n",
              "      <td>8389.00</td>\n",
              "      <td>8389.00</td>\n",
              "      <td>8389.00</td>\n",
              "      <td>8.389000e+03</td>\n",
              "    </tr>\n",
              "    <tr>\n",
              "      <th>mean</th>\n",
              "      <td>4394.24</td>\n",
              "      <td>7.659037e+07</td>\n",
              "      <td>87237.88</td>\n",
              "      <td>9303.67</td>\n",
              "      <td>1099.86</td>\n",
              "      <td>145144.44</td>\n",
              "      <td>60731.00</td>\n",
              "      <td>2.473236e+06</td>\n",
              "    </tr>\n",
              "    <tr>\n",
              "      <th>std</th>\n",
              "      <td>2536.45</td>\n",
              "      <td>2.376042e+08</td>\n",
              "      <td>64151.71</td>\n",
              "      <td>25539.45</td>\n",
              "      <td>2893.57</td>\n",
              "      <td>395978.34</td>\n",
              "      <td>163685.48</td>\n",
              "      <td>9.633958e+06</td>\n",
              "    </tr>\n",
              "    <tr>\n",
              "      <th>min</th>\n",
              "      <td>1.00</td>\n",
              "      <td>8.827995e+06</td>\n",
              "      <td>150.00</td>\n",
              "      <td>75.00</td>\n",
              "      <td>16.00</td>\n",
              "      <td>119.00</td>\n",
              "      <td>-178570.00</td>\n",
              "      <td>1.982000e+03</td>\n",
              "    </tr>\n",
              "    <tr>\n",
              "      <th>25%</th>\n",
              "      <td>2202.00</td>\n",
              "      <td>1.307338e+07</td>\n",
              "      <td>45570.00</td>\n",
              "      <td>1550.00</td>\n",
              "      <td>174.00</td>\n",
              "      <td>23273.00</td>\n",
              "      <td>7692.00</td>\n",
              "      <td>3.619410e+05</td>\n",
              "    </tr>\n",
              "    <tr>\n",
              "      <th>50%</th>\n",
              "      <td>4388.00</td>\n",
              "      <td>2.230203e+07</td>\n",
              "      <td>78450.00</td>\n",
              "      <td>3423.00</td>\n",
              "      <td>351.00</td>\n",
              "      <td>53333.00</td>\n",
              "      <td>19513.00</td>\n",
              "      <td>7.697760e+05</td>\n",
              "    </tr>\n",
              "    <tr>\n",
              "      <th>75%</th>\n",
              "      <td>6585.00</td>\n",
              "      <td>5.232114e+07</td>\n",
              "      <td>114345.00</td>\n",
              "      <td>8212.00</td>\n",
              "      <td>894.00</td>\n",
              "      <td>132782.00</td>\n",
              "      <td>53467.00</td>\n",
              "      <td>2.103522e+06</td>\n",
              "    </tr>\n",
              "    <tr>\n",
              "      <th>max</th>\n",
              "      <td>8800.00</td>\n",
              "      <td>7.333609e+09</td>\n",
              "      <td>521115.00</td>\n",
              "      <td>1016962.00</td>\n",
              "      <td>89278.00</td>\n",
              "      <td>16042584.00</td>\n",
              "      <td>4681567.00</td>\n",
              "      <td>6.848357e+08</td>\n",
              "    </tr>\n",
              "  </tbody>\n",
              "</table>\n",
              "</div>"
            ],
            "text/plain": [
              "       topCount     watchTime  ...  followersGained   viewsGained\n",
              "count   8389.00  8.389000e+03  ...          8389.00  8.389000e+03\n",
              "mean    4394.24  7.659037e+07  ...         60731.00  2.473236e+06\n",
              "std     2536.45  2.376042e+08  ...        163685.48  9.633958e+06\n",
              "min        1.00  8.827995e+06  ...       -178570.00  1.982000e+03\n",
              "25%     2202.00  1.307338e+07  ...          7692.00  3.619410e+05\n",
              "50%     4388.00  2.230203e+07  ...         19513.00  7.697760e+05\n",
              "75%     6585.00  5.232114e+07  ...         53467.00  2.103522e+06\n",
              "max     8800.00  7.333609e+09  ...       4681567.00  6.848357e+08\n",
              "\n",
              "[8 rows x 8 columns]"
            ]
          },
          "metadata": {},
          "execution_count": 18
        }
      ]
    },
    {
      "cell_type": "code",
      "metadata": {
        "colab": {
          "base_uri": "https://localhost:8080/",
          "height": 964
        },
        "id": "qQCEPNjMe0CD",
        "outputId": "7cc7be2a-aa85-4267-a8e5-9dc513ec9ae9"
      },
      "source": [
        "import matplotlib.cm as cm\n",
        "cmap = cm.get_cmap('Set1').colors  # color map\n",
        "\n",
        "fig = plt.figure(figsize=(30, 18))\n",
        "\n",
        "atributos = ['watchTime', 'followers', 'viewsGained']\n",
        "n_atributos = len(atributos)\n",
        "\n",
        "for idx, atributo in enumerate(atributos):\n",
        "    print(idx, atributo)\n",
        "    axis_1 = fig.add_subplot(n_atributos, 2, 2*idx + 1)\n",
        "    axis_1.set_xlabel(atributo)\n",
        "    axis_1.set_ylabel('Frequência')\n",
        "    sns.histplot(data=data, x=atributo, ax=axis_1, color=cmap[idx])\n",
        "\n",
        "    axis_2 = fig.add_subplot(n_atributos, 2, 2*idx + 2)\n",
        "    sns.boxplot(data=data, y=atributo, ax=axis_2, color=cmap[idx])\n"
      ],
      "execution_count": 22,
      "outputs": [
        {
          "output_type": "stream",
          "name": "stdout",
          "text": [
            "0 watchTime\n",
            "1 followers\n",
            "2 viewsGained\n"
          ]
        },
        {
          "output_type": "display_data",
          "data": {
            "image/png": "[encoded data removed]",
            "text/plain": [
              "<Figure size 2160x1296 with 6 Axes>"
            ]
          },
          "metadata": {}
        }
      ]
    },
    {
      "cell_type": "markdown",
      "metadata": {
        "id": "u1Xw5Vjefg34"
      },
      "source": [
        "### **2. Análise**"
      ]
    },
    {
      "cell_type": "markdown",
      "metadata": {
        "id": "KARut732frA3"
      },
      "source": [
        "#### **2.1 Analisando as Categorias de jogos (Variável Categórica)**"
      ]
    },
    {
      "cell_type": "markdown",
      "metadata": {
        "id": "kFuc4g_5fxeP"
      },
      "source": [
        "Proporção de observações por Jogo"
      ]
    },
    {
      "cell_type": "code",
      "metadata": {
        "colab": {
          "base_uri": "https://localhost:8080/"
        },
        "id": "YL2KFPeNf0uI",
        "outputId": "dc1146da-1e40-43f6-c325-b7740f66fb23"
      },
      "source": [
        "data.groupby('firstCategory').size()"
      ],
      "execution_count": 31,
      "outputs": [
        {
          "output_type": "execute_result",
          "data": {
            "text/plain": [
              "firstCategory\n",
              "7 Days to Die                            11\n",
              "ARK: Survival Evolved                    21\n",
              "ASMR                                     32\n",
              "Age of Empires II: Definitive Edition    17\n",
              "Albion Online                             9\n",
              "                                         ..\n",
              "Yu-Gi-Oh! Saikyo Card Battle              2\n",
              "eBaseball Powerful Pro Yakyū 2020         2\n",
              "eFootball PES 2020                        2\n",
              "iRacing                                  19\n",
              "osu!                                     10\n",
              "Length: 393, dtype: int64"
            ]
          },
          "metadata": {},
          "execution_count": 31
        }
      ]
    },
    {
      "cell_type": "code",
      "metadata": {
        "colab": {
          "base_uri": "https://localhost:8080/",
          "height": 450
        },
        "id": "fMhfZzcEhqkr",
        "outputId": "e1044030-d5af-4230-92e4-63afdfe988a4"
      },
      "source": [
        "data.groupby('firstCategory')['watchTime'].describe()\n"
      ],
      "execution_count": 36,
      "outputs": [
        {
          "output_type": "execute_result",
          "data": {
            "text/html": [
              "<div>\n",
              "<style scoped>\n",
              "    .dataframe tbody tr th:only-of-type {\n",
              "        vertical-align: middle;\n",
              "    }\n",
              "\n",
              "    .dataframe tbody tr th {\n",
              "        vertical-align: top;\n",
              "    }\n",
              "\n",
              "    .dataframe thead th {\n",
              "        text-align: right;\n",
              "    }\n",
              "</style>\n",
              "<table border=\"1\" class=\"dataframe\">\n",
              "  <thead>\n",
              "    <tr style=\"text-align: right;\">\n",
              "      <th></th>\n",
              "      <th>count</th>\n",
              "      <th>mean</th>\n",
              "      <th>std</th>\n",
              "      <th>min</th>\n",
              "      <th>25%</th>\n",
              "      <th>50%</th>\n",
              "      <th>75%</th>\n",
              "      <th>max</th>\n",
              "    </tr>\n",
              "    <tr>\n",
              "      <th>firstCategory</th>\n",
              "      <th></th>\n",
              "      <th></th>\n",
              "      <th></th>\n",
              "      <th></th>\n",
              "      <th></th>\n",
              "      <th></th>\n",
              "      <th></th>\n",
              "      <th></th>\n",
              "    </tr>\n",
              "  </thead>\n",
              "  <tbody>\n",
              "    <tr>\n",
              "      <th>7 Days to Die</th>\n",
              "      <td>11.0</td>\n",
              "      <td>1.963324e+07</td>\n",
              "      <td>8.619656e+06</td>\n",
              "      <td>8914095.0</td>\n",
              "      <td>13071742.50</td>\n",
              "      <td>18757890.0</td>\n",
              "      <td>24787335.00</td>\n",
              "      <td>36122595.0</td>\n",
              "    </tr>\n",
              "    <tr>\n",
              "      <th>ARK: Survival Evolved</th>\n",
              "      <td>21.0</td>\n",
              "      <td>2.007364e+07</td>\n",
              "      <td>1.179068e+07</td>\n",
              "      <td>9294750.0</td>\n",
              "      <td>10925970.00</td>\n",
              "      <td>15385785.0</td>\n",
              "      <td>28336785.00</td>\n",
              "      <td>58319385.0</td>\n",
              "    </tr>\n",
              "    <tr>\n",
              "      <th>ASMR</th>\n",
              "      <td>32.0</td>\n",
              "      <td>2.284483e+07</td>\n",
              "      <td>1.692817e+07</td>\n",
              "      <td>8952465.0</td>\n",
              "      <td>12183296.25</td>\n",
              "      <td>18562567.5</td>\n",
              "      <td>23066437.50</td>\n",
              "      <td>75051345.0</td>\n",
              "    </tr>\n",
              "    <tr>\n",
              "      <th>Age of Empires II: Definitive Edition</th>\n",
              "      <td>17.0</td>\n",
              "      <td>6.401046e+07</td>\n",
              "      <td>7.275692e+07</td>\n",
              "      <td>8939145.0</td>\n",
              "      <td>22132830.00</td>\n",
              "      <td>37567440.0</td>\n",
              "      <td>90334410.00</td>\n",
              "      <td>305562645.0</td>\n",
              "    </tr>\n",
              "    <tr>\n",
              "      <th>Albion Online</th>\n",
              "      <td>9.0</td>\n",
              "      <td>1.314042e+07</td>\n",
              "      <td>4.354690e+06</td>\n",
              "      <td>8872905.0</td>\n",
              "      <td>9288720.00</td>\n",
              "      <td>13196895.0</td>\n",
              "      <td>15587415.00</td>\n",
              "      <td>20150805.0</td>\n",
              "    </tr>\n",
              "    <tr>\n",
              "      <th>...</th>\n",
              "      <td>...</td>\n",
              "      <td>...</td>\n",
              "      <td>...</td>\n",
              "      <td>...</td>\n",
              "      <td>...</td>\n",
              "      <td>...</td>\n",
              "      <td>...</td>\n",
              "      <td>...</td>\n",
              "    </tr>\n",
              "    <tr>\n",
              "      <th>Yu-Gi-Oh! Saikyo Card Battle</th>\n",
              "      <td>2.0</td>\n",
              "      <td>4.079639e+07</td>\n",
              "      <td>2.860118e+07</td>\n",
              "      <td>20572305.0</td>\n",
              "      <td>30684348.75</td>\n",
              "      <td>40796392.5</td>\n",
              "      <td>50908436.25</td>\n",
              "      <td>61020480.0</td>\n",
              "    </tr>\n",
              "    <tr>\n",
              "      <th>eBaseball Powerful Pro Yakyū 2020</th>\n",
              "      <td>2.0</td>\n",
              "      <td>5.025609e+07</td>\n",
              "      <td>5.742991e+07</td>\n",
              "      <td>9647010.0</td>\n",
              "      <td>29951550.00</td>\n",
              "      <td>50256090.0</td>\n",
              "      <td>70560630.00</td>\n",
              "      <td>90865170.0</td>\n",
              "    </tr>\n",
              "    <tr>\n",
              "      <th>eFootball PES 2020</th>\n",
              "      <td>2.0</td>\n",
              "      <td>2.269654e+07</td>\n",
              "      <td>3.557433e+06</td>\n",
              "      <td>20181060.0</td>\n",
              "      <td>21438802.50</td>\n",
              "      <td>22696545.0</td>\n",
              "      <td>23954287.50</td>\n",
              "      <td>25212030.0</td>\n",
              "    </tr>\n",
              "    <tr>\n",
              "      <th>iRacing</th>\n",
              "      <td>19.0</td>\n",
              "      <td>2.018715e+07</td>\n",
              "      <td>1.330813e+07</td>\n",
              "      <td>9601905.0</td>\n",
              "      <td>12408450.00</td>\n",
              "      <td>15735315.0</td>\n",
              "      <td>19946655.00</td>\n",
              "      <td>62112030.0</td>\n",
              "    </tr>\n",
              "    <tr>\n",
              "      <th>osu!</th>\n",
              "      <td>10.0</td>\n",
              "      <td>2.392081e+07</td>\n",
              "      <td>3.290073e+07</td>\n",
              "      <td>9975915.0</td>\n",
              "      <td>11333696.25</td>\n",
              "      <td>11835720.0</td>\n",
              "      <td>15377932.50</td>\n",
              "      <td>116711205.0</td>\n",
              "    </tr>\n",
              "  </tbody>\n",
              "</table>\n",
              "<p>393 rows × 8 columns</p>\n",
              "</div>"
            ],
            "text/plain": [
              "                                       count  ...          max\n",
              "firstCategory                                 ...             \n",
              "7 Days to Die                           11.0  ...   36122595.0\n",
              "ARK: Survival Evolved                   21.0  ...   58319385.0\n",
              "ASMR                                    32.0  ...   75051345.0\n",
              "Age of Empires II: Definitive Edition   17.0  ...  305562645.0\n",
              "Albion Online                            9.0  ...   20150805.0\n",
              "...                                      ...  ...          ...\n",
              "Yu-Gi-Oh! Saikyo Card Battle             2.0  ...   61020480.0\n",
              "eBaseball Powerful Pro Yakyū 2020        2.0  ...   90865170.0\n",
              "eFootball PES 2020                       2.0  ...   25212030.0\n",
              "iRacing                                 19.0  ...   62112030.0\n",
              "osu!                                    10.0  ...  116711205.0\n",
              "\n",
              "[393 rows x 8 columns]"
            ]
          },
          "metadata": {},
          "execution_count": 36
        }
      ]
    }
  ]
}